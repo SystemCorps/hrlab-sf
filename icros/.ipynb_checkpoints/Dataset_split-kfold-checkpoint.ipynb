{
 "cells": [
  {
   "cell_type": "code",
   "execution_count": 1,
   "metadata": {
    "scrolled": true
   },
   "outputs": [
    {
     "name": "stderr",
     "output_type": "stream",
     "text": [
      "/usr/local/lib/python3.5/dist-packages/h5py/__init__.py:36: FutureWarning: Conversion of the second argument of issubdtype from `float` to `np.floating` is deprecated. In future, it will be treated as `np.float64 == np.dtype(float).type`.\n",
      "  from ._conv import register_converters as _register_converters\n",
      "/usr/local/lib/python3.5/dist-packages/sklearn/cross_validation.py:41: DeprecationWarning: This module was deprecated in version 0.18 in favor of the model_selection module into which all the refactored classes and functions are moved. Also note that the interface of the new CV iterators are different from that of this module. This module will be removed in 0.20.\n",
      "  \"This module will be removed in 0.20.\", DeprecationWarning)\n"
     ]
    }
   ],
   "source": [
    "from __future__ import absolute_import\n",
    "from __future__ import division\n",
    "from __future__ import print_function\n",
    "\n",
    "import numpy as np\n",
    "import tensorflow as tf\n",
    "\n",
    "import cv2\n",
    "import matplotlib.pyplot as plt\n",
    "from sklearn.cross_validation import train_test_split\n",
    "import random\n",
    "\n",
    "import json\n",
    "\n",
    "from glob import glob"
   ]
  },
  {
   "cell_type": "code",
   "execution_count": 2,
   "metadata": {},
   "outputs": [],
   "source": [
    "# GPU selection (memory)\n",
    "import os\n",
    "#os.environ[\"CUDA_DEVICE_ORDER\"]=\"PCI_BUS_ID\"   \n",
    "#os.environ[\"CUDA_VISIBLE_DEVICES\"]=\"0\""
   ]
  },
  {
   "cell_type": "code",
   "execution_count": 3,
   "metadata": {},
   "outputs": [],
   "source": [
    "# Data info.\n",
    "\n",
    "width = 640\n",
    "height = 480\n",
    "channel = 3\n",
    "\n",
    "\n",
    "# resize\n",
    "r_w = 512\n",
    "r_h = 512\n",
    "\n",
    "total_pix = r_w * r_h * channel"
   ]
  },
  {
   "cell_type": "code",
   "execution_count": 4,
   "metadata": {},
   "outputs": [
    {
     "name": "stdout",
     "output_type": "stream",
     "text": [
      "2136 2427\n"
     ]
    }
   ],
   "source": [
    "image_dir1 = '/dataset_full/'\n",
    "class_name1 = ['Untorn', 'Torn']\n",
    "\n",
    "data_dir1 = {}\n",
    "for i in range(len(class_name1)):\n",
    "    temp_dir = image_dir1 + class_name1[i]\n",
    "    img_files = [os.path.join(temp_dir, f) for f in os.listdir(temp_dir) if f.endswith('.png')]\n",
    "    data_dir1[i] = img_files\n",
    "print(len(data_dir1[0]), len(data_dir1[1]))"
   ]
  },
  {
   "cell_type": "code",
   "execution_count": 5,
   "metadata": {},
   "outputs": [],
   "source": [
    "data_dir = data_dir1[0]\n",
    "data_dir.extend(data_dir1[1])"
   ]
  },
  {
   "cell_type": "code",
   "execution_count": 6,
   "metadata": {
    "scrolled": true
   },
   "outputs": [
    {
     "name": "stdout",
     "output_type": "stream",
     "text": [
      "4563\n",
      "/dataset_full/Untorn/Untorn (416).png\n",
      "/dataset_full/Untorn/Untorn (545).png\n"
     ]
    }
   ],
   "source": [
    "print(len(data_dir))\n",
    "print(data_dir[0])\n",
    "random.shuffle(data_dir)\n",
    "print(data_dir[0])"
   ]
  },
  {
   "cell_type": "code",
   "execution_count": 10,
   "metadata": {},
   "outputs": [],
   "source": [
    "k = 5\n",
    "\n",
    "split_data_dir = {}\n",
    "for i in range(k):\n",
    "    t_len = len(data_dir)\n",
    "    split = int(t_len/k)\n",
    "    \n",
    "    if i < k-1:\n",
    "        split_data_dir['%d'%i] = data_dir[i*split:(i+1)*split]\n",
    "    else:\n",
    "        split_data_dir['%d'%i] = data_dir[i*split:]"
   ]
  },
  {
   "cell_type": "code",
   "execution_count": 13,
   "metadata": {},
   "outputs": [
    {
     "name": "stdout",
     "output_type": "stream",
     "text": [
      "912\n"
     ]
    }
   ],
   "source": [
    "a = []\n",
    "a.extend(split_data_dir['0'])\n",
    "print(len(a))"
   ]
  },
  {
   "cell_type": "code",
   "execution_count": 17,
   "metadata": {},
   "outputs": [],
   "source": [
    "tr_data_dir = {}\n",
    "\n",
    "for i in range(k):\n",
    "    temp_train = []\n",
    "    temp_val = []\n",
    "    \n",
    "    for j in range(k):\n",
    "        if j != i:\n",
    "            temp_train.extend(split_data_dir['%d'%j])\n",
    "        else:\n",
    "            temp_val.extend(split_data_dir['%d'%j])\n",
    "    \n",
    "    tr_data_dir['train%d'%i] = temp_train\n",
    "    tr_data_dir['valid%d'%i] = temp_val"
   ]
  },
  {
   "cell_type": "code",
   "execution_count": 29,
   "metadata": {},
   "outputs": [
    {
     "name": "stdout",
     "output_type": "stream",
     "text": [
      "3648 915\n",
      "/dataset_full/Untorn/Untorn (545).png /dataset_full/Untorn/Untorn (526).png\n"
     ]
    }
   ],
   "source": [
    "ii=4\n",
    "print(len(tr_data_dir['train%d'%ii]), len(tr_data_dir['valid%d'%ii]))\n",
    "print(tr_data_dir['train%d'%ii][0], tr_data_dir['valid%d'%ii][0])"
   ]
  },
  {
   "cell_type": "code",
   "execution_count": 30,
   "metadata": {},
   "outputs": [],
   "source": [
    "def default(o):\n",
    "    if isinstance(o, (np.int_, np.intc, np.intp, np.int8,\n",
    "                      np.int16, np.int32, np.int64, np.uint8,\n",
    "                      np.uint16,np.uint32, np.uint64)):\n",
    "        return int(o)\n",
    "\n",
    "    raise TypeError\n",
    "\n",
    "with open('./data_split/5fold_0802.txt', 'w') as file:\n",
    "    file.write(json.dumps(tr_data_dir, default=default))"
   ]
  }
 ],
 "metadata": {
  "kernelspec": {
   "display_name": "Python 3",
   "language": "python",
   "name": "python3"
  },
  "language_info": {
   "codemirror_mode": {
    "name": "ipython",
    "version": 3
   },
   "file_extension": ".py",
   "mimetype": "text/x-python",
   "name": "python",
   "nbconvert_exporter": "python",
   "pygments_lexer": "ipython3",
   "version": "3.5.2"
  }
 },
 "nbformat": 4,
 "nbformat_minor": 2
}
