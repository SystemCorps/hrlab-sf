{
 "cells": [
  {
   "cell_type": "code",
   "execution_count": 1,
   "metadata": {
    "scrolled": true
   },
   "outputs": [
    {
     "name": "stderr",
     "output_type": "stream",
     "text": [
      "/usr/local/lib/python3.5/dist-packages/h5py/__init__.py:36: FutureWarning: Conversion of the second argument of issubdtype from `float` to `np.floating` is deprecated. In future, it will be treated as `np.float64 == np.dtype(float).type`.\n",
      "  from ._conv import register_converters as _register_converters\n",
      "/usr/local/lib/python3.5/dist-packages/sklearn/cross_validation.py:41: DeprecationWarning: This module was deprecated in version 0.18 in favor of the model_selection module into which all the refactored classes and functions are moved. Also note that the interface of the new CV iterators are different from that of this module. This module will be removed in 0.20.\n",
      "  \"This module will be removed in 0.20.\", DeprecationWarning)\n"
     ]
    }
   ],
   "source": [
    "from __future__ import absolute_import\n",
    "from __future__ import division\n",
    "from __future__ import print_function\n",
    "\n",
    "import numpy as np\n",
    "import tensorflow as tf\n",
    "\n",
    "import cv2\n",
    "import matplotlib.pyplot as plt\n",
    "from sklearn.cross_validation import train_test_split\n",
    "import random\n",
    "\n",
    "import json\n",
    "\n",
    "from glob import glob"
   ]
  },
  {
   "cell_type": "code",
   "execution_count": 2,
   "metadata": {},
   "outputs": [],
   "source": [
    "# GPU selection (memory)\n",
    "import os\n",
    "#os.environ[\"CUDA_DEVICE_ORDER\"]=\"PCI_BUS_ID\"   \n",
    "#os.environ[\"CUDA_VISIBLE_DEVICES\"]=\"0\""
   ]
  },
  {
   "cell_type": "code",
   "execution_count": 3,
   "metadata": {},
   "outputs": [],
   "source": [
    "# Data info.\n",
    "\n",
    "width = 640\n",
    "height = 480\n",
    "channel = 3\n",
    "\n",
    "\n",
    "# resize\n",
    "r_w = 512\n",
    "r_h = 512\n",
    "\n",
    "total_pix = r_w * r_h * channel"
   ]
  },
  {
   "cell_type": "code",
   "execution_count": 4,
   "metadata": {},
   "outputs": [],
   "source": [
    "def data_process(d_dir, r1, r2, r3):\n",
    "    \n",
    "    total = r1 + r2 + r3\n",
    "    \n",
    "    if total == 1:\n",
    "        num_class = len(d_dir.keys())\n",
    "\n",
    "        out = {}\n",
    "\n",
    "        r_v = r2 / (r1+r2)\n",
    "        \n",
    "        for i in range(num_class):\n",
    "            \n",
    "            x_1, x_test = train_test_split(d_dir[i], test_size=r3)\n",
    "\n",
    "            if i == 0:\n",
    "                train_1 = x_1\n",
    "                test_temp = x_test\n",
    "            else:\n",
    "                train_1.extend(x_1)\n",
    "                test_temp.extend(x_test)\n",
    "\n",
    "        random.shuffle(train_1)\n",
    "        \n",
    "        train_idx = int(len(train_1) * r1/(r1+r2))\n",
    "        \n",
    "        out['train'] = train_1[0:train_idx]\n",
    "        out['valid'] = train_1[train_idx:]\n",
    "        \n",
    "        random.shuffle(test_temp)\n",
    "        out['test'] = test_temp\n",
    "    \n",
    "    return out"
   ]
  },
  {
   "cell_type": "code",
   "execution_count": 5,
   "metadata": {},
   "outputs": [
    {
     "name": "stdout",
     "output_type": "stream",
     "text": [
      "2136 2427\n"
     ]
    }
   ],
   "source": [
    "image_dir1 = '/dataset_full/'\n",
    "class_name1 = ['Untorn', 'Torn']\n",
    "\n",
    "data_dir1 = {}\n",
    "for i in range(len(class_name1)):\n",
    "    temp_dir = image_dir1 + class_name1[i]\n",
    "    img_files = [os.path.join(temp_dir, f) for f in os.listdir(temp_dir) if f.endswith('.png')]\n",
    "    data_dir1[i] = img_files\n",
    "print(len(data_dir1[0]), len(data_dir1[1]))"
   ]
  },
  {
   "cell_type": "code",
   "execution_count": 6,
   "metadata": {},
   "outputs": [],
   "source": [
    "r_train = 0.8\n",
    "r_valid = 0.05\n",
    "r_test = 0.15\n",
    "tr_data_dir = data_process(data_dir1, r_train, r_valid, r_test)"
   ]
  },
  {
   "cell_type": "code",
   "execution_count": 7,
   "metadata": {},
   "outputs": [
    {
     "name": "stdout",
     "output_type": "stream",
     "text": [
      "3648 229 686\n",
      "4563\n",
      "0.799474030243261 0.050186280955511725 0.15033968880122725\n"
     ]
    }
   ],
   "source": [
    "print(len(tr_data_dir['train']), len(tr_data_dir['valid']), len(tr_data_dir['test']))\n",
    "print(len(tr_data_dir['train'])+len(tr_data_dir['valid'])+len(tr_data_dir['test']))\n",
    "print(len(tr_data_dir['train'])/4563, len(tr_data_dir['valid'])/4563, len(tr_data_dir['test'])/4563)"
   ]
  },
  {
   "cell_type": "code",
   "execution_count": 8,
   "metadata": {},
   "outputs": [],
   "source": [
    "def default(o):\n",
    "    if isinstance(o, (np.int_, np.intc, np.intp, np.int8,\n",
    "                      np.int16, np.int32, np.int64, np.uint8,\n",
    "                      np.uint16,np.uint32, np.uint64)):\n",
    "        return int(o)\n",
    "\n",
    "    raise TypeError\n",
    "\n",
    "with open('./data_split/data_dir_0801.txt', 'w') as file:\n",
    "    file.write(json.dumps(tr_data_dir, default=default))"
   ]
  }
 ],
 "metadata": {
  "kernelspec": {
   "display_name": "Python 3",
   "language": "python",
   "name": "python3"
  },
  "language_info": {
   "codemirror_mode": {
    "name": "ipython",
    "version": 3
   },
   "file_extension": ".py",
   "mimetype": "text/x-python",
   "name": "python",
   "nbconvert_exporter": "python",
   "pygments_lexer": "ipython3",
   "version": "3.5.2"
  }
 },
 "nbformat": 4,
 "nbformat_minor": 2
}
