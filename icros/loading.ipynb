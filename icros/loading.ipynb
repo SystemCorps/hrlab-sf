{
 "cells": [
  {
   "cell_type": "code",
   "execution_count": 1,
   "metadata": {
    "scrolled": true
   },
   "outputs": [
    {
     "name": "stderr",
     "output_type": "stream",
     "text": [
      "/usr/local/lib/python3.5/dist-packages/h5py/__init__.py:36: FutureWarning: Conversion of the second argument of issubdtype from `float` to `np.floating` is deprecated. In future, it will be treated as `np.float64 == np.dtype(float).type`.\n",
      "  from ._conv import register_converters as _register_converters\n",
      "/usr/local/lib/python3.5/dist-packages/sklearn/cross_validation.py:41: DeprecationWarning: This module was deprecated in version 0.18 in favor of the model_selection module into which all the refactored classes and functions are moved. Also note that the interface of the new CV iterators are different from that of this module. This module will be removed in 0.20.\n",
      "  \"This module will be removed in 0.20.\", DeprecationWarning)\n"
     ]
    }
   ],
   "source": [
    "from __future__ import absolute_import\n",
    "from __future__ import division\n",
    "from __future__ import print_function\n",
    "\n",
    "import numpy as np\n",
    "import tensorflow as tf\n",
    "\n",
    "import cv2\n",
    "import matplotlib.pyplot as plt\n",
    "from sklearn.cross_validation import train_test_split\n",
    "import random\n",
    "\n",
    "import json\n",
    "\n",
    "from glob import glob"
   ]
  },
  {
   "cell_type": "code",
   "execution_count": 2,
   "metadata": {},
   "outputs": [],
   "source": [
    "# GPU selection (memory)\n",
    "import os\n",
    "#os.environ[\"CUDA_DEVICE_ORDER\"]=\"PCI_BUS_ID\"   \n",
    "#os.environ[\"CUDA_VISIBLE_DEVICES\"]=\"0\""
   ]
  },
  {
   "cell_type": "code",
   "execution_count": 3,
   "metadata": {},
   "outputs": [],
   "source": [
    "# Data info.\n",
    "\n",
    "width = 640\n",
    "height = 480\n",
    "channel = 3\n",
    "\n",
    "\n",
    "# resize\n",
    "r_w = 224\n",
    "r_h = 224\n",
    "\n",
    "total_pix = r_w * r_h * channel"
   ]
  },
  {
   "cell_type": "code",
   "execution_count": 4,
   "metadata": {},
   "outputs": [],
   "source": [
    "data_txt = open('./data_split/5fold_0802.txt', 'r')\n",
    "data_json = data_txt.read()\n",
    "tr_data_dir = json.loads(data_json)"
   ]
  },
  {
   "cell_type": "code",
   "execution_count": 5,
   "metadata": {},
   "outputs": [
    {
     "name": "stdout",
     "output_type": "stream",
     "text": [
      "/dataset_full/Untorn/Untorn (545).png\n"
     ]
    }
   ],
   "source": [
    "print(tr_data_dir['valid0'][0])"
   ]
  },
  {
   "cell_type": "code",
   "execution_count": 39,
   "metadata": {},
   "outputs": [],
   "source": [
    "selection = 4"
   ]
  },
  {
   "cell_type": "code",
   "execution_count": 40,
   "metadata": {},
   "outputs": [],
   "source": [
    "add_dir = '/hdd3/dhj_container/DB'\n",
    "val_data = np.zeros((len(tr_data_dir['valid%d'%selection]), total_pix), dtype=np.float32)\n",
    "val_label = np.zeros((len(tr_data_dir['valid%d'%selection]), 1), dtype=np.int32)"
   ]
  },
  {
   "cell_type": "code",
   "execution_count": 41,
   "metadata": {},
   "outputs": [],
   "source": [
    "for i in range(len(val_data)):\n",
    "    img = cv2.imread(add_dir+tr_data_dir['valid%d'%selection][i])\n",
    "    img2 = cv2.resize(img, (r_w, r_h), interpolation=cv2.INTER_CUBIC)\n",
    "    val_data[i,:] = img2.flatten()\n",
    "    if 'Untorn' in (add_dir+tr_data_dir['valid%d'%selection][i]):\n",
    "        val_label[i] = 0\n",
    "    else: val_label[i] = 1"
   ]
  },
  {
   "cell_type": "code",
   "execution_count": 43,
   "metadata": {},
   "outputs": [
    {
     "name": "stdout",
     "output_type": "stream",
     "text": [
      "INFO:tensorflow:Restoring parameters from /hdd3/dhj_container/ICROS_vgg/kfold0803_4/model.ckpt-3420\n"
     ]
    }
   ],
   "source": [
    "f_dir1 = '/hdd3/dhj_container/ICROS_vgg/kfold0803_%d/model.ckpt-3420.meta' % selection\n",
    "f_dir2 = '/hdd3/dhj_container/ICROS_vgg/kfold0803_%d/' % selection\n",
    "\n",
    "#f_dir1 = '/models/ICROS_re/Train_3/model.ckpt-2280.meta'\n",
    "#f_dir2 = '/models/ICROS_re/Train_3/'\n",
    "\n",
    "#ev_in = test_data\n",
    "#ev_in_label = test_label\n",
    "\n",
    "ev_in = val_data\n",
    "ev_in_label = val_label\n",
    "\n",
    "saver = tf.train.import_meta_graph(f_dir1)\n",
    "batch = 64\n",
    "ev_steps = int(ev_in_label.shape[0]/batch)\n",
    "ev_acc = np.zeros(ev_in_label.shape[0])\n",
    "\n",
    "with tf.Session() as sess:\n",
    "    \n",
    "    new_saver = tf.train.import_meta_graph(f_dir1)\n",
    "    new_saver.restore(sess, tf.train.latest_checkpoint(f_dir2))\n",
    "    graph = tf.get_default_graph()\n",
    "    #for op in tf.get_default_graph().get_operations():\n",
    "        #print(op.name)\n",
    "        #print(op.values())\n",
    "        \n",
    "    data_in = graph.get_tensor_by_name(\"fifo_queue_DequeueUpTo:1\")\n",
    "\n",
    "    #feed_dict={data_in:ev_data[0:10], label:ev_label[0:10]}\n",
    "    keep_prob1 = graph.get_tensor_by_name(\"dropout6/dropout/keep_prob:0\")\n",
    "    keep_prob2 = graph.get_tensor_by_name(\"dropout7/dropout/keep_prob:0\")\n",
    "    for i in range(ev_steps):\n",
    "        if i < (ev_steps-1):\n",
    "            feed_dict={data_in:ev_in[batch*i:batch*(i+1)], keep_prob1:1.0, keep_prob2:1.0}\n",
    "            label = ev_in_label[batch*i:batch*(i+1)].reshape(batch)\n",
    "        else:\n",
    "            feed_dict={data_in:ev_in[batch*i:], keep_prob1:1.0, keep_prob2:1.0}\n",
    "            temp = ev_in_label[batch*i:]\n",
    "            label = temp.reshape(len(temp))\n",
    "        \n",
    "        prob = graph.get_tensor_by_name(\"softmax_tensor:0\")\n",
    "        classes = graph.get_tensor_by_name(\"ArgMax:0\")\n",
    "        \n",
    "        \n",
    "        result_pr = sess.run(prob, feed_dict=feed_dict)\n",
    "        result_cl = sess.run(classes, feed_dict=feed_dict)\n",
    "        \n",
    "        #print(result_pr)\n",
    "        #print(result_cl)\n",
    "        #print(label)\n",
    "\n",
    "        acc = np.equal(result_cl, label).reshape((1,len(label)))*1\n",
    "        \n",
    "        #print(acc)\n",
    "        #print(np.mean(acc))\n",
    "        \n",
    "        if i < (ev_steps-1):\n",
    "            ev_acc[batch*i:batch*(i+1)] = acc\n",
    "        else:\n",
    "            ev_acc[batch*i:] = acc\n"
   ]
  },
  {
   "cell_type": "code",
   "execution_count": 44,
   "metadata": {},
   "outputs": [
    {
     "name": "stdout",
     "output_type": "stream",
     "text": [
      "1.0\n",
      "0.9923497267759562\n",
      "7\n"
     ]
    }
   ],
   "source": [
    "print(ev_acc[-1])\n",
    "print(np.mean(ev_acc))\n",
    "fails = np.where(ev_acc == 0)\n",
    "print(len(fails[0]))"
   ]
  },
  {
   "cell_type": "code",
   "execution_count": 45,
   "metadata": {},
   "outputs": [],
   "source": [
    "tests = np.array([98.79, 99.12, 98.03, 98.46, 99.23])"
   ]
  },
  {
   "cell_type": "code",
   "execution_count": 46,
   "metadata": {},
   "outputs": [
    {
     "name": "stdout",
     "output_type": "stream",
     "text": [
      "98.72600000000001 0.4401181659509205\n"
     ]
    }
   ],
   "source": [
    "print(np.mean(tests), np.std(tests))"
   ]
  },
  {
   "cell_type": "code",
   "execution_count": 47,
   "metadata": {},
   "outputs": [
    {
     "name": "stdout",
     "output_type": "stream",
     "text": [
      "(array([204, 213, 215, 219, 276, 320, 614]),)\n"
     ]
    }
   ],
   "source": [
    "print(fails)"
   ]
  },
  {
   "cell_type": "code",
   "execution_count": null,
   "metadata": {},
   "outputs": [],
   "source": []
  }
 ],
 "metadata": {
  "kernelspec": {
   "display_name": "Python 3",
   "language": "python",
   "name": "python3"
  },
  "language_info": {
   "codemirror_mode": {
    "name": "ipython",
    "version": 3
   },
   "file_extension": ".py",
   "mimetype": "text/x-python",
   "name": "python",
   "nbconvert_exporter": "python",
   "pygments_lexer": "ipython3",
   "version": "3.5.2"
  }
 },
 "nbformat": 4,
 "nbformat_minor": 2
}
