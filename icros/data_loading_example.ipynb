{
 "cells": [
  {
   "cell_type": "code",
   "execution_count": 1,
   "metadata": {},
   "outputs": [],
   "source": [
    "import numpy as np\n",
    "import json"
   ]
  },
  {
   "cell_type": "code",
   "execution_count": 2,
   "metadata": {},
   "outputs": [],
   "source": [
    "# Use same number for training and validation\n",
    "# Ex) 0th folding -> 'train0' for training, 'valid0' for validation\n",
    "data_txt = open('./data_split/5fold_0802.txt', 'r')\n",
    "data_json = data_txt.read()\n",
    "tr_data_dir = json.loads(data_json)"
   ]
  },
  {
   "cell_type": "code",
   "execution_count": 3,
   "metadata": {},
   "outputs": [
    {
     "name": "stdout",
     "output_type": "stream",
     "text": [
      "dict_keys(['valid3', 'train1', 'train2', 'valid2', 'valid1', 'train4', 'valid0', 'train0', 'valid4', 'train3'])\n"
     ]
    }
   ],
   "source": [
    "print(tr_data_dir.keys())"
   ]
  },
  {
   "cell_type": "code",
   "execution_count": 5,
   "metadata": {},
   "outputs": [],
   "source": [
    "# Train 0.8, valid 0.05, test 0.15\n",
    "data_txt = open('./data_split/data_dir_0801.txt', 'r')\n",
    "data_json = data_txt.read()\n",
    "tr_data_dir2 = json.loads(data_json)"
   ]
  },
  {
   "cell_type": "code",
   "execution_count": 6,
   "metadata": {},
   "outputs": [
    {
     "name": "stdout",
     "output_type": "stream",
     "text": [
      "dict_keys(['valid', 'train', 'test'])\n"
     ]
    }
   ],
   "source": [
    "print(tr_data_dir2.keys())"
   ]
  },
  {
   "cell_type": "code",
   "execution_count": null,
   "metadata": {},
   "outputs": [],
   "source": [
    "tr_data = np.zeros((len(tr_data_dir['train%d'%i]), total_pix), dtype=np.float32)\n",
    "    tr_label = np.zeros((len(tr_data_dir['train%d'%i]), 1), dtype=np.int32)\n",
    "\n",
    "    for j in range(len(tr_data)):\n",
    "        # Loading image and resize\n",
    "        img = cv2.imread(tr_data_dir['train%d'%i][j])\n",
    "        img2 = cv2.resize(img, (r_w, r_h), interpolation=cv2.INTER_CUBIC)\n",
    "        tr_data[j,:] = img2.flatten()\n",
    "\n",
    "        \n",
    "        # Assign label using file directory\n",
    "        if 'Untorn' in tr_data_dir['train%d'%i][j]:\n",
    "            tr_label[j] = 0\n",
    "        elif 'normal' in tr_data_dir['train%d'%i][j]:\n",
    "            tr_label[j] = 0\n",
    "\n",
    "        else:\n",
    "            tr_label[j] = 1"
   ]
  }
 ],
 "metadata": {
  "kernelspec": {
   "display_name": "Python 3",
   "language": "python",
   "name": "python3"
  },
  "language_info": {
   "codemirror_mode": {
    "name": "ipython",
    "version": 3
   },
   "file_extension": ".py",
   "mimetype": "text/x-python",
   "name": "python",
   "nbconvert_exporter": "python",
   "pygments_lexer": "ipython3",
   "version": "3.5.2"
  }
 },
 "nbformat": 4,
 "nbformat_minor": 2
}
