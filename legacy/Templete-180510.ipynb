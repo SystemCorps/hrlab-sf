{
 "cells": [
  {
   "cell_type": "markdown",
   "metadata": {},
   "source": [
    "# CNN Trainig Templete\n",
    "## Based on Tensorlfow - CNN MNIST example\n",
    "https://github.com/tensorflow/tensorflow/blob/r1.6/tensorflow/examples/tutorials/layers/cnn_mnist.py"
   ]
  },
  {
   "cell_type": "markdown",
   "metadata": {},
   "source": [
    "## 필요한 library 호출"
   ]
  },
  {
   "cell_type": "code",
   "execution_count": null,
   "metadata": {},
   "outputs": [],
   "source": [
    "from __future__ import absolute_import\n",
    "from __future__ import division\n",
    "from __future__ import print_function\n",
    "\n",
    "import numpy as np\n",
    "import tensorflow as tf\n",
    "\n",
    "import cv2\n",
    "\n",
    "import os\n",
    "\n",
    "tf.logging.set_verbosity(tf.logging.INFO)\n"
   ]
  },
  {
   "cell_type": "code",
   "execution_count": null,
   "metadata": {},
   "outputs": [],
   "source": [
    "def cnn_model_fn(features, labels, mode):\n",
    "    \n",
    "    \"\"\"Model function for CNN.\"\"\"\n",
    "    # Input Layer\n",
    "    # Reshape X to 4-D tensor: [batch_size, height, width, channels]\n",
    "    # Our Fishing net image size is 640x480 and 3-channel (RGB)\n",
    "    input_layer = tf.reshape(features[\"x\"], [-1, 480, 640, 3])\n",
    "\n",
    "    # Convolutional Layer #1\n",
    "    # Computes 48 features using a 5x5 filter with ReLU activation.\n",
    "    # Padding is added to preserve width and height.\n",
    "    # Input Tensor Shape: [batch_size, 480, 640, 3]\n",
    "    # Output Tensor Shape: [batch_size, 480, 640, 48]\n",
    "    conv1 = tf.layers.conv2d(\n",
    "        \n",
    "        inputs=input_layer,\n",
    "        filters=48,\n",
    "        kernel_size=[5, 5],\n",
    "        padding=\"same\",\n",
    "        activation=tf.nn.relu,\n",
    "        name = 'conv1')\n",
    "    #print(conv1.shape)\n",
    "    \n",
    "\n",
    "    # Pooling Layer #1\n",
    "    # First max pooling layer with a 2x2 filter and stride of 2\n",
    "    # Input Tensor Shape: [batch_size, 480, 640, 48]\n",
    "    # Output Tensor Shape: [batch_size, 240, 320, 48]\n",
    "    pool1 = tf.layers.max_pooling2d(inputs=conv1, pool_size=[2, 2], strides=2, name='pool1')\n",
    "    #print(pool1.shape)\n",
    "\n",
    "    # Convolutional Layer #2\n",
    "    # Computes 96 features using a 5x5 filter.\n",
    "    # Padding is added to preserve width and height.\n",
    "    # Input Tensor Shape: [batch_size, 240, 320, 48]\n",
    "    # Output Tensor Shape: [batch_size, 240, 320, 96]\n",
    "    conv2 = tf.layers.conv2d(\n",
    "        inputs=pool1,\n",
    "        filters=96,\n",
    "        kernel_size=[5, 5],\n",
    "        padding=\"same\",\n",
    "        activation=tf.nn.relu,\n",
    "        name = 'conv2')\n",
    "    #print(conv2.shape)\n",
    "\n",
    "    # Pooling Layer #2\n",
    "    # Second max pooling layer with a 2x2 filter and stride of 2\n",
    "    # Input Tensor Shape: [batch_size, 240, 320, 96]\n",
    "    # Output Tensor Shape: [batch_size, 120, 160, 96]\n",
    "    pool2 = tf.layers.max_pooling2d(inputs=conv2, pool_size=[2, 2], strides=2, name='pool2')\n",
    "    #print(pool2.shape)\n",
    "\n",
    "    \n",
    "    \n",
    "    \n",
    "    # Input Tensor Shape: [batch_size, 120, 160, 96]\n",
    "    # Output Tensor Shape: [batch_size, 120, 160, 96]    \n",
    "    conv3 = tf.layers.conv2d(\n",
    "        inputs=pool2,\n",
    "        filters=96,\n",
    "        kernel_size=[5, 5],\n",
    "        padding=\"same\",\n",
    "        activation=tf.nn.relu,\n",
    "        name = 'conv3')\n",
    "    #print(conv3.shape)\n",
    "    \n",
    "    # Input Tensor Shape: [batch_size, 120, 160, 96]\n",
    "    # Output Tensor Shape: [batch_size, 60, 80, 96]\n",
    "    pool3 = tf.layers.max_pooling2d(inputs=conv3, pool_size=[2, 2], strides=2, name='pool3')\n",
    "    #print(pool3.shape)\n",
    "    \n",
    "    \n",
    "    \n",
    "    # Input Tensor Shape: [batch_size, 60, 80, 96]\n",
    "    # Output Tensor Shape: [batch_size, 60, 80, 96]    \n",
    "    conv4 = tf.layers.conv2d(\n",
    "        inputs=pool3,\n",
    "        filters=96,\n",
    "        kernel_size=[5, 5],\n",
    "        padding=\"same\",\n",
    "        activation=tf.nn.relu,\n",
    "        name = 'conv4')\n",
    "    #print(conv4.shape)\n",
    "    \n",
    "    # Input Tensor Shape: [batch_size, 60, 80, 96]\n",
    "    # Output Tensor Shape: [batch_size, 30, 40, 96]\n",
    "    pool4 = tf.layers.max_pooling2d(inputs=conv4, pool_size=[2, 2], strides=2, name='pool4')\n",
    "    #print(pool4.shape)\n",
    "    \n",
    "    \n",
    "    \n",
    "    # Input Tensor Shape: [batch_size, 30, 40, 96]\n",
    "    # Output Tensor Shape: [batch_size, 30, 40, 96]    \n",
    "    conv5 = tf.layers.conv2d(\n",
    "        inputs=pool4,\n",
    "        filters=96,\n",
    "        kernel_size=[5, 5],\n",
    "        padding=\"same\",\n",
    "        activation=tf.nn.relu,\n",
    "        name = 'conv5')\n",
    "    #print(conv5.shape)\n",
    "    \n",
    "    # Input Tensor Shape: [batch_size, 30, 40, 96]\n",
    "    # Output Tensor Shape: [batch_size, 15, 20, 96]\n",
    "    pool5 = tf.layers.max_pooling2d(inputs=conv5, pool_size=[2, 2], strides=2, name='pool5')\n",
    "    #print(pool5.shape)\n",
    "    \n",
    "    \n",
    "    \n",
    "    \n",
    "    # Flatten tensor into a batch of vectors\n",
    "    # Input Tensor Shape: [batch_size, 15, 20, 96]\n",
    "    # Output Tensor Shape: [batch_size, 15 * 20 * 96]\n",
    "    pool5_flat = tf.reshape(pool5, [-1, 15 * 20 * 96])\n",
    "    #print(pool5_flat.shape)\n",
    "\n",
    "\n",
    "    # Dense Layer\n",
    "    # Densely connected layer with 1024 neurons\n",
    "    # Input Tensor Shape: [batch_size, 15 * 20 * 96]\n",
    "    # Output Tensor Shape: [batch_size, 1024]\n",
    "    dense = tf.layers.dense(inputs=pool5_flat, units=1024, activation=tf.nn.relu, name='fc1')\n",
    "    #print(dense.shape)\n",
    "\n",
    "    # Add dropout operation; 0.6 probability that element will be kept\n",
    "    dropout = tf.layers.dropout(\n",
    "        inputs=dense, rate=0.4, training=mode == tf.estimator.ModeKeys.TRAIN, name='fc_drop')\n",
    "\n",
    "    # Logits layer\n",
    "    # Input Tensor Shape: [batch_size, 1024]\n",
    "    # Output Tensor Shape: [batch_size, 1]\n",
    "    logits = tf.layers.dense(inputs=dropout, units=2, name='logits')\n",
    "    #print(logits.shape)\n",
    "\n",
    "    predictions = {\n",
    "        # Generate predictions (for PREDICT and EVAL mode)\n",
    "        \"classes\": tf.argmax(input=logits, axis=1, name='argmax'),\n",
    "        # Add `softmax_tensor` to the graph. It is used for PREDICT and by the\n",
    "        # `logging_hook`.\n",
    "        \"probabilities\": tf.nn.softmax(logits, name=\"softmax_tensor\")\n",
    "    }\n",
    "    if mode == tf.estimator.ModeKeys.PREDICT:\n",
    "        return tf.estimator.EstimatorSpec(mode=mode, predictions=predictions)\n",
    "\n",
    "    # Calculate Loss (for both TRAIN and EVAL modes)\n",
    "    loss = tf.losses.sparse_softmax_cross_entropy(labels=labels, logits=logits)\n",
    "    # sparse_softmax_cross_entropy cannot use one-hot encoding\n",
    "    \n",
    "    #loss = tf.nn.sigmoid_cross_entropy_with_logits(labels=labels, logits=logits)\n",
    "\n",
    "    # Configure the Training Op (for TRAIN mode)\n",
    "    if mode == tf.estimator.ModeKeys.TRAIN:\n",
    "        optimizer = tf.train.GradientDescentOptimizer(learning_rate=0.001)\n",
    "        train_op = optimizer.minimize(\n",
    "            loss=loss,\n",
    "            global_step=tf.train.get_global_step())\n",
    "        return tf.estimator.EstimatorSpec(mode=mode, loss=loss, train_op=train_op)\n",
    "\n",
    "    # Add evaluation metrics (for EVAL mode)\n",
    "    eval_metric_ops = {\n",
    "        \"accuracy\": tf.metrics.accuracy(\n",
    "            labels=labels, predictions=predictions[\"classes\"])}\n",
    "    return tf.estimator.EstimatorSpec(\n",
    "        mode=mode, loss=loss, eval_metric_ops=eval_metric_ops)"
   ]
  },
  {
   "cell_type": "markdown",
   "metadata": {},
   "source": [
    "## Code Run\n",
    "\n",
    "\n",
    "### Training\n",
    "Batch size: 128  \n",
    "Epoch: 5  \n",
    "Shuffle: True  \n",
    "Step: 20000"
   ]
  },
  {
   "cell_type": "markdown",
   "metadata": {},
   "source": [
    "## Loading dataset\n",
    "Load dataset and split them into training data and evaluation data"
   ]
  },
  {
   "cell_type": "code",
   "execution_count": null,
   "metadata": {},
   "outputs": [],
   "source": [
    "# torn: 0-1484\n",
    "# untorn: 0-1779\n",
    "num_torn = 1485\n",
    "num_untorn = 1780\n",
    "total_pix = 480*640*3\n",
    "\n",
    "torn_data = np.zeros((num_torn, total_pix), dtype=np.float32)\n",
    "print(torn_data.shape)\n",
    "untorn_data = np.zeros((num_untorn, total_pix), dtype=np.float32)"
   ]
  },
  {
   "cell_type": "code",
   "execution_count": null,
   "metadata": {},
   "outputs": [],
   "source": [
    "torn_idx = np.arange(num_torn)\n",
    "untorn_idx = np.arange(num_untorn)\n",
    "print(torn_idx)\n",
    "\n",
    "np.random.shuffle(torn_idx)\n",
    "np.random.shuffle(untorn_idx)\n",
    "\n",
    "print(torn_idx)"
   ]
  },
  {
   "cell_type": "code",
   "execution_count": null,
   "metadata": {},
   "outputs": [],
   "source": [
    "for i in range(num_torn):\n",
    "    img = cv2.imread(\"/dataset/torn/img-%04d.png\" % torn_idx[i]).flatten()\n",
    "    torn_data[i][:] = img"
   ]
  },
  {
   "cell_type": "code",
   "execution_count": null,
   "metadata": {},
   "outputs": [],
   "source": [
    "for i in range(num_untorn):\n",
    "    img = cv2.imread(\"/dataset/untorn/img-%04d.png\" % untorn_idx[i]).flatten()\n",
    "    untorn_data[i][:] = img"
   ]
  },
  {
   "cell_type": "code",
   "execution_count": null,
   "metadata": {},
   "outputs": [],
   "source": [
    "torn_label = np.full((num_torn,1), 1, dtype=np.float32)\n",
    "untorn_label = np.full((num_untorn,1), 1, dtype=np.float32)"
   ]
  },
  {
   "cell_type": "code",
   "execution_count": null,
   "metadata": {
    "scrolled": true
   },
   "outputs": [],
   "source": [
    "# 80% training, 20% evaluation\n",
    "tr_rate = 0.8\n",
    "num_tr_torn = int(tr_rate * num_torn)\n",
    "num_ev_torn = num_torn - num_tr_torn\n",
    "print(num_tr_torn, num_ev_torn)\n",
    "\n",
    "num_tr_untorn = int(tr_rate * num_untorn)\n",
    "num_ev_untorn = num_untorn - num_tr_untorn\n",
    "print(num_tr_untorn, num_ev_untorn)\n",
    "\n",
    "tr_torn = torn_data[:num_tr_torn][:]\n",
    "ev_torn = torn_data[num_tr_torn:][:]\n",
    "print(tr_torn.shape)\n",
    "print(ev_torn.shape)\n",
    "\n",
    "tr_untorn = untorn_data[:num_tr_untorn][:]\n",
    "ev_untorn = untorn_data[num_tr_untorn:][:]\n",
    "print(tr_untorn.shape)\n",
    "print(ev_untorn.shape)\n",
    "\n",
    "\n",
    "\n",
    "tr_data = np.append(tr_torn, tr_untorn, axis=0)\n",
    "print(tr_data.shape)\n",
    "ev_data = np.append(ev_torn, ev_untorn, axis=0)\n",
    "print(ev_data.shape)\n",
    "\n",
    "tr_label = np.append(np.full((num_tr_torn), 1, dtype=np.int32), np.full((num_tr_untorn), 0, dtype=np.int32))\n",
    "ev_label = np.append(np.full((num_ev_torn), 1, dtype=np.int32), np.full((num_ev_untorn), 0, dtype=np.int32))\n",
    "print(tr_label.shape[0], ev_label.shape[0])\n",
    "\n"
   ]
  },
  {
   "cell_type": "code",
   "execution_count": null,
   "metadata": {
    "scrolled": true
   },
   "outputs": [],
   "source": [
    "shuf1 = np.arange(tr_label.shape[0])\n",
    "np.random.shuffle(shuf1)\n",
    "print(shuf1)\n",
    "\n",
    "shuf2 = np.arange(ev_label.shape[0])\n",
    "np.random.shuffle(shuf2)\n",
    "print(shuf2)\n",
    "\n",
    "tr_data_sh = np.zeros((tr_data.shape), dtype=np.float32)\n",
    "tr_label_sh = np.zeros((tr_label.shape), dtype=np.int32)\n",
    "ev_data_sh = np.zeros((ev_data.shape), dtype=np.float32)\n",
    "ev_label_sh = np.zeros((ev_label.shape), dtype=np.int32)\n",
    "\n",
    "\n",
    "for i in range(tr_label.shape[0]):\n",
    "    tr_data_sh[i][:] = tr_data[shuf1[i]][:]\n",
    "    tr_label_sh[i] = tr_label[shuf1[i]]\n",
    "    \n",
    "for i in range (ev_label.shape[0]):\n",
    "    ev_data_sh[i][:] = ev_data[shuf2[i]][:]\n",
    "    ev_label_sh[i] = ev_label[shuf2[i]]"
   ]
  },
  {
   "cell_type": "code",
   "execution_count": null,
   "metadata": {},
   "outputs": [],
   "source": [
    "config = tf.ConfigProto()\n",
    "config.gpu_options.per_process_gpu_memory_fraction = 0.7\n",
    "session = tf.Session(config=config)\n",
    "\n",
    "# Create the Estimator\n",
    "net_classifier = tf.estimator.Estimator(\n",
    "    model_fn=cnn_model_fn, model_dir=\"/models/CNN2600-0510_2\")\n",
    "\n",
    "# Set up logging for predictions\n",
    "# Log the values in the \"Softmax\" tensor with label \"probabilities\"\n",
    "tensors_to_log = {\"probabilities\": \"softmax_tensor\"}\n",
    "logging_hook = tf.train.LoggingTensorHook(\n",
    "    tensors=tensors_to_log, every_n_iter=50)\n",
    "\n",
    "batch_s = 16\n",
    "epochs = 15\n",
    "tr_steps = int(tr_data.shape[0]/batch_s*epochs)\n",
    "in_steps = 1\n",
    "\n",
    "for d in ['/device:GPU:0', '/device:GPU:1', '/device:GPU:2']:\n",
    "    with tf.device(d):\n",
    "\n",
    "        # Train the model\n",
    "        train_input_fn = tf.estimator.inputs.numpy_input_fn(\n",
    "            x={\"x\": tr_data},\n",
    "            y=tr_label,\n",
    "            batch_size=batch_s,\n",
    "            num_epochs=epochs,\n",
    "            shuffle=True)\n",
    "        net_classifier.train(\n",
    "            input_fn=train_input_fn,\n",
    "            steps=20000,\n",
    "            hooks=[logging_hook])"
   ]
  },
  {
   "cell_type": "code",
   "execution_count": null,
   "metadata": {},
   "outputs": [],
   "source": [
    "config = tf.ConfigProto()\n",
    "config.gpu_options.per_process_gpu_memory_fraction = 0.8\n",
    "session = tf.Session(config=config)\n",
    "\n",
    "ev_results = np.zeros((len(ev_label), 1))\n",
    "with tf.device('/device:GPU:3'):\n",
    "\n",
    "    # Evaluate the model and print results\n",
    "    for i in range(len(ev_label)):\n",
    "        eval_input_fn = tf.estimator.inputs.numpy_input_fn(\n",
    "            x={\"x\": ev_data_sh[i:i+1]},\n",
    "            y=ev_label_sh[i:i+1],\n",
    "            num_epochs=1,\n",
    "            shuffle=False)\n",
    "        eval_results = net_classifier.evaluate(input_fn=eval_input_fn)\n",
    "        \n",
    "        ev_results[i] = eval_results[\"accuracy\"]"
   ]
  },
  {
   "cell_type": "code",
   "execution_count": null,
   "metadata": {
    "scrolled": true
   },
   "outputs": [],
   "source": [
    "print(np.mean(ev_results))"
   ]
  },
  {
   "cell_type": "code",
   "execution_count": null,
   "metadata": {
    "scrolled": true
   },
   "outputs": [],
   "source": [
    "weights = net_classifier.get_variable_value('conv1/kernel')\n",
    "print(weights.shape)"
   ]
  },
  {
   "cell_type": "code",
   "execution_count": null,
   "metadata": {},
   "outputs": [],
   "source": [
    "weights[:,:,:,47]"
   ]
  },
  {
   "cell_type": "code",
   "execution_count": null,
   "metadata": {},
   "outputs": [],
   "source": [
    "import tensorlayer as tl"
   ]
  },
  {
   "cell_type": "code",
   "execution_count": null,
   "metadata": {
    "scrolled": true
   },
   "outputs": [],
   "source": [
    "tl.visualize.CNN2d(weights+0.5, saveable=True, name='conv1')"
   ]
  },
  {
   "cell_type": "code",
   "execution_count": null,
   "metadata": {},
   "outputs": [],
   "source": [
    "weights = net_classifier.get_variable_value('conv2/kernel')\n",
    "#tl.visualize.CNN2d(weights+0.5, saveable=True, name='conv2')"
   ]
  },
  {
   "cell_type": "code",
   "execution_count": null,
   "metadata": {},
   "outputs": [],
   "source": [
    "weights.shape"
   ]
  },
  {
   "cell_type": "code",
   "execution_count": null,
   "metadata": {},
   "outputs": [],
   "source": [
    "test = weights[:,:,0:3,:]\n",
    "test.shape"
   ]
  },
  {
   "cell_type": "code",
   "execution_count": null,
   "metadata": {},
   "outputs": [],
   "source": [
    "tl.visualize.CNN2d(test+0.5, saveable=True, name='conv2-1')"
   ]
  },
  {
   "cell_type": "code",
   "execution_count": null,
   "metadata": {},
   "outputs": [],
   "source": [
    "import tf_cnnvis"
   ]
  },
  {
   "cell_type": "code",
   "execution_count": null,
   "metadata": {},
   "outputs": [],
   "source": [
    "sess = tf.Session(graph=tf.get_default_graph)"
   ]
  },
  {
   "cell_type": "code",
   "execution_count": null,
   "metadata": {},
   "outputs": [],
   "source": [
    "with session.as_default():\n",
    "    vis_x = ev_data_sh[0:1]\n",
    "    tf_cnnvis.activation_visualization(sess_graph_path=None, value_feed_dict={\"x\": vis_x}, layers='r')"
   ]
  },
  {
   "cell_type": "code",
   "execution_count": null,
   "metadata": {},
   "outputs": [],
   "source": [
    "fail_idx = np.where(ev_results == 0)\n",
    "print(fail_idx[0])\n",
    "print(len(fail_idx[0]))"
   ]
  },
  {
   "cell_type": "code",
   "execution_count": null,
   "metadata": {},
   "outputs": [],
   "source": [
    "%matplotlib inline\n",
    "import matplotlib.pyplot as plt\n",
    "\n",
    "for i in range(len(fail_idx[0])):\n",
    "\n",
    "    temp_img = ev_data_sh[fail_idx[0][i]][:].reshape([480, 640, 3])\n",
    "\n",
    "    temp_img = 255-temp_img\n",
    "\n",
    "    width = 12\n",
    "    height = 12\n",
    "    plt.figure(figsize=(width, height))\n",
    "    plt.axis(\"off\")\n",
    "    plt.imshow(cv2.cvtColor(temp_img, cv2.COLOR_BGR2RGB))\n",
    "    plt.show()"
   ]
  },
  {
   "cell_type": "markdown",
   "metadata": {},
   "source": [
    "## Results\n",
    "훈련 데이터셋 2612개  \n",
    "검증 데이터셋 653개  \n",
    "  \n",
    "정확도 87.7%  \n",
    "  \n",
    "CNN layer 5개  \n",
    "Training step: 40000회  \n",
    "Batch size: 1  \n"
   ]
  },
  {
   "cell_type": "markdown",
   "metadata": {},
   "source": [
    "## 오현석 교수님\n",
    "오교수님 데이터셋으로 훈련시킨 CNN으로 우리 데이터셋 테스트 -> 44% 정확도  \n",
    "우리 데이터셋으로 훈련시킨 CNN으로 오교수님 데이터셋 테스트 -> 60% 정확도  \n",
    "\n",
    "LeNet 사용  \n",
    "이미지 크기 64 x 64"
   ]
  }
 ],
 "metadata": {
  "kernelspec": {
   "display_name": "Python 3",
   "language": "python",
   "name": "python3"
  },
  "language_info": {
   "codemirror_mode": {
    "name": "ipython",
    "version": 3
   },
   "file_extension": ".py",
   "mimetype": "text/x-python",
   "name": "python",
   "nbconvert_exporter": "python",
   "pygments_lexer": "ipython3",
   "version": "3.5.2"
  }
 },
 "nbformat": 4,
 "nbformat_minor": 1
}
