{
 "cells": [
  {
   "cell_type": "code",
   "execution_count": 1,
   "metadata": {},
   "outputs": [
    {
     "ename": "ImportError",
     "evalue": "No module named cv2",
     "output_type": "error",
     "traceback": [
      "\u001b[0;31m---------------------------------------------------------------------------\u001b[0m",
      "\u001b[0;31mImportError\u001b[0m                               Traceback (most recent call last)",
      "\u001b[0;32m<ipython-input-1-a6c5d3e8bbe7>\u001b[0m in \u001b[0;36m<module>\u001b[0;34m()\u001b[0m\n\u001b[1;32m      8\u001b[0m \u001b[0;34m\u001b[0m\u001b[0m\n\u001b[1;32m      9\u001b[0m \u001b[0;34m\u001b[0m\u001b[0m\n\u001b[0;32m---> 10\u001b[0;31m \u001b[0;32mimport\u001b[0m \u001b[0mcv2\u001b[0m\u001b[0;34m\u001b[0m\u001b[0m\n\u001b[0m\u001b[1;32m     11\u001b[0m \u001b[0;32mimport\u001b[0m \u001b[0mmatplotlib\u001b[0m\u001b[0;34m.\u001b[0m\u001b[0mpyplot\u001b[0m \u001b[0;32mas\u001b[0m \u001b[0mplt\u001b[0m\u001b[0;34m\u001b[0m\u001b[0m\n\u001b[1;32m     12\u001b[0m \u001b[0;32mfrom\u001b[0m \u001b[0msklearn\u001b[0m\u001b[0;34m.\u001b[0m\u001b[0mcross_validation\u001b[0m \u001b[0;32mimport\u001b[0m \u001b[0mtrain_test_split\u001b[0m\u001b[0;34m\u001b[0m\u001b[0m\n",
      "\u001b[0;31mImportError\u001b[0m: No module named cv2"
     ]
    }
   ],
   "source": [
    "from __future__ import absolute_import\n",
    "from __future__ import division\n",
    "from __future__ import print_function\n",
    "\n",
    "import numpy as np\n",
    "import tensorflow as tf\n",
    "from object_detection.utils import dataset_util\n",
    "\n",
    "\n",
    "import cv2\n",
    "import matplotlib.pyplot as plt\n",
    "from sklearn.cross_validation import train_test_split\n",
    "import random\n",
    "\n",
    "import json\n",
    "import os\n",
    "\n",
    "from glob import glob\n"
   ]
  },
  {
   "cell_type": "code",
   "execution_count": 2,
   "metadata": {
    "scrolled": true
   },
   "outputs": [],
   "source": [
    "img_dir = [y for x in os.walk('/hdd3/dhj_container/DB/data_oh/train-images') for y in glob(os.path.join(x[0], '*.png'))]"
   ]
  },
  {
   "cell_type": "code",
   "execution_count": 3,
   "metadata": {
    "scrolled": false
   },
   "outputs": [
    {
     "name": "stdout",
     "output_type": "stream",
     "text": [
      "1800 /hdd3/dhj_container/DB/SSD_data/img0000/101_Torn_295_196_394_293.png\n"
     ]
    }
   ],
   "source": [
    "print(len(img_dir), img_dir[0])"
   ]
  },
  {
   "cell_type": "code",
   "execution_count": 4,
   "metadata": {},
   "outputs": [
    {
     "name": "stdout",
     "output_type": "stream",
     "text": [
      "/hdd3/dhj_container/DB/SSD_data/img0006_re_Rotated_dataset/10032_Torn_325_323_488_480.png\n",
      "1440 /hdd3/dhj_container/DB/SSD_data/img0000_re_Affine_dataset/20059_Torn_122_109_298_295.png\n",
      "360 /hdd3/dhj_container/DB/SSD_data/img0000_re_Rotated_dataset/10029_Torn_136_389_254_501.png\n"
     ]
    }
   ],
   "source": [
    "random.shuffle(img_dir)\n",
    "print(img_dir[0])\n",
    "train, test = train_test_split(img_dir, test_size=0.2)\n",
    "print(len(train), train[0])\n",
    "print(len(test), test[0])"
   ]
  },
  {
   "cell_type": "code",
   "execution_count": 5,
   "metadata": {},
   "outputs": [],
   "source": [
    "def create_tf(in_dir):\n",
    "    # TODO(user): Populate the following variables from your example.\n",
    "    height = 512 # Image height\n",
    "    width = 512 # Image width\n",
    "    filename = str.encode(in_dir.split('/')[-1]) # Filename of the image. Empty if image is not from file\n",
    "    image_format = b'png' # b'jpeg' or b'png'\n",
    "    \n",
    "    str_fname = in_dir.split('/')[-1]\n",
    "    xy_str = str_fname.replace('.png','')\n",
    "    xy_par = xy_str.split('_')\n",
    "    x1 = int(xy_par[2])\n",
    "    y1 = int(xy_par[3])\n",
    "    x2 = int(xy_par[4])\n",
    "    y2 = int(xy_par[5])\n",
    "    \n",
    "    file = open(in_dir, 'rb')\n",
    "    encoded_image_data = file.read()\n",
    "    \n",
    "    \n",
    "    xmins = [x1/width] # List of normalized left x coordinates in bounding box (1 per box)\n",
    "    xmaxs = [x2/width] # List of normalized right x coordinates in bounding box\n",
    "             # (1 per box)\n",
    "    ymins = [y1/height] # List of normalized top y coordinates in bounding box (1 per box)\n",
    "    ymaxs = [y2/height] # List of normalized bottom y coordinates in bounding box\n",
    "             # (1 per box)\n",
    "    classes_text = [b'torn'] # List of string class name of bounding box (1 per box)\n",
    "    classes = [1] # List of integer class id of bounding box (1 per box)\n",
    "\n",
    "    tf_out = tf.train.Example(features=tf.train.Features(feature={\n",
    "        'image/height': dataset_util.int64_feature(height),\n",
    "        'image/width': dataset_util.int64_feature(width),\n",
    "        'image/filename': dataset_util.bytes_feature(filename),\n",
    "        'image/source_id': dataset_util.bytes_feature(filename),\n",
    "        'image/encoded': dataset_util.bytes_feature(encoded_image_data),\n",
    "        'image/format': dataset_util.bytes_feature(image_format),\n",
    "        'image/object/bbox/xmin': dataset_util.float_list_feature(xmins),\n",
    "        'image/object/bbox/xmax': dataset_util.float_list_feature(xmaxs),\n",
    "        'image/object/bbox/ymin': dataset_util.float_list_feature(ymins),\n",
    "        'image/object/bbox/ymax': dataset_util.float_list_feature(ymaxs),\n",
    "        'image/object/class/text': dataset_util.bytes_list_feature(classes_text),\n",
    "        'image/object/class/label': dataset_util.int64_list_feature(classes),\n",
    "    }))\n",
    "    return tf_out\n",
    "\n"
   ]
  },
  {
   "cell_type": "code",
   "execution_count": 6,
   "metadata": {},
   "outputs": [],
   "source": [
    "save_dir='/hdd3/dhj_container/DB/SSD_data_TFR/'\n",
    "if not tf.gfile.Exists(save_dir):\n",
    "    tf.gfile.MakeDirs(save_dir)\n",
    "    \n",
    "    \n",
    "writer = tf.python_io.TFRecordWriter(save_dir+'train_data.tfrecord')\n",
    "\n",
    "# TODO(user): Write code to read in your dataset to examples variable\n",
    "\n",
    "for i in range(len(train)):\n",
    "    tf_example = create_tf(train[i])\n",
    "    writer.write(tf_example.SerializeToString())\n",
    "writer.close()\n",
    "\n",
    "\n",
    "writer = tf.python_io.TFRecordWriter(save_dir+'test_data.tfrecord')\n",
    "for i in range(len(test)):\n",
    "    tf_example = create_tf(test[i])\n",
    "    writer.write(tf_example.SerializeToString())\n",
    "writer.close()"
   ]
  }
 ],
 "metadata": {
  "kernelspec": {
   "display_name": "Python 2",
   "language": "python",
   "name": "python2"
  },
  "language_info": {
   "codemirror_mode": {
    "name": "ipython",
    "version": 2
   },
   "file_extension": ".py",
   "mimetype": "text/x-python",
   "name": "python",
   "nbconvert_exporter": "python",
   "pygments_lexer": "ipython2",
   "version": "2.7.12"
  }
 },
 "nbformat": 4,
 "nbformat_minor": 2
}
