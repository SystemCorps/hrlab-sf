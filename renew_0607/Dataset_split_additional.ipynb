{
 "cells": [
  {
   "cell_type": "code",
   "execution_count": 9,
   "metadata": {
    "scrolled": true
   },
   "outputs": [],
   "source": [
    "from __future__ import absolute_import\n",
    "from __future__ import division\n",
    "from __future__ import print_function\n",
    "\n",
    "import numpy as np\n",
    "import tensorflow as tf\n",
    "\n",
    "import cv2\n",
    "import matplotlib.pyplot as plt\n",
    "from sklearn.cross_validation import train_test_split\n",
    "import random\n",
    "\n",
    "import json\n",
    "\n",
    "from glob import glob"
   ]
  },
  {
   "cell_type": "code",
   "execution_count": 10,
   "metadata": {},
   "outputs": [],
   "source": [
    "# GPU selection (memory)\n",
    "import os\n",
    "#os.environ[\"CUDA_DEVICE_ORDER\"]=\"PCI_BUS_ID\"   \n",
    "#os.environ[\"CUDA_VISIBLE_DEVICES\"]=\"0\""
   ]
  },
  {
   "cell_type": "code",
   "execution_count": 11,
   "metadata": {},
   "outputs": [],
   "source": [
    "# Data info.\n",
    "\n",
    "width = 640\n",
    "height = 480\n",
    "channel = 3\n",
    "\n",
    "\n",
    "# resize\n",
    "r_w = 512\n",
    "r_h = 512\n",
    "\n",
    "total_pix = r_w * r_h * channel"
   ]
  },
  {
   "cell_type": "code",
   "execution_count": 12,
   "metadata": {
    "scrolled": true
   },
   "outputs": [
    {
     "name": "stdout",
     "output_type": "stream",
     "text": [
      "/data_one/unity1/flip_spotlight_affine/img0004.png\n"
     ]
    }
   ],
   "source": [
    "result = [y for x in os.walk('/data_one/') for y in glob(os.path.join(x[0], '*.png'))]\n",
    "print((result[0]))"
   ]
  },
  {
   "cell_type": "code",
   "execution_count": 13,
   "metadata": {},
   "outputs": [],
   "source": [
    "data_dir = [0]*len(result)\n",
    "# All labels are '1' (torn)\n",
    "for i in range(len(result)):\n",
    "    temp = [result[i], np.int16(1)]\n",
    "    data_dir[i] = temp"
   ]
  },
  {
   "cell_type": "code",
   "execution_count": 14,
   "metadata": {},
   "outputs": [
    {
     "data": {
      "text/plain": [
       "['/data_one/unity1/flip_spotlight_affine/img0004.png', 1]"
      ]
     },
     "execution_count": 14,
     "metadata": {},
     "output_type": "execute_result"
    }
   ],
   "source": [
    "data_dir[0]"
   ]
  },
  {
   "cell_type": "code",
   "execution_count": 15,
   "metadata": {},
   "outputs": [],
   "source": [
    "add_train, add_test = train_test_split(data_dir, test_size=0.0)"
   ]
  },
  {
   "cell_type": "code",
   "execution_count": 16,
   "metadata": {},
   "outputs": [
    {
     "name": "stdout",
     "output_type": "stream",
     "text": [
      "458\n",
      "['/data_one/unity1/warp_spotlight_affine/img0032.png', 1]\n"
     ]
    }
   ],
   "source": [
    "print(len(add_train))\n",
    "print(add_train[0])"
   ]
  },
  {
   "cell_type": "code",
   "execution_count": 30,
   "metadata": {},
   "outputs": [],
   "source": [
    "tr_data_dir = add_train"
   ]
  },
  {
   "cell_type": "code",
   "execution_count": 33,
   "metadata": {},
   "outputs": [],
   "source": [
    "def default(o):\n",
    "    if isinstance(o, (np.int_, np.intc, np.intp, np.int8,\n",
    "                      np.int16, np.int32, np.int64, np.uint8,\n",
    "                      np.uint16,np.uint32, np.uint64)):\n",
    "        return int(o)\n",
    "\n",
    "    raise TypeError\n",
    "\n",
    "with open('./data_split/data_dir_dict_0712.txt', 'w') as file:\n",
    "    file.write(json.dumps(tr_data_dir, default=default))"
   ]
  },
  {
   "cell_type": "code",
   "execution_count": 34,
   "metadata": {},
   "outputs": [],
   "source": [
    "test = open('./data_split/data_dir_dict_0712.txt', 'r')\n",
    "data = test.read()\n",
    "data2 = json.loads(data)"
   ]
  },
  {
   "cell_type": "code",
   "execution_count": 35,
   "metadata": {},
   "outputs": [
    {
     "name": "stdout",
     "output_type": "stream",
     "text": [
      "[['/data_one/unity1/rotation_spotlight_affine/img0019.png', 1], ['/data_one/unity1/crop_spotlight_affine/img0013.png', 1], ['/data_one/unity2/img0005.png', 1], ['/data_one/unity1/trans_spotlight_affine/img0013.png', 1], ['/data_one/unity1/rotation_spotlight_affine/img0013.png', 1], ['/data_one/random_crop/origin_randomcrop3.png', 1], ['/data_one/unity1/rotation_spotlight_affine/img0014.png', 1], ['/data_one/unity2/img0009.png', 1], ['/data_one/unity2/img0054.png', 1], ['/data_one/unity1/wave_spotlight_affine/img0028.png', 1], ['/data_one/unity1/crop_spotlight_affine/img0017.png', 1], ['/data_one/unity2/img0087.png', 1], ['/data_one/unity1/crop_spotlight_affine/img0006.png', 1], ['/data_one/unity2/img0028.png', 1], ['/data_one/unity1/wave_spotlight_affine/img0002.png', 1], ['/data_one/unity2/img0103.png', 1], ['/data_one/unity2/img0111.png', 1], ['/data_one/unity1/flip_spotlight_affine/img0001.png', 1], ['/data_one/unity2/img0081.png', 1], ['/data_one/unity1/warp_spotlight_affine/img0029.png', 1], ['/data_one/unity1/warp_spotlight_affine/img0005.png', 1], ['/data_one/unity1/crop_spotlight_affine/img0002.png', 1], ['/data_one/unity1/crop_spotlight_affine/img0019.png', 1], ['/data_one/unity2/img0015.png', 1], ['/data_one/unity1/wave_spotlight_affine/img0020.png', 1], ['/data_one/unity2/img0171.png', 1], ['/data_one/unity1/crop_spotlight_affine/img0007.png', 1], ['/data_one/unity2/img0020.png', 1], ['/data_one/unity1/rotation_spotlight_affine/img0023.png', 1], ['/data_one/unity1/warp_spotlight_affine/img0013.png', 1], ['/data_one/unity1/trans_spotlight_affine/img0018.png', 1], ['/data_one/unity2/img0112.png', 1], ['/data_one/unity1/trans_spotlight_affine/img0015.png', 1], ['/data_one/unity2/img0177.png', 1], ['/data_one/unity1/trans_spotlight_affine/img0025.png', 1], ['/data_one/unity2/img0056.png', 1], ['/data_one/unity2/img0159.png', 1], ['/data_one/unity1/warp_spotlight_affine/img0031.png', 1], ['/data_one/unity2/img0057.png', 1], ['/data_one/unity2/img0132.png', 1], ['/data_one/unity1/trans_spotlight_affine/img0009.png', 1], ['/data_one/unity2/img0136.png', 1], ['/data_one/unity1/barrel_spotlight_affine/img0002.png', 1], ['/data_one/unity2/img0110.png', 1], ['/data_one/unity2/img0063.png', 1], ['/data_one/unity2/img0117.png', 1], ['/data_one/unity1/trans_spotlight_affine/img0000.png', 1], ['/data_one/unity2/img0006.png', 1], ['/data_one/unity2/img0018.png', 1], ['/data_one/unity1/rotation_spotlight_affine/img0015.png', 1], ['/data_one/unity2/img0170.png', 1], ['/data_one/unity1/wave_spotlight_affine/img0011.png', 1], ['/data_one/unity2/img0053.png', 1], ['/data_one/unity1/rotation_spotlight_affine/img0021.png', 1], ['/data_one/unity1/wave_spotlight_affine/img0027.png', 1], ['/data_one/unity2/img0074.png', 1], ['/data_one/unity2/img0031.png', 1], ['/data_one/unity2/img0145.png', 1], ['/data_one/unity2/img0107.png', 1], ['/data_one/unity1/warp_spotlight_affine/img0018.png', 1], ['/data_one/unity2/img0129.png', 1], ['/data_one/unity2/img0135.png', 1], ['/data_one/unity2/img0153.png', 1], ['/data_one/unity1/rotation_spotlight_affine/img0008.png', 1], ['/data_one/unity2/img0079.png', 1], ['/data_one/unity1/rotation_spotlight_affine/img0010.png', 1], ['/data_one/unity1/warp_spotlight_affine/img0001.png', 1], ['/data_one/unity1/rotation_spotlight_affine/img0009.png', 1], ['/data_one/unity2/img0142.png', 1], ['/data_one/unity1/barrel_spotlight_affine/img0000.png', 1], ['/data_one/unity2/img0083.png', 1], ['/data_one/unity2/img0176.png', 1], ['/data_one/wave/origin_wave4.png', 1], ['/data_one/unity2/img0075.png', 1], ['/data_one/unity2/img0141.png', 1], ['/data_one/unity1/warp_spotlight_affine/img0012.png', 1], ['/data_one/unity2/img0164.png', 1], ['/data_one/unity2/img0161.png', 1], ['/data_one/unity1/crop_spotlight_affine/img0008.png', 1], ['/data_one/unity2/img0043.png', 1], ['/data_one/unity2/img0096.png', 1], ['/data_one/unity2/img0051.png', 1], ['/data_one/unity2/img0059.png', 1], ['/data_one/unity1/rotation_spotlight_affine/img0001.png', 1], ['/data_one/unity1/rotation_spotlight_affine/img0006.png', 1], ['/data_one/unity1/rotation_spotlight_affine/img0024.png', 1], ['/data_one/unity2/img0021.png', 1], ['/data_one/unity1/warp_spotlight_affine/img0019.png', 1], ['/data_one/unity2/img0088.png', 1], ['/data_one/wave/origin_wave1.png', 1], ['/data_one/unity1/flip_spotlight_affine/img0002.png', 1], ['/data_one/unity2/img0077.png', 1], ['/data_one/unity1/warp_spotlight_affine/img0003.png', 1], ['/data_one/unity2/img0181.png', 1], ['/data_one/flip/origin_horizontolflp.png', 1], ['/data_one/unity1/warp_spotlight_affine/img0016.png', 1], ['/data_one/unity1/crop_spotlight_affine/img0001.png', 1], ['/data_one/unity2/img0138.png', 1], ['/data_one/unity2/img0047.png', 1], ['/data_one/flip/origin_vertical_lflp.png', 1], ['/data_one/unity1/trans_spotlight_affine/img0017.png', 1], ['/data_one/unity2/img0178.png', 1], ['/data_one/unity2/img0045.png', 1], ['/data_one/unity1/rotation_spotlight_affine/img0012.png', 1], ['/data_one/unity1/rotation_spotlight_affine/img0027.png', 1], ['/data_one/unity1/wave_spotlight_affine/img0030.png', 1], ['/data_one/unity1/warp_spotlight_affine/img0033.png', 1], ['/data_one/unity2/img0052.png', 1], ['/data_one/unity1/barrel_spotlight_affine/img0001.png', 1], ['/data_one/unity2/img0032.png', 1], ['/data_one/unity2/img0151.png', 1], ['/data_one/wave/origin_wave3.png', 1], ['/data_one/unity1/warp_spotlight_affine/img0030.png', 1], ['/data_one/unity1/trans_spotlight_affine/img0020.png', 1], ['/data_one/unity1/trans_spotlight_affine/img0010.png', 1], ['/data_one/unity1/warp_spotlight_affine/img0000.png', 1], ['/data_one/unity2/img0116.png', 1], ['/data_one/unity2/img0076.png', 1], ['/data_one/unity1/crop_spotlight_affine/img0005.png', 1], ['/data_one/unity2/img0106.png', 1], ['/data_one/unity2/img0120.png', 1], ['/data_one/unity2/img0154.png', 1], ['/data_one/unity2/img0158.png', 1], ['/data_one/unity1/trans_spotlight_affine/img0023.png', 1], ['/data_one/unity1/warp_spotlight_affine/img0022.png', 1], ['/data_one/unity2/img0118.png', 1], ['/data_one/unity1/crop_spotlight_affine/img0020.png', 1], ['/data_one/unity2/img0152.png', 1], ['/data_one/unity1/wave_spotlight_affine/img0031.png', 1], ['/data_one/unity2/img0000.png', 1], ['/data_one/unity2/img0048.png', 1], ['/data_one/unity2/img0180.png', 1], ['/data_one/unity2/img0169.png', 1], ['/data_one/unity2/img0187.png', 1], ['/data_one/unity1/barrel_spotlight_affine/img0009.png', 1], ['/data_one/unity1/trans_spotlight_affine/img0004.png', 1], ['/data_one/wave/origin_wave8.png', 1], ['/data_one/unity2/img0124.png', 1], ['/data_one/unity2/img0090.png', 1], ['/data_one/unity2/img0119.png', 1], ['/data_one/unity1/trans_spotlight_affine/img0008.png', 1], ['/data_one/unity1/warp_spotlight_affine/img0014.png', 1], ['/data_one/unity2/img0172.png', 1], ['/data_one/unity1/barrel_spotlight_affine/img0006.png', 1], ['/data_one/wave/origin_wave2.png', 1], ['/data_one/unity2/img0069.png', 1], ['/data_one/unity2/img0040.png', 1], ['/data_one/unity1/wave_spotlight_affine/img0008.png', 1], ['/data_one/unity1/rotation_spotlight_affine/img0004.png', 1], ['/data_one/unity2/img0163.png', 1], ['/data_one/unity1/warp_spotlight_affine/img0020.png', 1], ['/data_one/unity1/wave_spotlight_affine/img0001.png', 1], ['/data_one/unity1/warp_spotlight_affine/img0035.png', 1], ['/data_one/unity2/img0019.png', 1], ['/data_one/unity1/rotation_spotlight_affine/img0016.png', 1], ['/data_one/unity1/rotation_spotlight_affine/img0025.png', 1], ['/data_one/unity2/img0094.png', 1], ['/data_one/unity1/barrel_spotlight_affine/img0010.png', 1], ['/data_one/unity2/img0036.png', 1], ['/data_one/unity2/img0186.png', 1], ['/data_one/unity2/img0011.png', 1], ['/data_one/unity2/img0064.png', 1], ['/data_one/unity2/img0046.png', 1], ['/data_one/unity1/rotation_spotlight_affine/img0017.png', 1], ['/data_one/unity1/barrel_spotlight_affine/img0003.png', 1], ['/data_one/unity1/wave_spotlight_affine/img0013.png', 1], ['/data_one/random_crop/origin_randomcrop1.png', 1], ['/data_one/unity1/wave_spotlight_affine/img0005.png', 1], ['/data_one/unity2/img0062.png', 1], ['/data_one/unity1/wave_spotlight_affine/img0016.png', 1], ['/data_one/unity1/warp_spotlight_affine/img0011.png', 1], ['/data_one/unity2/img0150.png', 1], ['/data_one/unity1/crop_spotlight_affine/img0010.png', 1], ['/data_one/unity2/img0155.png', 1], ['/data_one/unity2/img0080.png', 1], ['/data_one/random_crop/origin_randomcrop2.png', 1], ['/data_one/unity2/img0071.png', 1], ['/data_one/unity2/img0149.png', 1], ['/data_one/unity2/img0097.png', 1], ['/data_one/unity1/warp_spotlight_affine/img0006.png', 1], ['/data_one/unity2/img0131.png', 1], ['/data_one/unity2/img0038.png', 1], ['/data_one/unity2/img0058.png', 1], ['/data_one/unity1/warp_spotlight_affine/img0032.png', 1], ['/data_one/unity1/crop_spotlight_affine/img0003.png', 1], ['/data_one/unity1/barrel_spotlight_affine/img0011.png', 1], ['/data_one/unity1/warp_spotlight_affine/img0010.png', 1], ['/data_one/unity2/img0165.png', 1], ['/data_one/unity1/rotation_spotlight_affine/img0030.png', 1], ['/data_one/unity2/img0157.png', 1], ['/data_one/unity1/warp_spotlight_affine/img0017.png', 1], ['/data_one/unity2/img0078.png', 1], ['/data_one/unity2/img0122.png', 1], ['/data_one/unity1/crop_spotlight_affine/img0018.png', 1], ['/data_one/unity1/warp_spotlight_affine/img0015.png', 1], ['/data_one/unity1/wave_spotlight_affine/img0004.png', 1], ['/data_one/unity2/img0175.png', 1], ['/data_one/unity2/img0183.png', 1], ['/data_one/unity2/img0108.png', 1], ['/data_one/unity2/img0099.png', 1], ['/data_one/unity1/wave_spotlight_affine/img0006.png', 1], ['/data_one/unity2/img0082.png', 1], ['/data_one/unity1/barrel_spotlight_affine/img0007.png', 1], ['/data_one/unity2/img0184.png', 1], ['/data_one/unity1/wave_spotlight_affine/img0021.png', 1], ['/data_one/unity2/img0072.png', 1], ['/data_one/unity1/wave_spotlight_affine/img0014.png', 1], ['/data_one/unity2/img0003.png', 1], ['/data_one/unity2/img0039.png', 1], ['/data_one/unity1/trans_spotlight_affine/img0003.png', 1], ['/data_one/unity2/img0130.png', 1], ['/data_one/unity1/trans_spotlight_affine/img0021.png', 1], ['/data_one/unity1/warp_spotlight_affine/img0025.png', 1], ['/data_one/unity1/wave_spotlight_affine/img0019.png', 1], ['/data_one/unity2/img0037.png', 1], ['/data_one/unity1/warp_spotlight_affine/img0024.png', 1], ['/data_one/unity2/img0010.png', 1], ['/data_one/unity2/img0023.png', 1], ['/data_one/unity1/trans_spotlight_affine/img0027.png', 1], ['/data_one/unity1/warp_spotlight_affine/img0008.png', 1], ['/data_one/unity1/warp_spotlight_affine/img0004.png', 1], ['/data_one/unity1/trans_spotlight_affine/img0019.png', 1], ['/data_one/unity2/img0173.png', 1], ['/data_one/unity2/img0133.png', 1], ['/data_one/unity2/img0025.png', 1], ['/data_one/unity1/flip_spotlight_affine/img0006.png', 1], ['/data_one/unity1/rotation_spotlight_affine/img0000.png', 1], ['/data_one/unity1/rotation_spotlight_affine/img0003.png', 1], ['/data_one/unity1/trans_spotlight_affine/img0001.png', 1], ['/data_one/unity2/img0115.png', 1], ['/data_one/unity2/img0017.png', 1], ['/data_one/unity2/img0098.png', 1], ['/data_one/unity1/flip_spotlight_affine/img0004.png', 1], ['/data_one/unity1/crop_spotlight_affine/img0016.png', 1], ['/data_one/unity1/trans_spotlight_affine/img0024.png', 1], ['/data_one/unity2/img0089.png', 1], ['/data_one/unity1/crop_spotlight_affine/img0012.png', 1], ['/data_one/unity2/img0008.png', 1], ['/data_one/unity2/img0179.png', 1], ['/data_one/unity2/img0168.png', 1], ['/data_one/unity2/img0033.png', 1], ['/data_one/unity1/crop_spotlight_affine/img0009.png', 1], ['/data_one/unity2/img0114.png', 1], ['/data_one/unity1/trans_spotlight_affine/img0007.png', 1], ['/data_one/unity2/img0140.png', 1], ['/data_one/unity1/wave_spotlight_affine/img0017.png', 1], ['/data_one/unity1/warp_spotlight_affine/img0002.png', 1], ['/data_one/unity1/trans_spotlight_affine/img0011.png', 1], ['/data_one/unity2/img0024.png', 1], ['/data_one/unity1/crop_spotlight_affine/img0014.png', 1], ['/data_one/random_crop/origin_randomcrop5.png', 1], ['/data_one/unity1/rotation_spotlight_affine/img0007.png', 1], ['/data_one/unity1/rotation_spotlight_affine/img0022.png', 1], ['/data_one/random_crop/origin_randomcrop4.png', 1], ['/data_one/unity1/wave_spotlight_affine/img0015.png', 1], ['/data_one/unity1/rotation_spotlight_affine/img0026.png', 1], ['/data_one/unity1/rotation_spotlight_affine/img0028.png', 1], ['/data_one/unity2/img0070.png', 1], ['/data_one/unity1/wave_spotlight_affine/img0022.png', 1], ['/data_one/unity1/wave_spotlight_affine/img0003.png', 1], ['/data_one/unity2/img0125.png', 1], ['/data_one/unity1/barrel_spotlight_affine/img0004.png', 1], ['/data_one/unity2/img0185.png', 1], ['/data_one/unity2/img0093.png', 1], ['/data_one/unity2/img0147.png', 1], ['/data_one/unity1/wave_spotlight_affine/img0024.png', 1], ['/data_one/unity2/img0143.png', 1], ['/data_one/unity1/trans_spotlight_affine/img0022.png', 1], ['/data_one/unity2/img0166.png', 1], ['/data_one/unity2/img0044.png', 1], ['/data_one/unity1/warp_spotlight_affine/img0026.png', 1], ['/data_one/unity2/img0134.png', 1], ['/data_one/unity2/img0121.png', 1], ['/data_one/unity1/flip_spotlight_affine/img0003.png', 1], ['/data_one/unity2/img0091.png', 1], ['/data_one/unity2/img0007.png', 1], ['/data_one/unity2/img0113.png', 1], ['/data_one/unity1/trans_spotlight_affine/img0016.png', 1], ['/data_one/unity1/trans_spotlight_affine/img0012.png', 1], ['/data_one/unity2/img0148.png', 1], ['/data_one/unity1/wave_spotlight_affine/img0000.png', 1], ['/data_one/unity2/img0029.png', 1], ['/data_one/unity2/img0002.png', 1], ['/data_one/unity1/crop_spotlight_affine/img0011.png', 1], ['/data_one/unity2/img0068.png', 1], ['/data_one/wave/origin_wave10.png', 1], ['/data_one/unity2/img0030.png', 1], ['/data_one/unity2/img0067.png', 1], ['/data_one/unity1/crop_spotlight_affine/img0000.png', 1], ['/data_one/unity2/img0027.png', 1], ['/data_one/unity1/flip_spotlight_affine/img0000.png', 1], ['/data_one/unity2/img0126.png', 1], ['/data_one/unity1/wave_spotlight_affine/img0007.png', 1], ['/data_one/unity2/img0189.png', 1], ['/data_one/unity2/img0104.png', 1], ['/data_one/unity1/warp_spotlight_affine/img0021.png', 1], ['/data_one/unity1/warp_spotlight_affine/img0028.png', 1], ['/data_one/unity1/wave_spotlight_affine/img0010.png', 1], ['/data_one/unity1/trans_spotlight_affine/img0006.png', 1], ['/data_one/unity2/img0128.png', 1], ['/data_one/unity1/trans_spotlight_affine/img0026.png', 1], ['/data_one/unity2/img0160.png', 1], ['/data_one/unity2/img0144.png', 1], ['/data_one/unity1/rotation_spotlight_affine/img0005.png', 1], ['/data_one/unity1/rotation_spotlight_affine/img0002.png', 1], ['/data_one/wave/origin_wave9.png', 1], ['/data_one/wave/origin_wave5.png', 1], ['/data_one/unity1/crop_spotlight_affine/img0015.png', 1], ['/data_one/unity2/img0102.png', 1], ['/data_one/unity2/img0109.png', 1], ['/data_one/unity2/img0066.png', 1], ['/data_one/wave/origin_wave7.png', 1], ['/data_one/unity2/img0085.png', 1], ['/data_one/unity1/trans_spotlight_affine/img0014.png', 1], ['/data_one/unity2/img0139.png', 1], ['/data_one/unity1/trans_spotlight_affine/img0002.png', 1], ['/data_one/unity1/wave_spotlight_affine/img0026.png', 1], ['/data_one/unity2/img0014.png', 1], ['/data_one/unity2/img0146.png', 1], ['/data_one/unity2/img0060.png', 1], ['/data_one/unity2/img0041.png', 1], ['/data_one/unity2/img0084.png', 1], ['/data_one/unity2/img0016.png', 1], ['/data_one/unity1/wave_spotlight_affine/img0023.png', 1], ['/data_one/unity2/img0086.png', 1], ['/data_one/unity2/img0167.png', 1], ['/data_one/unity1/warp_spotlight_affine/img0023.png', 1], ['/data_one/unity2/img0061.png', 1], ['/data_one/unity2/img0055.png', 1], ['/data_one/unity2/img0101.png', 1], ['/data_one/unity1/trans_spotlight_affine/img0005.png', 1], ['/data_one/unity1/wave_spotlight_affine/img0009.png', 1], ['/data_one/unity1/crop_spotlight_affine/img0021.png', 1], ['/data_one/unity1/barrel_spotlight_affine/img0008.png', 1], ['/data_one/unity1/wave_spotlight_affine/img0018.png', 1], ['/data_one/unity1/rotation_spotlight_affine/img0011.png', 1], ['/data_one/unity1/warp_spotlight_affine/img0027.png', 1], ['/data_one/unity2/img0013.png', 1], ['/data_one/unity1/wave_spotlight_affine/img0012.png', 1], ['/data_one/unity2/img0137.png', 1], ['/data_one/unity1/flip_spotlight_affine/img0005.png', 1], ['/data_one/unity2/img0188.png', 1], ['/data_one/unity2/img0092.png', 1], ['/data_one/unity2/img0182.png', 1], ['/data_one/unity1/crop_spotlight_affine/img0004.png', 1], ['/data_one/unity2/img0095.png', 1], ['/data_one/unity2/img0162.png', 1], ['/data_one/unity2/img0026.png', 1], ['/data_one/unity2/img0035.png', 1], ['/data_one/unity1/rotation_spotlight_affine/img0018.png', 1], ['/data_one/unity2/img0100.png', 1], ['/data_one/unity2/img0049.png', 1], ['/data_one/unity1/warp_spotlight_affine/img0034.png', 1], ['/data_one/unity2/img0012.png', 1], ['/data_one/unity2/img0034.png', 1], ['/data_one/unity2/img0042.png', 1], ['/data_one/unity2/img0001.png', 1], ['/data_one/unity1/rotation_spotlight_affine/img0020.png', 1], ['/data_one/unity1/barrel_spotlight_affine/img0005.png', 1], ['/data_one/wave/origin_wave6.png', 1], ['/data_one/unity2/img0050.png', 1], ['/data_one/unity1/rotation_spotlight_affine/img0029.png', 1], ['/data_one/unity2/img0123.png', 1], ['/data_one/unity1/wave_spotlight_affine/img0025.png', 1], ['/data_one/unity2/img0127.png', 1], ['/data_one/unity2/img0073.png', 1], ['/data_one/unity2/img0065.png', 1], ['/data_one/unity2/img0174.png', 1], ['/data_one/unity1/wave_spotlight_affine/img0029.png', 1], ['/data_one/unity2/img0022.png', 1], ['/data_one/unity2/img0156.png', 1], ['/data_one/unity2/img0004.png', 1], ['/data_one/unity1/warp_spotlight_affine/img0007.png', 1], ['/data_one/unity1/warp_spotlight_affine/img0009.png', 1], ['/data_one/unity2/img0105.png', 1]]\n"
     ]
    }
   ],
   "source": [
    "print(data2)"
   ]
  },
  {
   "cell_type": "code",
   "execution_count": null,
   "metadata": {},
   "outputs": [],
   "source": [
    "print(data2['test'])"
   ]
  }
 ],
 "metadata": {
  "kernelspec": {
   "display_name": "Python 3",
   "language": "python",
   "name": "python3"
  },
  "language_info": {
   "codemirror_mode": {
    "name": "ipython",
    "version": 3
   },
   "file_extension": ".py",
   "mimetype": "text/x-python",
   "name": "python",
   "nbconvert_exporter": "python",
   "pygments_lexer": "ipython3",
   "version": "3.5.2"
  }
 },
 "nbformat": 4,
 "nbformat_minor": 2
}
