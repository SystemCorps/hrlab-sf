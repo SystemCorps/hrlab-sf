{
 "cells": [
  {
   "cell_type": "code",
   "execution_count": 1,
   "metadata": {
    "scrolled": true
   },
   "outputs": [
    {
     "name": "stderr",
     "output_type": "stream",
     "text": [
      "/usr/local/lib/python3.5/dist-packages/h5py/__init__.py:36: FutureWarning: Conversion of the second argument of issubdtype from `float` to `np.floating` is deprecated. In future, it will be treated as `np.float64 == np.dtype(float).type`.\n",
      "  from ._conv import register_converters as _register_converters\n",
      "/usr/local/lib/python3.5/dist-packages/sklearn/cross_validation.py:41: DeprecationWarning: This module was deprecated in version 0.18 in favor of the model_selection module into which all the refactored classes and functions are moved. Also note that the interface of the new CV iterators are different from that of this module. This module will be removed in 0.20.\n",
      "  \"This module will be removed in 0.20.\", DeprecationWarning)\n"
     ]
    }
   ],
   "source": [
    "from __future__ import absolute_import\n",
    "from __future__ import division\n",
    "from __future__ import print_function\n",
    "\n",
    "import numpy as np\n",
    "import tensorflow as tf\n",
    "\n",
    "import cv2\n",
    "import matplotlib.pyplot as plt\n",
    "from sklearn.cross_validation import train_test_split\n",
    "import random\n",
    "\n",
    "import json\n",
    "\n",
    "from glob import glob"
   ]
  },
  {
   "cell_type": "code",
   "execution_count": 2,
   "metadata": {},
   "outputs": [],
   "source": [
    "# GPU selection (memory)\n",
    "import os\n",
    "#os.environ[\"CUDA_DEVICE_ORDER\"]=\"PCI_BUS_ID\"   \n",
    "#os.environ[\"CUDA_VISIBLE_DEVICES\"]=\"0\""
   ]
  },
  {
   "cell_type": "code",
   "execution_count": 3,
   "metadata": {},
   "outputs": [],
   "source": [
    "# Data info.\n",
    "\n",
    "width = 640\n",
    "height = 480\n",
    "channel = 3\n",
    "\n",
    "\n",
    "# resize\n",
    "r_w = 512\n",
    "r_h = 512\n",
    "\n",
    "total_pix = r_w * r_h * channel"
   ]
  },
  {
   "cell_type": "code",
   "execution_count": 5,
   "metadata": {
    "scrolled": true
   },
   "outputs": [
    {
     "name": "stdout",
     "output_type": "stream",
     "text": [
      "/dataset_full_origin/Untorn/Untorn (416).png\n"
     ]
    }
   ],
   "source": [
    "result = [y for x in os.walk('/dataset_full_origin/') for y in glob(os.path.join(x[0], '*.png'))]\n",
    "print((result[0]))"
   ]
  },
  {
   "cell_type": "code",
   "execution_count": null,
   "metadata": {},
   "outputs": [],
   "source": [
    "os.chdir(\"/dataset_full_origin/Torn/\")\n",
    "torn_dir = [0]*len(result)\n",
    "i=0\n",
    "for file in glob(\"*.png\"):\n",
    "    torn_dir[i] = file\n",
    "    i = i+1"
   ]
  },
  {
   "cell_type": "code",
   "execution_count": null,
   "metadata": {},
   "outputs": [],
   "source": [
    "os.chdir(\"/data_failed/T1/\")\n",
    "base_dir = [0]*len(result)\n",
    "i=0\n",
    "for file in glob(\"*.png\"):\n",
    "    base_dir[i] = file\n",
    "    i = i+1"
   ]
  },
  {
   "cell_type": "code",
   "execution_count": 4,
   "metadata": {},
   "outputs": [],
   "source": [
    "test = open('./data_split/data_dir_dict_0614.txt', 'r')\n",
    "data = test.read()\n",
    "data2 = json.loads(data)"
   ]
  },
  {
   "cell_type": "code",
   "execution_count": 6,
   "metadata": {
    "scrolled": true
   },
   "outputs": [
    {
     "name": "stdout",
     "output_type": "stream",
     "text": [
      "Torn (1058).png\n",
      "914\n"
     ]
    }
   ],
   "source": [
    "test_name = data2['test'][0][0].split(\"/\")[-1]\n",
    "print(test_name)\n",
    "print(len(data2['test']))"
   ]
  },
  {
   "cell_type": "code",
   "execution_count": 9,
   "metadata": {},
   "outputs": [],
   "source": [
    "re_load = [0]*len(data2['test'])\n",
    "for i in range(len(data2['test'])):\n",
    "    f_name = data2['test'][i][0].split(\"/\")[-1]\n",
    "    load_dir = '/dataset_full_origin/'\n",
    "    \n",
    "    if 'Untorn' in f_name:\n",
    "        re_load[i] = load_dir + 'Untorn/' + f_name\n",
    "    else:\n",
    "        re_load[i] = load_dir + 'Torn/' + f_name"
   ]
  },
  {
   "cell_type": "code",
   "execution_count": 14,
   "metadata": {},
   "outputs": [],
   "source": [
    "for i in range(len(re_load)):\n",
    "    img = cv2.imread(re_load[i])\n",
    "    new_dir = '/data_failed/Temp/' + re_load[i].split('/')[-1]\n",
    "    cv2.imwrite(new_dir, img)"
   ]
  },
  {
   "cell_type": "code",
   "execution_count": 10,
   "metadata": {},
   "outputs": [
    {
     "name": "stdout",
     "output_type": "stream",
     "text": [
      "['/dataset_full_origin/Torn/Torn (1058).png', '/dataset_full_origin/Torn/Torn (1297).png', '/dataset_full_origin/Untorn/Untorn (1988).png', '/dataset_full_origin/Untorn/Untorn (780).png', '/dataset_full_origin/Untorn/Untorn (57).png', '/dataset_full_origin/Torn/Torn (1881).png', '/dataset_full_origin/Torn/Torn (769).png', '/dataset_full_origin/Torn/Torn (1040).png', '/dataset_full_origin/Untorn/Untorn (2090).png', '/dataset_full_origin/Torn/Torn (626).png', '/dataset_full_origin/Torn/Torn (2234).png', '/dataset_full_origin/Untorn/Untorn (668).png', '/dataset_full_origin/Torn/Torn (2420).png', '/dataset_full_origin/Torn/Torn (1533).png', '/dataset_full_origin/Torn/Torn (2018).png', '/dataset_full_origin/Untorn/Untorn (1928).png', '/dataset_full_origin/Torn/Torn (365).png', '/dataset_full_origin/Torn/Torn (828).png', '/dataset_full_origin/Torn/Torn (1621).png', '/dataset_full_origin/Torn/Torn (1319).png', '/dataset_full_origin/Untorn/Untorn (348).png', '/dataset_full_origin/Torn/Torn (1082).png', '/dataset_full_origin/Untorn/Untorn (407).png', '/dataset_full_origin/Untorn/Untorn (399).png', '/dataset_full_origin/Untorn/Untorn (903).png', '/dataset_full_origin/Untorn/Untorn (262).png', '/dataset_full_origin/Torn/Torn (2037).png', '/dataset_full_origin/Torn/Torn (2274).png', '/dataset_full_origin/Untorn/Untorn (1735).png', '/dataset_full_origin/Torn/Torn (2262).png', '/dataset_full_origin/Torn/Torn (1776).png', '/dataset_full_origin/Untorn/Untorn (1944).png', '/dataset_full_origin/Untorn/Untorn (1012).png', '/dataset_full_origin/Torn/Torn (439).png', '/dataset_full_origin/Torn/Torn (1834).png', '/dataset_full_origin/Untorn/Untorn (506).png', '/dataset_full_origin/Torn/Torn (1667).png', '/dataset_full_origin/Torn/Torn (625).png', '/dataset_full_origin/Untorn/Untorn (2074).png', '/dataset_full_origin/Torn/Torn (1084).png', '/dataset_full_origin/Torn/Torn (1289).png', '/dataset_full_origin/Untorn/Untorn (109).png', '/dataset_full_origin/Torn/Torn (54).png', '/dataset_full_origin/Torn/Torn (112).png', '/dataset_full_origin/Untorn/Untorn (1067).png', '/dataset_full_origin/Untorn/Untorn (1537).png', '/dataset_full_origin/Torn/Torn (1118).png', '/dataset_full_origin/Torn/Torn (1535).png', '/dataset_full_origin/Torn/Torn (2263).png', '/dataset_full_origin/Torn/Torn (655).png', '/dataset_full_origin/Torn/Torn (293).png', '/dataset_full_origin/Untorn/Untorn (1062).png', '/dataset_full_origin/Untorn/Untorn (701).png', '/dataset_full_origin/Torn/Torn (1563).png', '/dataset_full_origin/Untorn/Untorn (500).png', '/dataset_full_origin/Untorn/Untorn (1512).png', '/dataset_full_origin/Untorn/Untorn (1359).png', '/dataset_full_origin/Untorn/Untorn (182).png', '/dataset_full_origin/Untorn/Untorn (1968).png', '/dataset_full_origin/Torn/Torn (1400).png', '/dataset_full_origin/Untorn/Untorn (1335).png', '/dataset_full_origin/Untorn/Untorn (472).png', '/dataset_full_origin/Torn/Torn (250).png', '/dataset_full_origin/Untorn/Untorn (1952).png', '/dataset_full_origin/Torn/Torn (2246).png', '/dataset_full_origin/Torn/Torn (732).png', '/dataset_full_origin/Untorn/Untorn (1014).png', '/dataset_full_origin/Torn/Torn (226).png', '/dataset_full_origin/Torn/Torn (95).png', '/dataset_full_origin/Torn/Torn (2032).png', '/dataset_full_origin/Torn/Torn (21).png', '/dataset_full_origin/Untorn/Untorn (1462).png', '/dataset_full_origin/Untorn/Untorn (1603).png', '/dataset_full_origin/Torn/Torn (2331).png', '/dataset_full_origin/Torn/Torn (1547).png', '/dataset_full_origin/Torn/Torn (955).png', '/dataset_full_origin/Torn/Torn (1039).png', '/dataset_full_origin/Torn/Torn (1152).png', '/dataset_full_origin/Torn/Torn (604).png', '/dataset_full_origin/Untorn/Untorn (762).png', '/dataset_full_origin/Untorn/Untorn (1243).png', '/dataset_full_origin/Torn/Torn (278).png', '/dataset_full_origin/Torn/Torn (2273).png', '/dataset_full_origin/Torn/Torn (1459).png', '/dataset_full_origin/Torn/Torn (38).png', '/dataset_full_origin/Torn/Torn (1483).png', '/dataset_full_origin/Untorn/Untorn (1836).png', '/dataset_full_origin/Torn/Torn (257).png', '/dataset_full_origin/Untorn/Untorn (1901).png', '/dataset_full_origin/Untorn/Untorn (531).png', '/dataset_full_origin/Untorn/Untorn (1098).png', '/dataset_full_origin/Untorn/Untorn (912).png', '/dataset_full_origin/Torn/Torn (1557).png', '/dataset_full_origin/Torn/Torn (1065).png', '/dataset_full_origin/Torn/Torn (1510).png', '/dataset_full_origin/Torn/Torn (1718).png', '/dataset_full_origin/Torn/Torn (819).png', '/dataset_full_origin/Torn/Torn (311).png', '/dataset_full_origin/Torn/Torn (1902).png', '/dataset_full_origin/Torn/Torn (1282).png', '/dataset_full_origin/Torn/Torn (935).png', '/dataset_full_origin/Torn/Torn (81).png', '/dataset_full_origin/Torn/Torn (1213).png', '/dataset_full_origin/Torn/Torn (279).png', '/dataset_full_origin/Torn/Torn (444).png', '/dataset_full_origin/Untorn/Untorn (743).png', '/dataset_full_origin/Torn/Torn (1720).png', '/dataset_full_origin/Torn/Torn (1309).png', '/dataset_full_origin/Untorn/Untorn (2066).png', '/dataset_full_origin/Torn/Torn (1330).png', '/dataset_full_origin/Torn/Torn (1173).png', '/dataset_full_origin/Torn/Torn (134).png', '/dataset_full_origin/Torn/Torn (481).png', '/dataset_full_origin/Torn/Torn (179).png', '/dataset_full_origin/Torn/Torn (1299).png', '/dataset_full_origin/Torn/Torn (1485).png', '/dataset_full_origin/Untorn/Untorn (1659).png', '/dataset_full_origin/Torn/Torn (1095).png', '/dataset_full_origin/Torn/Torn (827).png', '/dataset_full_origin/Untorn/Untorn (278).png', '/dataset_full_origin/Torn/Torn (272).png', '/dataset_full_origin/Untorn/Untorn (303).png', '/dataset_full_origin/Untorn/Untorn (430).png', '/dataset_full_origin/Untorn/Untorn (1858).png', '/dataset_full_origin/Untorn/Untorn (1980).png', '/dataset_full_origin/Untorn/Untorn (72).png', '/dataset_full_origin/Untorn/Untorn (1602).png', '/dataset_full_origin/Untorn/Untorn (1077).png', '/dataset_full_origin/Torn/Torn (1015).png', '/dataset_full_origin/Torn/Torn (2017).png', '/dataset_full_origin/Untorn/Untorn (811).png', '/dataset_full_origin/Torn/Torn (595).png', '/dataset_full_origin/Torn/Torn (190).png', '/dataset_full_origin/Torn/Torn (1644).png', '/dataset_full_origin/Torn/Torn (1149).png', '/dataset_full_origin/Torn/Torn (1664).png', '/dataset_full_origin/Torn/Torn (853).png', '/dataset_full_origin/Torn/Torn (1960).png', '/dataset_full_origin/Untorn/Untorn (724).png', '/dataset_full_origin/Untorn/Untorn (1356).png', '/dataset_full_origin/Untorn/Untorn (595).png', '/dataset_full_origin/Untorn/Untorn (907).png', '/dataset_full_origin/Torn/Torn (2033).png', '/dataset_full_origin/Torn/Torn (1846).png', '/dataset_full_origin/Torn/Torn (97).png', '/dataset_full_origin/Torn/Torn (1192).png', '/dataset_full_origin/Untorn/Untorn (617).png', '/dataset_full_origin/Untorn/Untorn (1000).png', '/dataset_full_origin/Untorn/Untorn (2071).png', '/dataset_full_origin/Torn/Torn (319).png', '/dataset_full_origin/Torn/Torn (345).png', '/dataset_full_origin/Untorn/Untorn (945).png', '/dataset_full_origin/Untorn/Untorn (1143).png', '/dataset_full_origin/Torn/Torn (2144).png', '/dataset_full_origin/Torn/Torn (725).png', '/dataset_full_origin/Untorn/Untorn (1287).png', '/dataset_full_origin/Untorn/Untorn (839).png', '/dataset_full_origin/Untorn/Untorn (1699).png', '/dataset_full_origin/Torn/Torn (1422).png', '/dataset_full_origin/Untorn/Untorn (1792).png', '/dataset_full_origin/Untorn/Untorn (1570).png', '/dataset_full_origin/Torn/Torn (285).png', '/dataset_full_origin/Untorn/Untorn (1201).png', '/dataset_full_origin/Torn/Torn (1481).png', '/dataset_full_origin/Torn/Torn (927).png', '/dataset_full_origin/Untorn/Untorn (1771).png', '/dataset_full_origin/Torn/Torn (1583).png', '/dataset_full_origin/Untorn/Untorn (1032).png', '/dataset_full_origin/Torn/Torn (847).png', '/dataset_full_origin/Torn/Torn (987).png', '/dataset_full_origin/Untorn/Untorn (1779).png', '/dataset_full_origin/Untorn/Untorn (1411).png', '/dataset_full_origin/Torn/Torn (2314).png', '/dataset_full_origin/Torn/Torn (1539).png', '/dataset_full_origin/Untorn/Untorn (574).png', '/dataset_full_origin/Torn/Torn (78).png', '/dataset_full_origin/Torn/Torn (901).png', '/dataset_full_origin/Untorn/Untorn (1364).png', '/dataset_full_origin/Torn/Torn (803).png', '/dataset_full_origin/Untorn/Untorn (699).png', '/dataset_full_origin/Torn/Torn (225).png', '/dataset_full_origin/Torn/Torn (842).png', '/dataset_full_origin/Torn/Torn (1210).png', '/dataset_full_origin/Torn/Torn (1217).png', '/dataset_full_origin/Torn/Torn (1843).png', '/dataset_full_origin/Torn/Torn (1463).png', '/dataset_full_origin/Torn/Torn (1318).png', '/dataset_full_origin/Torn/Torn (2324).png', '/dataset_full_origin/Untorn/Untorn (1148).png', '/dataset_full_origin/Untorn/Untorn (211).png', '/dataset_full_origin/Untorn/Untorn (1910).png', '/dataset_full_origin/Torn/Torn (2364).png', '/dataset_full_origin/Torn/Torn (82).png', '/dataset_full_origin/Untorn/Untorn (577).png', '/dataset_full_origin/Torn/Torn (2019).png', '/dataset_full_origin/Torn/Torn (1721).png', '/dataset_full_origin/Untorn/Untorn (1222).png', '/dataset_full_origin/Untorn/Untorn (353).png', '/dataset_full_origin/Torn/Torn (98).png', '/dataset_full_origin/Untorn/Untorn (1026).png', '/dataset_full_origin/Untorn/Untorn (1875).png', '/dataset_full_origin/Torn/Torn (42).png', '/dataset_full_origin/Untorn/Untorn (695).png', '/dataset_full_origin/Torn/Torn (2380).png', '/dataset_full_origin/Untorn/Untorn (59).png', '/dataset_full_origin/Untorn/Untorn (1011).png', '/dataset_full_origin/Torn/Torn (1828).png', '/dataset_full_origin/Torn/Torn (2058).png', '/dataset_full_origin/Untorn/Untorn (367).png', '/dataset_full_origin/Torn/Torn (969).png', '/dataset_full_origin/Untorn/Untorn (60).png', '/dataset_full_origin/Untorn/Untorn (1752).png', '/dataset_full_origin/Untorn/Untorn (508).png', '/dataset_full_origin/Torn/Torn (491).png', '/dataset_full_origin/Untorn/Untorn (650).png', '/dataset_full_origin/Torn/Torn (1824).png', '/dataset_full_origin/Untorn/Untorn (66).png', '/dataset_full_origin/Torn/Torn (1114).png', '/dataset_full_origin/Untorn/Untorn (1804).png', '/dataset_full_origin/Torn/Torn (689).png', '/dataset_full_origin/Torn/Torn (1984).png', '/dataset_full_origin/Torn/Torn (1944).png', '/dataset_full_origin/Untorn/Untorn (2104).png', '/dataset_full_origin/Untorn/Untorn (1389).png', '/dataset_full_origin/Torn/Torn (1600).png', '/dataset_full_origin/Untorn/Untorn (116).png', '/dataset_full_origin/Untorn/Untorn (334).png', '/dataset_full_origin/Torn/Torn (1662).png', '/dataset_full_origin/Untorn/Untorn (461).png', '/dataset_full_origin/Untorn/Untorn (1987).png', '/dataset_full_origin/Torn/Torn (833).png', '/dataset_full_origin/Untorn/Untorn (1104).png', '/dataset_full_origin/Torn/Torn (2228).png', '/dataset_full_origin/Torn/Torn (192).png', '/dataset_full_origin/Untorn/Untorn (1311).png', '/dataset_full_origin/Untorn/Untorn (1567).png', '/dataset_full_origin/Torn/Torn (447).png', '/dataset_full_origin/Untorn/Untorn (1923).png', '/dataset_full_origin/Torn/Torn (2093).png', '/dataset_full_origin/Untorn/Untorn (247).png', '/dataset_full_origin/Untorn/Untorn (944).png', '/dataset_full_origin/Torn/Torn (1842).png', '/dataset_full_origin/Untorn/Untorn (414).png', '/dataset_full_origin/Untorn/Untorn (1503).png', '/dataset_full_origin/Torn/Torn (1663).png', '/dataset_full_origin/Untorn/Untorn (2045).png', '/dataset_full_origin/Untorn/Untorn (1045).png', '/dataset_full_origin/Torn/Torn (607).png', '/dataset_full_origin/Untorn/Untorn (1403).png', '/dataset_full_origin/Torn/Torn (245).png', '/dataset_full_origin/Untorn/Untorn (180).png', '/dataset_full_origin/Untorn/Untorn (1506).png', '/dataset_full_origin/Torn/Torn (648).png', '/dataset_full_origin/Untorn/Untorn (494).png', '/dataset_full_origin/Untorn/Untorn (460).png', '/dataset_full_origin/Torn/Torn (956).png', '/dataset_full_origin/Untorn/Untorn (136).png', '/dataset_full_origin/Untorn/Untorn (1255).png', '/dataset_full_origin/Untorn/Untorn (522).png', '/dataset_full_origin/Untorn/Untorn (748).png', '/dataset_full_origin/Torn/Torn (1277).png', '/dataset_full_origin/Torn/Torn (106).png', '/dataset_full_origin/Torn/Torn (1101).png', '/dataset_full_origin/Untorn/Untorn (427).png', '/dataset_full_origin/Torn/Torn (1941).png', '/dataset_full_origin/Torn/Torn (660).png', '/dataset_full_origin/Untorn/Untorn (1945).png', '/dataset_full_origin/Torn/Torn (2193).png', '/dataset_full_origin/Untorn/Untorn (1456).png', '/dataset_full_origin/Untorn/Untorn (1075).png', '/dataset_full_origin/Torn/Torn (2001).png', '/dataset_full_origin/Untorn/Untorn (1468).png', '/dataset_full_origin/Untorn/Untorn (1839).png', '/dataset_full_origin/Torn/Torn (1638).png', '/dataset_full_origin/Untorn/Untorn (813).png', '/dataset_full_origin/Torn/Torn (2216).png', '/dataset_full_origin/Torn/Torn (1145).png', '/dataset_full_origin/Untorn/Untorn (16).png', '/dataset_full_origin/Torn/Torn (999).png', '/dataset_full_origin/Torn/Torn (1991).png', '/dataset_full_origin/Torn/Torn (1184).png', '/dataset_full_origin/Torn/Torn (971).png', '/dataset_full_origin/Torn/Torn (854).png', '/dataset_full_origin/Untorn/Untorn (1488).png', '/dataset_full_origin/Untorn/Untorn (1882).png', '/dataset_full_origin/Torn/Torn (1508).png', '/dataset_full_origin/Torn/Torn (1845).png', '/dataset_full_origin/Torn/Torn (378).png', '/dataset_full_origin/Untorn/Untorn (1798).png', '/dataset_full_origin/Untorn/Untorn (1182).png', '/dataset_full_origin/Untorn/Untorn (509).png', '/dataset_full_origin/Torn/Torn (1267).png', '/dataset_full_origin/Torn/Torn (1233).png', '/dataset_full_origin/Torn/Torn (663).png', '/dataset_full_origin/Torn/Torn (521).png', '/dataset_full_origin/Torn/Torn (1045).png', '/dataset_full_origin/Untorn/Untorn (1485).png', '/dataset_full_origin/Torn/Torn (1847).png', '/dataset_full_origin/Untorn/Untorn (1639).png', '/dataset_full_origin/Torn/Torn (1765).png', '/dataset_full_origin/Torn/Torn (765).png', '/dataset_full_origin/Torn/Torn (61).png', '/dataset_full_origin/Untorn/Untorn (868).png', '/dataset_full_origin/Untorn/Untorn (516).png', '/dataset_full_origin/Torn/Torn (2160).png', '/dataset_full_origin/Untorn/Untorn (117).png', '/dataset_full_origin/Untorn/Untorn (338).png', '/dataset_full_origin/Untorn/Untorn (959).png', '/dataset_full_origin/Torn/Torn (1205).png', '/dataset_full_origin/Torn/Torn (1684).png', '/dataset_full_origin/Torn/Torn (840).png', '/dataset_full_origin/Untorn/Untorn (107).png', '/dataset_full_origin/Torn/Torn (517).png', '/dataset_full_origin/Torn/Torn (1891).png', '/dataset_full_origin/Untorn/Untorn (93).png', '/dataset_full_origin/Untorn/Untorn (1378).png', '/dataset_full_origin/Torn/Torn (510).png', '/dataset_full_origin/Untorn/Untorn (541).png', '/dataset_full_origin/Untorn/Untorn (1936).png', '/dataset_full_origin/Untorn/Untorn (518).png', '/dataset_full_origin/Untorn/Untorn (1305).png', '/dataset_full_origin/Untorn/Untorn (787).png', '/dataset_full_origin/Torn/Torn (1772).png', '/dataset_full_origin/Torn/Torn (1167).png', '/dataset_full_origin/Torn/Torn (900).png', '/dataset_full_origin/Torn/Torn (1060).png', '/dataset_full_origin/Torn/Torn (1745).png', '/dataset_full_origin/Untorn/Untorn (267).png', '/dataset_full_origin/Untorn/Untorn (768).png', '/dataset_full_origin/Untorn/Untorn (1573).png', '/dataset_full_origin/Torn/Torn (2356).png', '/dataset_full_origin/Torn/Torn (1764).png', '/dataset_full_origin/Untorn/Untorn (405).png', '/dataset_full_origin/Untorn/Untorn (2094).png', '/dataset_full_origin/Untorn/Untorn (387).png', '/dataset_full_origin/Untorn/Untorn (774).png', '/dataset_full_origin/Torn/Torn (1272).png', '/dataset_full_origin/Torn/Torn (759).png', '/dataset_full_origin/Torn/Torn (241).png', '/dataset_full_origin/Torn/Torn (2342).png', '/dataset_full_origin/Torn/Torn (23).png', '/dataset_full_origin/Torn/Torn (649).png', '/dataset_full_origin/Torn/Torn (2400).png', '/dataset_full_origin/Untorn/Untorn (1724).png', '/dataset_full_origin/Torn/Torn (347).png', '/dataset_full_origin/Untorn/Untorn (802).png', '/dataset_full_origin/Torn/Torn (582).png', '/dataset_full_origin/Untorn/Untorn (1324).png', '/dataset_full_origin/Torn/Torn (2422).png', '/dataset_full_origin/Untorn/Untorn (1613).png', '/dataset_full_origin/Untorn/Untorn (1213).png', '/dataset_full_origin/Untorn/Untorn (1307).png', '/dataset_full_origin/Untorn/Untorn (1545).png', '/dataset_full_origin/Untorn/Untorn (2099).png', '/dataset_full_origin/Untorn/Untorn (871).png', '/dataset_full_origin/Torn/Torn (565).png', '/dataset_full_origin/Torn/Torn (1355).png', '/dataset_full_origin/Torn/Torn (2290).png', '/dataset_full_origin/Untorn/Untorn (686).png', '/dataset_full_origin/Torn/Torn (2298).png', '/dataset_full_origin/Torn/Torn (541).png', '/dataset_full_origin/Untorn/Untorn (1572).png', '/dataset_full_origin/Torn/Torn (1937).png', '/dataset_full_origin/Torn/Torn (119).png', '/dataset_full_origin/Untorn/Untorn (1879).png', '/dataset_full_origin/Torn/Torn (2325).png', '/dataset_full_origin/Untorn/Untorn (1325).png', '/dataset_full_origin/Torn/Torn (2030).png', '/dataset_full_origin/Untorn/Untorn (2011).png', '/dataset_full_origin/Untorn/Untorn (1234).png', '/dataset_full_origin/Untorn/Untorn (1451).png', '/dataset_full_origin/Torn/Torn (729).png', '/dataset_full_origin/Torn/Torn (222).png', '/dataset_full_origin/Torn/Torn (1271).png', '/dataset_full_origin/Untorn/Untorn (499).png', '/dataset_full_origin/Untorn/Untorn (666).png', '/dataset_full_origin/Torn/Torn (1409).png', '/dataset_full_origin/Torn/Torn (43).png', '/dataset_full_origin/Torn/Torn (1396).png', '/dataset_full_origin/Untorn/Untorn (1004).png', '/dataset_full_origin/Untorn/Untorn (1730).png', '/dataset_full_origin/Torn/Torn (974).png', '/dataset_full_origin/Torn/Torn (2348).png', '/dataset_full_origin/Torn/Torn (2313).png', '/dataset_full_origin/Untorn/Untorn (318).png', '/dataset_full_origin/Untorn/Untorn (2005).png', '/dataset_full_origin/Untorn/Untorn (268).png', '/dataset_full_origin/Torn/Torn (2190).png', '/dataset_full_origin/Untorn/Untorn (1611).png', '/dataset_full_origin/Torn/Torn (12).png', '/dataset_full_origin/Torn/Torn (910).png', '/dataset_full_origin/Torn/Torn (333).png', '/dataset_full_origin/Torn/Torn (1021).png', '/dataset_full_origin/Untorn/Untorn (926).png', '/dataset_full_origin/Torn/Torn (1897).png', '/dataset_full_origin/Torn/Torn (523).png', '/dataset_full_origin/Untorn/Untorn (130).png', '/dataset_full_origin/Untorn/Untorn (1072).png', '/dataset_full_origin/Torn/Torn (659).png', '/dataset_full_origin/Torn/Torn (2336).png', '/dataset_full_origin/Torn/Torn (1331).png', '/dataset_full_origin/Untorn/Untorn (350).png', '/dataset_full_origin/Untorn/Untorn (2016).png', '/dataset_full_origin/Torn/Torn (268).png', '/dataset_full_origin/Torn/Torn (1855).png', '/dataset_full_origin/Untorn/Untorn (824).png', '/dataset_full_origin/Untorn/Untorn (1723).png', '/dataset_full_origin/Torn/Torn (1715).png', '/dataset_full_origin/Torn/Torn (317).png', '/dataset_full_origin/Torn/Torn (1814).png', '/dataset_full_origin/Untorn/Untorn (1689).png', '/dataset_full_origin/Untorn/Untorn (2120).png', '/dataset_full_origin/Torn/Torn (1893).png', '/dataset_full_origin/Untorn/Untorn (1373).png', '/dataset_full_origin/Torn/Torn (349).png', '/dataset_full_origin/Torn/Torn (875).png', '/dataset_full_origin/Untorn/Untorn (571).png', '/dataset_full_origin/Untorn/Untorn (186).png', '/dataset_full_origin/Untorn/Untorn (1074).png', '/dataset_full_origin/Untorn/Untorn (1191).png', '/dataset_full_origin/Torn/Torn (404).png', '/dataset_full_origin/Torn/Torn (735).png', '/dataset_full_origin/Torn/Torn (1155).png', '/dataset_full_origin/Torn/Torn (2289).png', '/dataset_full_origin/Torn/Torn (1007).png', '/dataset_full_origin/Untorn/Untorn (1276).png', '/dataset_full_origin/Untorn/Untorn (1791).png', '/dataset_full_origin/Torn/Torn (1652).png', '/dataset_full_origin/Torn/Torn (1389).png', '/dataset_full_origin/Torn/Torn (1989).png', '/dataset_full_origin/Torn/Torn (2327).png', '/dataset_full_origin/Untorn/Untorn (1380).png', '/dataset_full_origin/Untorn/Untorn (1).png', '/dataset_full_origin/Untorn/Untorn (233).png', '/dataset_full_origin/Torn/Torn (434).png', '/dataset_full_origin/Torn/Torn (2102).png', '/dataset_full_origin/Torn/Torn (561).png', '/dataset_full_origin/Torn/Torn (462).png', '/dataset_full_origin/Torn/Torn (1645).png', '/dataset_full_origin/Torn/Torn (1343).png', '/dataset_full_origin/Torn/Torn (774).png', '/dataset_full_origin/Torn/Torn (18).png', '/dataset_full_origin/Untorn/Untorn (1159).png', '/dataset_full_origin/Untorn/Untorn (164).png', '/dataset_full_origin/Untorn/Untorn (1891).png', '/dataset_full_origin/Untorn/Untorn (1906).png', '/dataset_full_origin/Untorn/Untorn (732).png', '/dataset_full_origin/Torn/Torn (885).png', '/dataset_full_origin/Untorn/Untorn (1447).png', '/dataset_full_origin/Torn/Torn (1521).png', '/dataset_full_origin/Untorn/Untorn (1939).png', '/dataset_full_origin/Torn/Torn (1140).png', '/dataset_full_origin/Untorn/Untorn (1898).png', '/dataset_full_origin/Untorn/Untorn (151).png', '/dataset_full_origin/Torn/Torn (1122).png', '/dataset_full_origin/Torn/Torn (479).png', '/dataset_full_origin/Untorn/Untorn (562).png', '/dataset_full_origin/Untorn/Untorn (8).png', '/dataset_full_origin/Torn/Torn (1237).png', '/dataset_full_origin/Untorn/Untorn (282).png', '/dataset_full_origin/Torn/Torn (472).png', '/dataset_full_origin/Untorn/Untorn (1797).png', '/dataset_full_origin/Torn/Torn (1416).png', '/dataset_full_origin/Untorn/Untorn (1553).png', '/dataset_full_origin/Torn/Torn (123).png', '/dataset_full_origin/Untorn/Untorn (734).png', '/dataset_full_origin/Untorn/Untorn (2102).png', '/dataset_full_origin/Torn/Torn (504).png', '/dataset_full_origin/Torn/Torn (485).png', '/dataset_full_origin/Untorn/Untorn (1409).png', '/dataset_full_origin/Torn/Torn (1562).png', '/dataset_full_origin/Untorn/Untorn (1402).png', '/dataset_full_origin/Untorn/Untorn (1970).png', '/dataset_full_origin/Torn/Torn (2187).png', '/dataset_full_origin/Torn/Torn (1159).png', '/dataset_full_origin/Torn/Torn (1848).png', '/dataset_full_origin/Untorn/Untorn (1917).png', '/dataset_full_origin/Untorn/Untorn (1130).png', '/dataset_full_origin/Torn/Torn (1018).png', '/dataset_full_origin/Torn/Torn (1392).png', '/dataset_full_origin/Torn/Torn (1857).png', '/dataset_full_origin/Torn/Torn (1176).png', '/dataset_full_origin/Untorn/Untorn (417).png', '/dataset_full_origin/Untorn/Untorn (793).png', '/dataset_full_origin/Torn/Torn (2177).png', '/dataset_full_origin/Untorn/Untorn (1415).png', '/dataset_full_origin/Torn/Torn (213).png', '/dataset_full_origin/Untorn/Untorn (105).png', '/dataset_full_origin/Torn/Torn (191).png', '/dataset_full_origin/Untorn/Untorn (1807).png', '/dataset_full_origin/Torn/Torn (139).png', '/dataset_full_origin/Untorn/Untorn (1214).png', '/dataset_full_origin/Untorn/Untorn (2018).png', '/dataset_full_origin/Untorn/Untorn (209).png', '/dataset_full_origin/Untorn/Untorn (901).png', '/dataset_full_origin/Torn/Torn (183).png', '/dataset_full_origin/Torn/Torn (1677).png', '/dataset_full_origin/Untorn/Untorn (391).png', '/dataset_full_origin/Untorn/Untorn (34).png', '/dataset_full_origin/Untorn/Untorn (713).png', '/dataset_full_origin/Torn/Torn (1397).png', '/dataset_full_origin/Untorn/Untorn (1849).png', '/dataset_full_origin/Untorn/Untorn (110).png', '/dataset_full_origin/Torn/Torn (359).png', '/dataset_full_origin/Torn/Torn (2130).png', '/dataset_full_origin/Torn/Torn (2229).png', '/dataset_full_origin/Torn/Torn (232).png', '/dataset_full_origin/Torn/Torn (1103).png', '/dataset_full_origin/Torn/Torn (712).png', '/dataset_full_origin/Torn/Torn (2423).png', '/dataset_full_origin/Torn/Torn (1320).png', '/dataset_full_origin/Untorn/Untorn (1845).png', '/dataset_full_origin/Torn/Torn (2357).png', '/dataset_full_origin/Untorn/Untorn (1031).png', '/dataset_full_origin/Untorn/Untorn (1838).png', '/dataset_full_origin/Untorn/Untorn (291).png', '/dataset_full_origin/Untorn/Untorn (1125).png', '/dataset_full_origin/Untorn/Untorn (1523).png', '/dataset_full_origin/Torn/Torn (2016).png', '/dataset_full_origin/Torn/Torn (2175).png', '/dataset_full_origin/Torn/Torn (1639).png', '/dataset_full_origin/Untorn/Untorn (1726).png', '/dataset_full_origin/Untorn/Untorn (1472).png', '/dataset_full_origin/Untorn/Untorn (437).png', '/dataset_full_origin/Torn/Torn (973).png', '/dataset_full_origin/Torn/Torn (938).png', '/dataset_full_origin/Torn/Torn (1353).png', '/dataset_full_origin/Torn/Torn (1113).png', '/dataset_full_origin/Torn/Torn (1532).png', '/dataset_full_origin/Untorn/Untorn (1604).png', '/dataset_full_origin/Torn/Torn (1705).png', '/dataset_full_origin/Torn/Torn (118).png', '/dataset_full_origin/Torn/Torn (772).png', '/dataset_full_origin/Torn/Torn (2200).png', '/dataset_full_origin/Torn/Torn (1634).png', '/dataset_full_origin/Untorn/Untorn (1897).png', '/dataset_full_origin/Untorn/Untorn (1321).png', '/dataset_full_origin/Torn/Torn (487).png', '/dataset_full_origin/Torn/Torn (784).png', '/dataset_full_origin/Untorn/Untorn (1984).png', '/dataset_full_origin/Torn/Torn (2182).png', '/dataset_full_origin/Torn/Torn (1347).png', '/dataset_full_origin/Untorn/Untorn (1911).png', '/dataset_full_origin/Torn/Torn (821).png', '/dataset_full_origin/Torn/Torn (2002).png', '/dataset_full_origin/Untorn/Untorn (1627).png', '/dataset_full_origin/Torn/Torn (895).png', '/dataset_full_origin/Untorn/Untorn (1961).png', '/dataset_full_origin/Torn/Torn (1819).png', '/dataset_full_origin/Untorn/Untorn (796).png', '/dataset_full_origin/Torn/Torn (2381).png', '/dataset_full_origin/Torn/Torn (1435).png', '/dataset_full_origin/Torn/Torn (1352).png', '/dataset_full_origin/Untorn/Untorn (1744).png', '/dataset_full_origin/Torn/Torn (1949).png', '/dataset_full_origin/Untorn/Untorn (662).png', '/dataset_full_origin/Torn/Torn (2407).png', '/dataset_full_origin/Untorn/Untorn (1186).png', '/dataset_full_origin/Torn/Torn (964).png', '/dataset_full_origin/Torn/Torn (399).png', '/dataset_full_origin/Untorn/Untorn (610).png', '/dataset_full_origin/Torn/Torn (380).png', '/dataset_full_origin/Torn/Torn (768).png', '/dataset_full_origin/Torn/Torn (1507).png', '/dataset_full_origin/Torn/Torn (2339).png', '/dataset_full_origin/Torn/Torn (421).png', '/dataset_full_origin/Untorn/Untorn (1664).png', '/dataset_full_origin/Torn/Torn (310).png', '/dataset_full_origin/Torn/Torn (1306).png', '/dataset_full_origin/Torn/Torn (2021).png', '/dataset_full_origin/Untorn/Untorn (2127).png', '/dataset_full_origin/Untorn/Untorn (1675).png', '/dataset_full_origin/Torn/Torn (1591).png', '/dataset_full_origin/Torn/Torn (214).png', '/dataset_full_origin/Torn/Torn (1202).png', '/dataset_full_origin/Torn/Torn (588).png', '/dataset_full_origin/Torn/Torn (1328).png', '/dataset_full_origin/Torn/Torn (883).png', '/dataset_full_origin/Torn/Torn (599).png', '/dataset_full_origin/Untorn/Untorn (2010).png', '/dataset_full_origin/Torn/Torn (20).png', '/dataset_full_origin/Torn/Torn (34).png', '/dataset_full_origin/Untorn/Untorn (1303).png', '/dataset_full_origin/Torn/Torn (185).png', '/dataset_full_origin/Torn/Torn (1537).png', '/dataset_full_origin/Torn/Torn (2047).png', '/dataset_full_origin/Untorn/Untorn (2027).png', '/dataset_full_origin/Untorn/Untorn (413).png', '/dataset_full_origin/Torn/Torn (2025).png', '/dataset_full_origin/Torn/Torn (1044).png', '/dataset_full_origin/Torn/Torn (2139).png', '/dataset_full_origin/Torn/Torn (511).png', '/dataset_full_origin/Untorn/Untorn (2032).png', '/dataset_full_origin/Untorn/Untorn (1153).png', '/dataset_full_origin/Untorn/Untorn (125).png', '/dataset_full_origin/Torn/Torn (869).png', '/dataset_full_origin/Untorn/Untorn (546).png', '/dataset_full_origin/Torn/Torn (381).png', '/dataset_full_origin/Untorn/Untorn (308).png', '/dataset_full_origin/Torn/Torn (799).png', '/dataset_full_origin/Untorn/Untorn (2125).png', '/dataset_full_origin/Untorn/Untorn (449).png', '/dataset_full_origin/Untorn/Untorn (1313).png', '/dataset_full_origin/Torn/Torn (761).png', '/dataset_full_origin/Torn/Torn (1584).png', '/dataset_full_origin/Torn/Torn (2285).png', '/dataset_full_origin/Untorn/Untorn (1782).png', '/dataset_full_origin/Torn/Torn (178).png', '/dataset_full_origin/Untorn/Untorn (54).png', '/dataset_full_origin/Untorn/Untorn (1522).png', '/dataset_full_origin/Untorn/Untorn (487).png', '/dataset_full_origin/Untorn/Untorn (1844).png', '/dataset_full_origin/Untorn/Untorn (1729).png', '/dataset_full_origin/Untorn/Untorn (702).png', '/dataset_full_origin/Torn/Torn (129).png', '/dataset_full_origin/Untorn/Untorn (723).png', '/dataset_full_origin/Torn/Torn (1394).png', '/dataset_full_origin/Untorn/Untorn (1001).png', '/dataset_full_origin/Torn/Torn (1226).png', '/dataset_full_origin/Untorn/Untorn (1245).png', '/dataset_full_origin/Torn/Torn (2150).png', '/dataset_full_origin/Torn/Torn (2322).png', '/dataset_full_origin/Torn/Torn (1550).png', '/dataset_full_origin/Untorn/Untorn (1195).png', '/dataset_full_origin/Torn/Torn (1398).png', '/dataset_full_origin/Untorn/Untorn (958).png', '/dataset_full_origin/Torn/Torn (270).png', '/dataset_full_origin/Torn/Torn (1691).png', '/dataset_full_origin/Torn/Torn (1945).png', '/dataset_full_origin/Torn/Torn (2096).png', '/dataset_full_origin/Untorn/Untorn (250).png', '/dataset_full_origin/Untorn/Untorn (1408).png', '/dataset_full_origin/Torn/Torn (1813).png', '/dataset_full_origin/Torn/Torn (2370).png', '/dataset_full_origin/Torn/Torn (1012).png', '/dataset_full_origin/Untorn/Untorn (677).png', '/dataset_full_origin/Torn/Torn (775).png', '/dataset_full_origin/Untorn/Untorn (1885).png', '/dataset_full_origin/Torn/Torn (1556).png', '/dataset_full_origin/Torn/Torn (212).png', '/dataset_full_origin/Untorn/Untorn (126).png', '/dataset_full_origin/Untorn/Untorn (42).png', '/dataset_full_origin/Torn/Torn (1279).png', '/dataset_full_origin/Untorn/Untorn (2091).png', '/dataset_full_origin/Untorn/Untorn (1672).png', '/dataset_full_origin/Torn/Torn (834).png', '/dataset_full_origin/Untorn/Untorn (1741).png', '/dataset_full_origin/Untorn/Untorn (1606).png', '/dataset_full_origin/Torn/Torn (454).png', '/dataset_full_origin/Torn/Torn (929).png', '/dataset_full_origin/Untorn/Untorn (465).png', '/dataset_full_origin/Untorn/Untorn (1821).png', '/dataset_full_origin/Torn/Torn (2061).png', '/dataset_full_origin/Torn/Torn (205).png', '/dataset_full_origin/Torn/Torn (1230).png', '/dataset_full_origin/Untorn/Untorn (1215).png', '/dataset_full_origin/Torn/Torn (1973).png', '/dataset_full_origin/Torn/Torn (1458).png', '/dataset_full_origin/Untorn/Untorn (1244).png', '/dataset_full_origin/Untorn/Untorn (1065).png', '/dataset_full_origin/Torn/Torn (107).png', '/dataset_full_origin/Untorn/Untorn (648).png', '/dataset_full_origin/Torn/Torn (2082).png', '/dataset_full_origin/Torn/Torn (242).png', '/dataset_full_origin/Torn/Torn (829).png', '/dataset_full_origin/Torn/Torn (1359).png', '/dataset_full_origin/Untorn/Untorn (1192).png', '/dataset_full_origin/Torn/Torn (2316).png', '/dataset_full_origin/Torn/Torn (2178).png', '/dataset_full_origin/Untorn/Untorn (1081).png', '/dataset_full_origin/Torn/Torn (1100).png', '/dataset_full_origin/Untorn/Untorn (631).png', '/dataset_full_origin/Torn/Torn (2245).png', '/dataset_full_origin/Untorn/Untorn (469).png', '/dataset_full_origin/Untorn/Untorn (1417).png', '/dataset_full_origin/Untorn/Untorn (1808).png', '/dataset_full_origin/Untorn/Untorn (1899).png', '/dataset_full_origin/Torn/Torn (856).png', '/dataset_full_origin/Untorn/Untorn (489).png', '/dataset_full_origin/Torn/Torn (1208).png', '/dataset_full_origin/Untorn/Untorn (1253).png', '/dataset_full_origin/Untorn/Untorn (808).png', '/dataset_full_origin/Untorn/Untorn (349).png', '/dataset_full_origin/Untorn/Untorn (1985).png', '/dataset_full_origin/Untorn/Untorn (942).png', '/dataset_full_origin/Untorn/Untorn (159).png', '/dataset_full_origin/Untorn/Untorn (1331).png', '/dataset_full_origin/Torn/Torn (429).png', '/dataset_full_origin/Torn/Torn (1538).png', '/dataset_full_origin/Torn/Torn (1997).png', '/dataset_full_origin/Torn/Torn (1085).png', '/dataset_full_origin/Untorn/Untorn (1252).png', '/dataset_full_origin/Untorn/Untorn (330).png', '/dataset_full_origin/Untorn/Untorn (146).png', '/dataset_full_origin/Torn/Torn (1687).png', '/dataset_full_origin/Untorn/Untorn (1976).png', '/dataset_full_origin/Untorn/Untorn (902).png', '/dataset_full_origin/Untorn/Untorn (446).png', '/dataset_full_origin/Torn/Torn (2056).png', '/dataset_full_origin/Untorn/Untorn (1694).png', '/dataset_full_origin/Untorn/Untorn (394).png', '/dataset_full_origin/Untorn/Untorn (2093).png', '/dataset_full_origin/Untorn/Untorn (1400).png', '/dataset_full_origin/Untorn/Untorn (194).png', '/dataset_full_origin/Torn/Torn (985).png', '/dataset_full_origin/Untorn/Untorn (1638).png', '/dataset_full_origin/Torn/Torn (1441).png', '/dataset_full_origin/Torn/Torn (286).png', '/dataset_full_origin/Torn/Torn (1371).png', '/dataset_full_origin/Torn/Torn (1130).png', '/dataset_full_origin/Torn/Torn (1335).png', '/dataset_full_origin/Untorn/Untorn (1617).png', '/dataset_full_origin/Torn/Torn (2055).png', '/dataset_full_origin/Untorn/Untorn (212).png', '/dataset_full_origin/Torn/Torn (605).png', '/dataset_full_origin/Untorn/Untorn (1424).png', '/dataset_full_origin/Untorn/Untorn (661).png', '/dataset_full_origin/Untorn/Untorn (552).png', '/dataset_full_origin/Torn/Torn (234).png', '/dataset_full_origin/Untorn/Untorn (157).png', '/dataset_full_origin/Torn/Torn (623).png', '/dataset_full_origin/Torn/Torn (1693).png', '/dataset_full_origin/Torn/Torn (287).png', '/dataset_full_origin/Untorn/Untorn (2119).png', '/dataset_full_origin/Torn/Torn (196).png', '/dataset_full_origin/Torn/Torn (514).png', '/dataset_full_origin/Torn/Torn (1209).png', '/dataset_full_origin/Torn/Torn (2320).png', '/dataset_full_origin/Untorn/Untorn (317).png', '/dataset_full_origin/Untorn/Untorn (952).png', '/dataset_full_origin/Untorn/Untorn (257).png', '/dataset_full_origin/Torn/Torn (1749).png', '/dataset_full_origin/Untorn/Untorn (150).png', '/dataset_full_origin/Untorn/Untorn (1989).png', '/dataset_full_origin/Untorn/Untorn (325).png', '/dataset_full_origin/Untorn/Untorn (3).png', '/dataset_full_origin/Torn/Torn (690).png', '/dataset_full_origin/Untorn/Untorn (537).png', '/dataset_full_origin/Torn/Torn (1746).png', '/dataset_full_origin/Untorn/Untorn (1386).png', '/dataset_full_origin/Untorn/Untorn (806).png', '/dataset_full_origin/Untorn/Untorn (214).png', '/dataset_full_origin/Torn/Torn (533).png', '/dataset_full_origin/Untorn/Untorn (124).png', '/dataset_full_origin/Torn/Torn (1312).png', '/dataset_full_origin/Untorn/Untorn (1427).png', '/dataset_full_origin/Torn/Torn (668).png', '/dataset_full_origin/Untorn/Untorn (880).png', '/dataset_full_origin/Torn/Torn (1434).png', '/dataset_full_origin/Untorn/Untorn (1859).png', '/dataset_full_origin/Untorn/Untorn (1954).png', '/dataset_full_origin/Untorn/Untorn (1044).png', '/dataset_full_origin/Torn/Torn (884).png', '/dataset_full_origin/Untorn/Untorn (1392).png', '/dataset_full_origin/Untorn/Untorn (936).png', '/dataset_full_origin/Untorn/Untorn (76).png', '/dataset_full_origin/Torn/Torn (1525).png', '/dataset_full_origin/Untorn/Untorn (1697).png', '/dataset_full_origin/Untorn/Untorn (812).png', '/dataset_full_origin/Untorn/Untorn (638).png', '/dataset_full_origin/Torn/Torn (709).png', '/dataset_full_origin/Torn/Torn (1896).png', '/dataset_full_origin/Untorn/Untorn (1055).png', '/dataset_full_origin/Untorn/Untorn (225).png', '/dataset_full_origin/Torn/Torn (1041).png', '/dataset_full_origin/Torn/Torn (977).png', '/dataset_full_origin/Untorn/Untorn (1414).png', '/dataset_full_origin/Untorn/Untorn (1340).png', '/dataset_full_origin/Torn/Torn (1642).png', '/dataset_full_origin/Untorn/Untorn (1693).png', '/dataset_full_origin/Untorn/Untorn (1800).png', '/dataset_full_origin/Untorn/Untorn (409).png', '/dataset_full_origin/Untorn/Untorn (2015).png', '/dataset_full_origin/Torn/Torn (640).png', '/dataset_full_origin/Torn/Torn (2329).png', '/dataset_full_origin/Untorn/Untorn (547).png', '/dataset_full_origin/Untorn/Untorn (1505).png', '/dataset_full_origin/Untorn/Untorn (949).png', '/dataset_full_origin/Untorn/Untorn (2047).png', '/dataset_full_origin/Untorn/Untorn (576).png', '/dataset_full_origin/Torn/Torn (1934).png', '/dataset_full_origin/Untorn/Untorn (950).png', '/dataset_full_origin/Torn/Torn (1143).png', '/dataset_full_origin/Torn/Torn (1672).png', '/dataset_full_origin/Untorn/Untorn (1019).png', '/dataset_full_origin/Untorn/Untorn (1633).png', '/dataset_full_origin/Torn/Torn (848).png', '/dataset_full_origin/Torn/Torn (2424).png', '/dataset_full_origin/Torn/Torn (2215).png', '/dataset_full_origin/Untorn/Untorn (1496).png', '/dataset_full_origin/Torn/Torn (894).png', '/dataset_full_origin/Untorn/Untorn (1127).png', '/dataset_full_origin/Untorn/Untorn (790).png', '/dataset_full_origin/Torn/Torn (2092).png', '/dataset_full_origin/Torn/Torn (2227).png', '/dataset_full_origin/Torn/Torn (2247).png', '/dataset_full_origin/Torn/Torn (1988).png', '/dataset_full_origin/Torn/Torn (1081).png', '/dataset_full_origin/Torn/Torn (1731).png', '/dataset_full_origin/Torn/Torn (1992).png', '/dataset_full_origin/Untorn/Untorn (1332).png', '/dataset_full_origin/Torn/Torn (2238).png', '/dataset_full_origin/Untorn/Untorn (1698).png', '/dataset_full_origin/Untorn/Untorn (898).png', '/dataset_full_origin/Torn/Torn (149).png', '/dataset_full_origin/Untorn/Untorn (700).png', '/dataset_full_origin/Torn/Torn (1295).png', '/dataset_full_origin/Torn/Torn (2010).png', '/dataset_full_origin/Torn/Torn (1013).png', '/dataset_full_origin/Untorn/Untorn (1070).png', '/dataset_full_origin/Untorn/Untorn (43).png', '/dataset_full_origin/Untorn/Untorn (559).png', '/dataset_full_origin/Torn/Torn (881).png', '/dataset_full_origin/Untorn/Untorn (1665).png', '/dataset_full_origin/Untorn/Untorn (2).png', '/dataset_full_origin/Torn/Torn (2232).png', '/dataset_full_origin/Untorn/Untorn (1036).png', '/dataset_full_origin/Untorn/Untorn (1027).png', '/dataset_full_origin/Torn/Torn (1212).png', '/dataset_full_origin/Untorn/Untorn (848).png', '/dataset_full_origin/Torn/Torn (1042).png', '/dataset_full_origin/Untorn/Untorn (742).png', '/dataset_full_origin/Torn/Torn (904).png', '/dataset_full_origin/Torn/Torn (2035).png', '/dataset_full_origin/Torn/Torn (2269).png', '/dataset_full_origin/Torn/Torn (887).png', '/dataset_full_origin/Torn/Torn (811).png', '/dataset_full_origin/Untorn/Untorn (37).png', '/dataset_full_origin/Untorn/Untorn (1309).png', '/dataset_full_origin/Untorn/Untorn (300).png', '/dataset_full_origin/Untorn/Untorn (970).png', '/dataset_full_origin/Untorn/Untorn (1184).png', '/dataset_full_origin/Untorn/Untorn (1929).png', '/dataset_full_origin/Torn/Torn (1701).png', '/dataset_full_origin/Untorn/Untorn (1999).png', '/dataset_full_origin/Untorn/Untorn (1099).png', '/dataset_full_origin/Torn/Torn (2225).png', '/dataset_full_origin/Untorn/Untorn (302).png', '/dataset_full_origin/Untorn/Untorn (730).png', '/dataset_full_origin/Torn/Torn (902).png', '/dataset_full_origin/Untorn/Untorn (2014).png', '/dataset_full_origin/Untorn/Untorn (1132).png', '/dataset_full_origin/Torn/Torn (872).png', '/dataset_full_origin/Untorn/Untorn (1825).png', '/dataset_full_origin/Torn/Torn (265).png', '/dataset_full_origin/Torn/Torn (1378).png', '/dataset_full_origin/Torn/Torn (86).png', '/dataset_full_origin/Untorn/Untorn (1142).png', '/dataset_full_origin/Untorn/Untorn (191).png', '/dataset_full_origin/Torn/Torn (438).png', '/dataset_full_origin/Torn/Torn (2252).png', '/dataset_full_origin/Torn/Torn (384).png', '/dataset_full_origin/Torn/Torn (1403).png', '/dataset_full_origin/Torn/Torn (1678).png', '/dataset_full_origin/Untorn/Untorn (329).png', '/dataset_full_origin/Untorn/Untorn (370).png', '/dataset_full_origin/Untorn/Untorn (177).png', '/dataset_full_origin/Torn/Torn (471).png', '/dataset_full_origin/Untorn/Untorn (14).png', '/dataset_full_origin/Torn/Torn (1646).png', '/dataset_full_origin/Untorn/Untorn (1134).png', '/dataset_full_origin/Torn/Torn (1940).png', '/dataset_full_origin/Untorn/Untorn (2053).png', '/dataset_full_origin/Untorn/Untorn (1467).png', '/dataset_full_origin/Untorn/Untorn (1131).png', '/dataset_full_origin/Torn/Torn (1325).png', '/dataset_full_origin/Torn/Torn (519).png', '/dataset_full_origin/Untorn/Untorn (673).png', '/dataset_full_origin/Torn/Torn (4).png', '/dataset_full_origin/Torn/Torn (568).png', '/dataset_full_origin/Torn/Torn (992).png', '/dataset_full_origin/Torn/Torn (653).png', '/dataset_full_origin/Torn/Torn (1298).png', '/dataset_full_origin/Torn/Torn (1502).png', '/dataset_full_origin/Untorn/Untorn (1314).png', '/dataset_full_origin/Torn/Torn (995).png', '/dataset_full_origin/Torn/Torn (1719).png', '/dataset_full_origin/Torn/Torn (723).png', '/dataset_full_origin/Untorn/Untorn (1594).png', '/dataset_full_origin/Untorn/Untorn (1932).png', '/dataset_full_origin/Untorn/Untorn (256).png', '/dataset_full_origin/Untorn/Untorn (1454).png', '/dataset_full_origin/Torn/Torn (960).png', '/dataset_full_origin/Torn/Torn (1648).png', '/dataset_full_origin/Untorn/Untorn (992).png', '/dataset_full_origin/Torn/Torn (410).png', '/dataset_full_origin/Torn/Torn (984).png', '/dataset_full_origin/Torn/Torn (22).png', '/dataset_full_origin/Torn/Torn (806).png', '/dataset_full_origin/Torn/Torn (120).png', '/dataset_full_origin/Untorn/Untorn (1920).png', '/dataset_full_origin/Untorn/Untorn (1731).png', '/dataset_full_origin/Untorn/Untorn (1114).png', '/dataset_full_origin/Torn/Torn (15).png', '/dataset_full_origin/Torn/Torn (55).png', '/dataset_full_origin/Untorn/Untorn (564).png', '/dataset_full_origin/Torn/Torn (2091).png', '/dataset_full_origin/Untorn/Untorn (2112).png', '/dataset_full_origin/Untorn/Untorn (1978).png', '/dataset_full_origin/Untorn/Untorn (2092).png', '/dataset_full_origin/Untorn/Untorn (377).png', '/dataset_full_origin/Untorn/Untorn (856).png', '/dataset_full_origin/Torn/Torn (1010).png', '/dataset_full_origin/Untorn/Untorn (1425).png', '/dataset_full_origin/Torn/Torn (1461).png', '/dataset_full_origin/Torn/Torn (2294).png', '/dataset_full_origin/Torn/Torn (1794).png', '/dataset_full_origin/Untorn/Untorn (1616).png', '/dataset_full_origin/Untorn/Untorn (1157).png', '/dataset_full_origin/Untorn/Untorn (245).png', '/dataset_full_origin/Torn/Torn (716).png', '/dataset_full_origin/Untorn/Untorn (1565).png', '/dataset_full_origin/Untorn/Untorn (1446).png', '/dataset_full_origin/Untorn/Untorn (80).png']\n"
     ]
    }
   ],
   "source": [
    "print(re_load)"
   ]
  },
  {
   "cell_type": "code",
   "execution_count": null,
   "metadata": {
    "scrolled": true
   },
   "outputs": [],
   "source": [
    "print(base_dir[0])\n",
    "base_res = [y for x in os.walk('/data_failed/T1/') \n",
    "            for y in glob(os.path.join(x[0], base_dir[0]))]\n",
    "print(base_res)"
   ]
  },
  {
   "cell_type": "code",
   "execution_count": null,
   "metadata": {},
   "outputs": [],
   "source": [
    "for i in range(len(data2['test'])):\n",
    "    \n",
    "    test_name = data2['test'][i][0].split(\"/\")[-1]\n",
    "    \n",
    "    for j in range(len(base_dir)):\n",
    "        \n",
    "        base_name = base_dir[j]\n",
    "        \n",
    "        if test_name == base_name:\n",
    "            base_res = [y for x in os.walk('/data_failed/T1/') \n",
    "                        for y in glob(os.path.join(x[0], base_name))]\n",
    "            new_dir = '/data_failed/Test/' + base_name\n",
    "            \n",
    "            os.rename(base_res[0], new_dir)\n",
    "            #img = cv2.imread(base_res)\n",
    "            #cv2.imwrite(img, new_dir)"
   ]
  }
 ],
 "metadata": {
  "kernelspec": {
   "display_name": "Python 3",
   "language": "python",
   "name": "python3"
  },
  "language_info": {
   "codemirror_mode": {
    "name": "ipython",
    "version": 3
   },
   "file_extension": ".py",
   "mimetype": "text/x-python",
   "name": "python",
   "nbconvert_exporter": "python",
   "pygments_lexer": "ipython3",
   "version": "3.5.2"
  }
 },
 "nbformat": 4,
 "nbformat_minor": 2
}
