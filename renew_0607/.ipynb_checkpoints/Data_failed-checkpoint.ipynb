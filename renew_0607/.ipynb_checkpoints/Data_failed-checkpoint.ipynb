{
 "cells": [
  {
   "cell_type": "code",
   "execution_count": 1,
   "metadata": {
    "scrolled": true
   },
   "outputs": [
    {
     "name": "stderr",
     "output_type": "stream",
     "text": [
      "/usr/local/lib/python3.5/dist-packages/h5py/__init__.py:36: FutureWarning: Conversion of the second argument of issubdtype from `float` to `np.floating` is deprecated. In future, it will be treated as `np.float64 == np.dtype(float).type`.\n",
      "  from ._conv import register_converters as _register_converters\n",
      "/usr/local/lib/python3.5/dist-packages/sklearn/cross_validation.py:41: DeprecationWarning: This module was deprecated in version 0.18 in favor of the model_selection module into which all the refactored classes and functions are moved. Also note that the interface of the new CV iterators are different from that of this module. This module will be removed in 0.20.\n",
      "  \"This module will be removed in 0.20.\", DeprecationWarning)\n"
     ]
    }
   ],
   "source": [
    "from __future__ import absolute_import\n",
    "from __future__ import division\n",
    "from __future__ import print_function\n",
    "\n",
    "import numpy as np\n",
    "import tensorflow as tf\n",
    "\n",
    "import cv2\n",
    "import matplotlib.pyplot as plt\n",
    "from sklearn.cross_validation import train_test_split\n",
    "import random\n",
    "\n",
    "import json\n",
    "\n",
    "from glob import glob"
   ]
  },
  {
   "cell_type": "code",
   "execution_count": 2,
   "metadata": {},
   "outputs": [],
   "source": [
    "# GPU selection (memory)\n",
    "import os\n",
    "#os.environ[\"CUDA_DEVICE_ORDER\"]=\"PCI_BUS_ID\"   \n",
    "#os.environ[\"CUDA_VISIBLE_DEVICES\"]=\"0\""
   ]
  },
  {
   "cell_type": "code",
   "execution_count": 3,
   "metadata": {},
   "outputs": [],
   "source": [
    "# Data info.\n",
    "\n",
    "width = 640\n",
    "height = 480\n",
    "channel = 3\n",
    "\n",
    "\n",
    "# resize\n",
    "r_w = 512\n",
    "r_h = 512\n",
    "\n",
    "total_pix = r_w * r_h * channel"
   ]
  },
  {
   "cell_type": "code",
   "execution_count": 5,
   "metadata": {
    "scrolled": true
   },
   "outputs": [
    {
     "name": "stdout",
     "output_type": "stream",
     "text": [
      "/dataset_full_origin/Untorn/Untorn (416).png\n"
     ]
    }
   ],
   "source": [
    "result = [y for x in os.walk('/dataset_full_origin/') for y in glob(os.path.join(x[0], '*.png'))]\n",
    "print((result[0]))"
   ]
  },
  {
   "cell_type": "code",
   "execution_count": 6,
   "metadata": {},
   "outputs": [],
   "source": [
    "os.chdir(\"/dataset_full_origin/Torn/\")\n",
    "torn_dir = [0]*len(result)\n",
    "i=0\n",
    "for file in glob(\"*.png\"):\n",
    "    torn_dir[i] = file\n",
    "    i = i+1"
   ]
  },
  {
   "cell_type": "code",
   "execution_count": 7,
   "metadata": {},
   "outputs": [],
   "source": [
    "os.chdir(\"/data_failed/T1/\")\n",
    "base_dir = [0]*len(result)\n",
    "i=0\n",
    "for file in glob(\"*.png\"):\n",
    "    base_dir[i] = file\n",
    "    i = i+1"
   ]
  },
  {
   "cell_type": "code",
   "execution_count": 4,
   "metadata": {},
   "outputs": [],
   "source": [
    "test = open('./data_split/data_dir_dict_0614.txt', 'r')\n",
    "data = test.read()\n",
    "data2 = json.loads(data)"
   ]
  },
  {
   "cell_type": "code",
   "execution_count": 16,
   "metadata": {
    "scrolled": true
   },
   "outputs": [
    {
     "name": "stdout",
     "output_type": "stream",
     "text": [
      "Torn (1058).png\n",
      "914\n"
     ]
    }
   ],
   "source": [
    "test_name = data2['test'][0][0].split(\"/\")[-1]\n",
    "print(test_name)\n",
    "print(len(data2['test']))"
   ]
  },
  {
   "cell_type": "code",
   "execution_count": 33,
   "metadata": {
    "scrolled": true
   },
   "outputs": [
    {
     "name": "stdout",
     "output_type": "stream",
     "text": [
      "Torn (22).png\n",
      "['/data_failed/T1/Torn (22).png']\n"
     ]
    }
   ],
   "source": [
    "print(base_dir[0])\n",
    "base_res = [y for x in os.walk('/data_failed/T1/') \n",
    "            for y in glob(os.path.join(x[0], base_dir[0]))]\n",
    "print(base_res)"
   ]
  },
  {
   "cell_type": "code",
   "execution_count": 34,
   "metadata": {},
   "outputs": [],
   "source": [
    "for i in range(len(data2['test'])):\n",
    "    \n",
    "    test_name = data2['test'][i][0].split(\"/\")[-1]\n",
    "    \n",
    "    for j in range(len(base_dir)):\n",
    "        \n",
    "        base_name = base_dir[j]\n",
    "        \n",
    "        if test_name == base_name:\n",
    "            base_res = [y for x in os.walk('/data_failed/T1/') \n",
    "                        for y in glob(os.path.join(x[0], base_name))]\n",
    "            new_dir = '/data_failed/Test/' + base_name\n",
    "            \n",
    "            os.rename(base_res[0], new_dir)\n",
    "            #img = cv2.imread(base_res)\n",
    "            #cv2.imwrite(img, new_dir)"
   ]
  }
 ],
 "metadata": {
  "kernelspec": {
   "display_name": "Python 3",
   "language": "python",
   "name": "python3"
  },
  "language_info": {
   "codemirror_mode": {
    "name": "ipython",
    "version": 3
   },
   "file_extension": ".py",
   "mimetype": "text/x-python",
   "name": "python",
   "nbconvert_exporter": "python",
   "pygments_lexer": "ipython3",
   "version": "3.5.2"
  }
 },
 "nbformat": 4,
 "nbformat_minor": 2
}
