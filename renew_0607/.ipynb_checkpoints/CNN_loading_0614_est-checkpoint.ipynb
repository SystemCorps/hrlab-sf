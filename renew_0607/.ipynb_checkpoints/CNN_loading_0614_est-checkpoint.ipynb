{
 "cells": [
  {
   "cell_type": "code",
   "execution_count": null,
   "metadata": {
    "scrolled": true
   },
   "outputs": [],
   "source": [
    "from __future__ import absolute_import\n",
    "from __future__ import division\n",
    "from __future__ import print_function\n",
    "\n",
    "import numpy as np\n",
    "import tensorflow as tf\n",
    "\n",
    "import cv2\n",
    "import matplotlib.pyplot as plt\n",
    "from sklearn.cross_validation import train_test_split\n",
    "import random\n",
    "\n",
    "import json"
   ]
  },
  {
   "cell_type": "code",
   "execution_count": null,
   "metadata": {},
   "outputs": [],
   "source": [
    "# GPU selection (memory)\n",
    "import os\n",
    "#os.environ[\"CUDA_DEVICE_ORDER\"]=\"PCI_BUS_ID\"   \n",
    "#os.environ[\"CUDA_VISIBLE_DEVICES\"]=\"0\""
   ]
  },
  {
   "cell_type": "code",
   "execution_count": null,
   "metadata": {},
   "outputs": [],
   "source": [
    "# Data info.\n",
    "\n",
    "width = 640\n",
    "height = 480\n",
    "channel = 3\n",
    "\n",
    "\n",
    "# resize\n",
    "r_w = 512\n",
    "r_h = 512\n",
    "\n",
    "total_pix = r_w * r_h * channel"
   ]
  },
  {
   "cell_type": "code",
   "execution_count": null,
   "metadata": {},
   "outputs": [],
   "source": [
    "data_txt = open('./data_split/data_dir_dict_0614.txt', 'r')\n",
    "data_json = data_txt.read()\n",
    "tr_data_dir = json.loads(data_json)"
   ]
  },
  {
   "cell_type": "code",
   "execution_count": null,
   "metadata": {},
   "outputs": [],
   "source": [
    "ev_data = np.zeros((len(tr_data_dir['test']), total_pix), dtype=np.float32)\n",
    "ev_label = np.zeros((len(tr_data_dir['test']), 1), dtype=np.int32)\n",
    "\n",
    "for i in range(len(tr_data_dir['test'])):\n",
    "    img = cv2.imread(tr_data_dir['test'][i][0])\n",
    "    img2 = cv2.resize(img, (r_w, r_h), interpolation=cv2.INTER_CUBIC)\n",
    "    ev_data[i,:] = img2.flatten()\n",
    "    ev_label[i] = tr_data_dir['test'][i][1]"
   ]
  },
  {
   "cell_type": "code",
   "execution_count": null,
   "metadata": {},
   "outputs": [],
   "source": [
    "f_dir1 = '/models/ICROS/Train_2/model.ckpt-2280.meta'\n",
    "f_dir2 = '/models/ICROS/Train_2/'\n",
    "\n",
    "saver = tf.train.import_meta_graph(f_dir1)\n",
    "batch = 32\n",
    "ev_steps = int(ev_label.shape[0]/batch)\n",
    "ev_acc = np.zeros(ev_label.shape[0])\n",
    "\n",
    "with tf.Session() as sess:\n",
    "    \n",
    "    new_saver = tf.train.import_meta_graph(f_dir1)\n",
    "    new_saver.restore(sess, tf.train.latest_checkpoint(f_dir2))\n",
    "    graph = tf.get_default_graph()\n",
    "    #for op in tf.get_default_graph().get_operations():\n",
    "        #print(op.name)\n",
    "        #print(op.values())\n",
    "        \n",
    "    data_in = graph.get_tensor_by_name(\"fifo_queue_DequeueUpTo:1\")\n",
    "\n",
    "    #feed_dict={data_in:ev_data[0:10], label:ev_label[0:10]}\n",
    "    \n",
    "    for i in range(ev_steps):\n",
    "        if i < (ev_steps-1):\n",
    "            feed_dict={data_in:ev_data[batch*i:batch*(i+1)]}\n",
    "            label = ev_label[batch*i:batch*(i+1)].reshape(batch)\n",
    "        else:\n",
    "            feed_dict={data_in:ev_data[batch*i:]}\n",
    "            temp = ev_label[batch*i:]\n",
    "            label = temp.reshape(len(temp))\n",
    "        \n",
    "        prob = graph.get_tensor_by_name(\"softmax_tensor:0\")\n",
    "        classes = graph.get_tensor_by_name(\"ArgMax:0\")\n",
    "        \n",
    "        result_pr = sess.run(prob, feed_dict=feed_dict)\n",
    "        result_cl = sess.run(classes, feed_dict=feed_dict)\n",
    "        \n",
    "        print(result_pr)\n",
    "        print(result_cl)\n",
    "        print(label)\n",
    "\n",
    "        acc = np.equal(result_cl, label).reshape((1,len(label)))*1\n",
    "        \n",
    "        print(acc)\n",
    "        print(np.mean(acc))\n",
    "        \n",
    "        if i < (ev_steps-1):\n",
    "            ev_acc[batch*i:batch*(i+1)] = acc\n",
    "        else:\n",
    "            ev_acc[batch*i:] = acc\n"
   ]
  },
  {
   "cell_type": "code",
   "execution_count": null,
   "metadata": {
    "scrolled": true
   },
   "outputs": [],
   "source": [
    "print(len(ev_acc))\n",
    "print(len(ev_label))"
   ]
  },
  {
   "cell_type": "code",
   "execution_count": null,
   "metadata": {},
   "outputs": [],
   "source": [
    "print(ev_acc[-1])\n",
    "print(np.mean(ev_acc))"
   ]
  }
 ],
 "metadata": {
  "kernelspec": {
   "display_name": "Python 3",
   "language": "python",
   "name": "python3"
  },
  "language_info": {
   "codemirror_mode": {
    "name": "ipython",
    "version": 3
   },
   "file_extension": ".py",
   "mimetype": "text/x-python",
   "name": "python",
   "nbconvert_exporter": "python",
   "pygments_lexer": "ipython3",
   "version": "3.5.2"
  }
 },
 "nbformat": 4,
 "nbformat_minor": 2
}
