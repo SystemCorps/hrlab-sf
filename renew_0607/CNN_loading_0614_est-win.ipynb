{
 "cells": [
  {
   "cell_type": "code",
   "execution_count": 1,
   "metadata": {
    "collapsed": false,
    "scrolled": true
   },
   "outputs": [],
   "source": [
    "from __future__ import absolute_import\n",
    "from __future__ import division\n",
    "from __future__ import print_function\n",
    "\n",
    "import numpy as np\n",
    "import tensorflow as tf\n",
    "\n",
    "import cv2\n",
    "import matplotlib.pyplot as plt\n",
    "from sklearn.cross_validation import train_test_split\n",
    "import random\n",
    "\n",
    "import json"
   ]
  },
  {
   "cell_type": "code",
   "execution_count": 2,
   "metadata": {
    "collapsed": true
   },
   "outputs": [],
   "source": [
    "# GPU selection (memory)\n",
    "import os\n",
    "#os.environ[\"CUDA_DEVICE_ORDER\"]=\"PCI_BUS_ID\"   \n",
    "#os.environ[\"CUDA_VISIBLE_DEVICES\"]=\"0\""
   ]
  },
  {
   "cell_type": "code",
   "execution_count": 3,
   "metadata": {
    "collapsed": true
   },
   "outputs": [],
   "source": [
    "# Data info.\n",
    "\n",
    "width = 640\n",
    "height = 480\n",
    "channel = 3\n",
    "\n",
    "\n",
    "# resize\n",
    "r_w = 512\n",
    "r_h = 512\n",
    "\n",
    "total_pix = r_w * r_h * channel"
   ]
  },
  {
   "cell_type": "code",
   "execution_count": 4,
   "metadata": {
    "collapsed": true
   },
   "outputs": [],
   "source": [
    "data_txt = open('./data_split/data_dir_dict_0614win.txt', 'r')\n",
    "data_json = data_txt.read()\n",
    "tr_data_dir = json.loads(data_json)"
   ]
  },
  {
   "cell_type": "code",
   "execution_count": null,
   "metadata": {
    "collapsed": true
   },
   "outputs": [],
   "source": [
    "ev_data = np.zeros((len(tr_data_dir['test']), total_pix), dtype=np.float32)\n",
    "ev_label = np.zeros((len(tr_data_dir['test']), 1), dtype=np.int32)\n",
    "\n",
    "for i in range(len(tr_data_dir['test'])):\n",
    "    img = cv2.imread(tr_data_dir['test'][i][0])\n",
    "    img2 = cv2.resize(img, (r_w, r_h), interpolation=cv2.INTER_CUBIC)\n",
    "    ev_data[i,:] = img2.flatten()\n",
    "    ev_label[i] = tr_data_dir['test'][i][1]"
   ]
  },
  {
   "cell_type": "code",
   "execution_count": null,
   "metadata": {
    "collapsed": false
   },
   "outputs": [],
   "source": [
    "f_dir1 = \"D:/OneDrive/Develop/Smart_Fishery/models/ICROS/Train_0/model.ckpt-2280.meta\"\n",
    "f_dir2 = \"D:/OneDrive/Develop/Smart_Fishery/models/ICROS/Train_0/\"\n",
    "\n",
    "saver = tf.train.import_meta_graph(f_dir1)\n",
    "batch = 32\n",
    "ev_steps = int(ev_label.shape[0]/batch)\n",
    "ev_acc = np.zeros(ev_label.shape[0])\n",
    "\n",
    "with tf.Session() as sess:\n",
    "    \n",
    "    new_saver = tf.train.import_meta_graph(f_dir1)\n",
    "    new_saver.restore(sess, tf.train.latest_checkpoint(f_dir2))\n",
    "    graph = tf.get_default_graph()\n",
    "    #for op in tf.get_default_graph().get_operations():\n",
    "        #print(op.name)\n",
    "        #print(op.values())\n",
    "        \n",
    "    data_in = graph.get_tensor_by_name(\"fifo_queue_DequeueUpTo:1\")\n",
    "\n",
    "    #feed_dict={data_in:ev_data[0:10], label:ev_label[0:10]}\n",
    "    keep_prob = graph.get_tensor_by_name(\"dropout/dropout/keep_prob:0\")\n",
    "    for i in range(ev_steps):\n",
    "        if i < (ev_steps-1):\n",
    "            feed_dict={data_in:ev_data[batch*i:batch*(i+1)], keep_prob:1.0}\n",
    "            label = ev_label[batch*i:batch*(i+1)].reshape(batch)\n",
    "        else:\n",
    "            feed_dict={data_in:ev_data[batch*i:], keep_prob:1.0}\n",
    "            temp = ev_label[batch*i:]\n",
    "            label = temp.reshape(len(temp))\n",
    "        \n",
    "        prob = graph.get_tensor_by_name(\"softmax_tensor:0\")\n",
    "        classes = graph.get_tensor_by_name(\"ArgMax:0\")\n",
    "        \n",
    "        \n",
    "        result_pr = sess.run(prob, feed_dict=feed_dict)\n",
    "        result_cl = sess.run(classes, feed_dict=feed_dict)\n",
    "        \n",
    "        print(result_pr)\n",
    "        print(result_cl)\n",
    "        print(label)\n",
    "\n",
    "        acc = np.equal(result_cl, label).reshape((1,len(label)))*1\n",
    "        \n",
    "        print(acc)\n",
    "        print(np.mean(acc))\n",
    "        \n",
    "        if i < (ev_steps-1):\n",
    "            ev_acc[batch*i:batch*(i+1)] = acc\n",
    "        else:\n",
    "            ev_acc[batch*i:] = acc\n"
   ]
  },
  {
   "cell_type": "code",
   "execution_count": null,
   "metadata": {
    "collapsed": false
   },
   "outputs": [],
   "source": [
    "print(ev_acc[-1])\n",
    "print(np.mean(ev_acc))"
   ]
  },
  {
   "cell_type": "code",
   "execution_count": null,
   "metadata": {
    "collapsed": false,
    "scrolled": true
   },
   "outputs": [],
   "source": [
    "final = np.array([0.9398, 0.9517, 0.9639, 0.9737, 0.9814, 0.9639, 0.9595, 0.8742, 0.9814, 0.9825])\n",
    "print(np.mean(final))\n",
    "print(np.std(final))"
   ]
  },
  {
   "cell_type": "code",
   "execution_count": null,
   "metadata": {
    "collapsed": false,
    "scrolled": true
   },
   "outputs": [],
   "source": [
    "fail_idx = np.where(ev_acc == 0)\n",
    "print(fail_idx[0])"
   ]
  },
  {
   "cell_type": "code",
   "execution_count": null,
   "metadata": {
    "collapsed": true
   },
   "outputs": [],
   "source": [
    "\"\"\"\n",
    "for i in range(len(fail_idx[0])):\n",
    "    new_img = cv2.imread(tr_data_dir['test'][fail_idx[0][i]][0])\n",
    "    \n",
    "    save_path = \"/models/ICROS-fail/T9_fail-%d.png\" % i\n",
    "    cv2.imwrite(save_path, new_img)\n",
    "\"\"\""
   ]
  },
  {
   "cell_type": "code",
   "execution_count": null,
   "metadata": {
    "collapsed": true
   },
   "outputs": [],
   "source": [
    "ind1 = [18, 46, 63, 83, 85, 92,109,166,182,196,224,280,282,310,362,373,376,381,400,408,\n",
    "        424,428,439,470,486,503,508,510,554,555,563,568,618,626,642,649,654,657,665,670,\n",
    "        674,704,707,708,722,746,748,752,760,780,797,822,852,872,885]"
   ]
  },
  {
   "cell_type": "code",
   "execution_count": 5,
   "metadata": {
    "collapsed": true
   },
   "outputs": [],
   "source": [
    "for i in range(len(tr_data_dir['test'])):\n",
    "    new_img = cv2.imread(tr_data_dir['test'][i][0])\n",
    "    \n",
    "    save_path = \"D:/dataset_full/ev_set/ev-%d.png\" % i\n",
    "    cv2.imwrite(save_path, new_img)"
   ]
  }
 ],
 "metadata": {
  "anaconda-cloud": {},
  "kernelspec": {
   "display_name": "Python [Root]",
   "language": "python",
   "name": "Python [Root]"
  },
  "language_info": {
   "codemirror_mode": {
    "name": "ipython",
    "version": 3
   },
   "file_extension": ".py",
   "mimetype": "text/x-python",
   "name": "python",
   "nbconvert_exporter": "python",
   "pygments_lexer": "ipython3",
   "version": "3.5.2"
  }
 },
 "nbformat": 4,
 "nbformat_minor": 2
}
