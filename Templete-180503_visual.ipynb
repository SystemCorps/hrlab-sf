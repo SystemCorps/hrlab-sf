{
 "cells": [
  {
   "cell_type": "markdown",
   "metadata": {},
   "source": [
    "# CNN Trainig Templete\n",
    "## Based on Tensorlfow - CNN MNIST example\n",
    "https://github.com/tensorflow/tensorflow/blob/r1.6/tensorflow/examples/tutorials/layers/cnn_mnist.py"
   ]
  },
  {
   "cell_type": "markdown",
   "metadata": {},
   "source": [
    "## 필요한 library 호출"
   ]
  },
  {
   "cell_type": "code",
   "execution_count": null,
   "metadata": {
    "scrolled": true
   },
   "outputs": [],
   "source": [
    "from __future__ import absolute_import\n",
    "from __future__ import division\n",
    "from __future__ import print_function\n",
    "\n",
    "import tensorflow as tf\n",
    "import numpy as np\n",
    "import cv2\n",
    "import os\n",
    "import matplotlib.pyplot as plt\n",
    "import random\n",
    "import time\n",
    "from sklearn.cross_validation import train_test_split\n",
    "from datetime import datetime\n",
    "\n",
    "tf.logging.set_verbosity(tf.logging.INFO)\n"
   ]
  },
  {
   "cell_type": "markdown",
   "metadata": {},
   "source": [
    "# Data loading"
   ]
  },
  {
   "cell_type": "code",
   "execution_count": null,
   "metadata": {},
   "outputs": [],
   "source": [
    "width = 640\n",
    "height = 480\n",
    "channel = 3\n",
    "total_pix = width * height * channel\n",
    "num_class = 2"
   ]
  },
  {
   "cell_type": "code",
   "execution_count": null,
   "metadata": {},
   "outputs": [],
   "source": [
    "def data_process(d_dir, split_rate):\n",
    "    \n",
    "    num_class = len(d_dir.keys())\n",
    "\n",
    "    out = {}\n",
    "    \n",
    "\n",
    "    for i in range(num_class):\n",
    "        x_train, x_test = train_test_split(d_dir[i], test_size=split_rate)\n",
    "        \n",
    "        if i == 0:\n",
    "            train_temp = x_train\n",
    "            test_temp = x_test\n",
    "        else:\n",
    "            train_temp.extend(x_train)\n",
    "            test_temp.extend(x_test)\n",
    "    \n",
    "    random.shuffle(train_temp)\n",
    "    out['train'] = train_temp\n",
    "    random.shuffle(test_temp)\n",
    "    out['test'] = test_temp\n",
    "    \n",
    "    return out"
   ]
  },
  {
   "cell_type": "code",
   "execution_count": null,
   "metadata": {},
   "outputs": [],
   "source": [
    "image_dir1 = '/dataset/'\n",
    "class_name1 = ['untorn', 'torn']\n",
    "\n",
    "data_dir1 = {}\n",
    "for i in range(len(class_name1)):\n",
    "    temp_dir = image_dir1 + class_name1[i]\n",
    "    img_files = [[os.path.join(temp_dir, f), np.int16(i)] for f in os.listdir(temp_dir) if f.endswith('.png')]\n",
    "    data_dir1[i] = img_files\n",
    "print(len(data_dir1[0]))"
   ]
  },
  {
   "cell_type": "code",
   "execution_count": null,
   "metadata": {},
   "outputs": [],
   "source": [
    "tr_data_dir = data_process(data_dir1, 0.2)"
   ]
  },
  {
   "cell_type": "code",
   "execution_count": null,
   "metadata": {},
   "outputs": [],
   "source": [
    "tr_data = np.zeros((len(tr_data_dir['train']), total_pix), dtype=np.float32)\n",
    "tr_label = np.zeros((len(tr_data_dir['train']), 1), dtype=np.int32)\n",
    "\n",
    "for i in range(len(tr_data_dir['train'])):\n",
    "    img = cv2.imread(tr_data_dir['train'][i][0])\n",
    "    tr_data[i][:] = cv2.resize(img, (width, height), interpolation=cv2.INTER_CUBIC).flatten()\n",
    "    tr_label[i] = tr_data_dir['train'][i][1]\n",
    "    \n",
    "    \n",
    "\n",
    "    \n",
    "ev_data = np.zeros((len(tr_data_dir['test']), total_pix), dtype=np.float32)\n",
    "ev_label = np.zeros((len(tr_data_dir['test']), 1), dtype=np.int32)\n",
    "\n",
    "for i in range(len(tr_data_dir['test'])):\n",
    "    img = cv2.imread(tr_data_dir['test'][i][0])\n",
    "    ev_data[i][:] = cv2.resize(img, (width, height), interpolation=cv2.INTER_CUBIC).flatten()\n",
    "    ev_label[i] = tr_data_dir['test'][i][1]"
   ]
  },
  {
   "cell_type": "markdown",
   "metadata": {},
   "source": [
    "# CNN model"
   ]
  },
  {
   "cell_type": "code",
   "execution_count": null,
   "metadata": {},
   "outputs": [],
   "source": [
    "def weight_variable(shape):\n",
    "    initial = tf.truncated_normal(shape, stddev=0.1)\n",
    "    return tf.Variable(initial)\n",
    "\n",
    "def bias_variable(shape):\n",
    "    \n",
    "    initial = tf.constant(0.1, shape=shape)\n",
    "    return tf.Variable(initial)"
   ]
  },
  {
   "cell_type": "code",
   "execution_count": null,
   "metadata": {},
   "outputs": [],
   "source": [
    "def conv2d(x, W, n):\n",
    "    return tf.nn.conv2d(x, W, strides=[1, 1, 1, 1], padding='SAME', name=n)\n",
    "\n",
    "def max_pool_2x2(x, n):\n",
    "    return tf.nn.max_pool(x, ksize=[1, 2, 2, 1], strides=[1, 2, 2, 1], padding = 'SAME', name = n)"
   ]
  },
  {
   "cell_type": "code",
   "execution_count": null,
   "metadata": {},
   "outputs": [],
   "source": [
    "X = tf.placeholder(tf.float32, shape = [None, total_pix])\n",
    "Y = tf.placeholder(tf.int32, shape = [None, 1])\n",
    "keep_prob = tf.placeholder(tf.float32)"
   ]
  },
  {
   "cell_type": "code",
   "execution_count": null,
   "metadata": {},
   "outputs": [],
   "source": [
    "with tf.device('/gpu:0'):\n",
    "    x_img = tf.reshape(X, [-1, height, width, channel])\n",
    "\n",
    "    wc1 = weight_variable([5, 5, 3, 48])\n",
    "    bc1 = bias_variable([48])\n",
    "    hc1 = tf.nn.relu(conv2d(x_img, wc1, 'conv1') + bc1)\n",
    "    hp1 = max_pool_2x2(hc1, 'max1')\n",
    "\n",
    "    wc2 = weight_variable([5, 5, 48, 96])\n",
    "    bc2 = bias_variable([96])\n",
    "    hc2 = tf.nn.relu(conv2d(hp1, wc2, 'conv2') + bc2)\n",
    "    hp2 = max_pool_2x2(hc2, 'max2')\n",
    "\n",
    "    wc3 = weight_variable([5, 5, 96, 96])\n",
    "    bc3 = bias_variable([96])\n",
    "    hc3 = tf.nn.relu(conv2d(hp2, wc3, 'conv3') + bc3)\n",
    "    hp3 = max_pool_2x2(hc3, 'max3')\n",
    "\n",
    "    wc4 = weight_variable([5, 5, 96, 96])\n",
    "    bc4 = bias_variable([96])\n",
    "    hc4 = tf.nn.relu(conv2d(hp3, wc4, 'conv4') + bc4)\n",
    "    hp4 = max_pool_2x2(hc4, 'max4')\n",
    "\n",
    "    wc5 = weight_variable([5, 5, 96, 96])\n",
    "    bc5 = bias_variable([96])\n",
    "    hc5 = tf.nn.relu(conv2d(hp4, wc5, 'conv5') + bc5)\n",
    "    hp5 = max_pool_2x2(hc5, 'max5')\n",
    "\n",
    "    wf1 = weight_variable([15*20*96, 1024])\n",
    "    bf1 = bias_variable([1024])\n",
    "    hf_flat = tf.reshape(hp5, [-1, 15*20*96])\n",
    "    hf1 = tf.nn.relu(tf.matmul(hf_flat, wf1) + bf1)\n",
    "    hf_drop = tf.nn.dropout(hf1, keep_prob)\n",
    "\n",
    "    wf2 = weight_variable([1024, num_class])\n",
    "    bf2 = bias_variable([num_class])\n",
    "\n",
    "\n",
    "    logits = tf.matmul(hf_drop, wf2) + bf2\n",
    "    y_conv = tf.nn.softmax(logits)\n"
   ]
  },
  {
   "cell_type": "code",
   "execution_count": null,
   "metadata": {},
   "outputs": [],
   "source": [
    "x_img = tf.reshape(X, [-1, height, width, channel])\n",
    "\n",
    "wc1 = weight_variable([5, 5, 3, 48])\n",
    "bc1 = bias_variable([48])\n",
    "hc1 = tf.nn.relu(conv2d(x_img, wc1, 'conv1') + bc1)\n",
    "hp1 = max_pool_2x2(hc1, 'max1')\n",
    "\n",
    "wc2 = weight_variable([5, 5, 48, 96])\n",
    "bc2 = bias_variable([96])\n",
    "hc2 = tf.nn.relu(conv2d(hp1, wc2, 'conv2') + bc2)\n",
    "hp2 = max_pool_2x2(hc2, 'max2')\n",
    "\n",
    "wc3 = weight_variable([5, 5, 96, 96])\n",
    "bc3 = bias_variable([96])\n",
    "hc3 = tf.nn.relu(conv2d(hp2, wc3, 'conv3') + bc3)\n",
    "hp3 = max_pool_2x2(hc3, 'max3')\n",
    "\n",
    "wc4 = weight_variable([5, 5, 96, 96])\n",
    "bc4 = bias_variable([96])\n",
    "hc4 = tf.nn.relu(conv2d(hp3, wc4, 'conv4') + bc4)\n",
    "hp4 = max_pool_2x2(hc4, 'max4')\n",
    "\n",
    "wc5 = weight_variable([5, 5, 96, 96])\n",
    "bc5 = bias_variable([96])\n",
    "hc5 = tf.nn.relu(conv2d(hp4, wc5, 'conv5') + bc5)\n",
    "hp5 = max_pool_2x2(hc5, 'max5')\n",
    "\n",
    "wf1 = weight_variable([15*20*96, 1024])\n",
    "bf1 = bias_variable([1024])\n",
    "hf_flat = tf.reshape(hp5, [-1, 15*20*96])\n",
    "hf1 = tf.nn.relu(tf.matmul(hf_flat, wf1) + bf1)\n",
    "hf_drop = tf.nn.dropout(hf1, keep_prob)\n",
    "\n",
    "wf2 = weight_variable([1024, num_class])\n",
    "bf2 = bias_variable([num_class])\n",
    "\n",
    "logits = tf.matmul(hf_drop, wf2) + bf2\n",
    "y_conv = tf.nn.softmax(logits)\n"
   ]
  },
  {
   "cell_type": "markdown",
   "metadata": {},
   "source": [
    "# Training"
   ]
  },
  {
   "cell_type": "code",
   "execution_count": null,
   "metadata": {},
   "outputs": [],
   "source": [
    "today = datetime.today().strftime(\"%Y-%m-%d-%H-%M-%S\")\n",
    "print(today)"
   ]
  },
  {
   "cell_type": "code",
   "execution_count": null,
   "metadata": {},
   "outputs": [],
   "source": [
    "learning_r = 0.001\n",
    "batch_s = 16\n",
    "epochs = 5\n",
    "inner_steps = int((tr_data.shape[0])/batch_s)\n",
    "total_steps = int((tr_data.shape[0]/batch_s*epochs))\n",
    "print(total_steps, inner_steps)\n",
    "disp_step = 10"
   ]
  },
  {
   "cell_type": "code",
   "execution_count": null,
   "metadata": {},
   "outputs": [],
   "source": [
    "with tf.device('/gpu:3'):\n",
    "    loss = tf.losses.sparse_softmax_cross_entropy(labels = Y, logits = y_conv)\n",
    "    train_step = tf.train.GradientDescentOptimizer(learning_rate = learning_r).minimize(loss)\n",
    "correct_prediction = tf.equal(tf.argmax(y_conv, 1), tf.argmax(Y, 1))\n",
    "accuracy = tf.reduce_mean(tf.cast(correct_prediction, tf.float32))"
   ]
  },
  {
   "cell_type": "code",
   "execution_count": null,
   "metadata": {},
   "outputs": [],
   "source": [
    "loss = tf.losses.sparse_softmax_cross_entropy(labels = Y, logits = logits)\n",
    "train_step = tf.train.GradientDescentOptimizer(learning_rate = learning_r).minimize(loss)\n",
    "correct_prediction = tf.equal(tf.argmax(y_conv, 1), tf.argmax(Y, 1))\n",
    "accuracy = tf.reduce_mean(tf.cast(correct_prediction, tf.float32))"
   ]
  },
  {
   "cell_type": "code",
   "execution_count": null,
   "metadata": {},
   "outputs": [],
   "source": [
    "loss = tf.reduce_mean(tf.losses.sparse_softmax_cross_entropy(labels = Y, logits = y_conv))\n",
    "train_step = tf.train.GradientDescentOptimizer(learning_rate = learning_r).minimize(loss)\n",
    "correct_prediction = tf.equal(tf.argmax(y_conv, 1), tf.argmax(Y, 1))\n",
    "accuracy = tf.reduce_mean(tf.cast(correct_prediction, tf.float32))"
   ]
  },
  {
   "cell_type": "code",
   "execution_count": null,
   "metadata": {},
   "outputs": [],
   "source": [
    "ev_accuracy = np.zeros((len(ev_label), 1))"
   ]
  },
  {
   "cell_type": "code",
   "execution_count": null,
   "metadata": {},
   "outputs": [],
   "source": [
    "sess = tf.InteractiveSession(config=tf.ConfigProto(log_device_placement=True))"
   ]
  },
  {
   "cell_type": "code",
   "execution_count": null,
   "metadata": {
    "scrolled": true
   },
   "outputs": [],
   "source": [
    "t_count = 1\n",
    "with tf.Session() as sess:\n",
    "    sess.run(tf.global_variables_initializer())\n",
    "\n",
    "    \n",
    "    for j in range(epochs):\n",
    "    \n",
    "        for i in range(inner_steps):\n",
    "\n",
    "            tr_batch = {}\n",
    "\n",
    "            if i < inner_steps-1:\n",
    "                tr_batch['data'] = tr_data[i*batch_s:(i+1)*batch_s][:]\n",
    "                tr_batch['label'] = tr_label[i*batch_s:(i+1)*batch_s]\n",
    "\n",
    "            else:\n",
    "                tr_batch['data'] = tr_data[i*batch_s:][:]\n",
    "                tr_batch['label'] = tr_label[i*batch_s:]\n",
    "\n",
    "            train_step.run(feed_dict={X: tr_batch['data'],\n",
    "                                      Y: tr_batch['label'],\n",
    "                                      keep_prob: 0.5})\n",
    "\n",
    "            if i % disp_step == 0:\n",
    "                train_accuracy = accuracy.eval(feed_dict = {X: tr_batch['data'],\n",
    "                                                            Y: tr_batch['label'],\n",
    "                                                            keep_prob: 1.0})\n",
    "                print('step %d, training accuracy %g' % (t_count, train_accuracy))\n",
    "                print(y_conv)\n",
    "            \n",
    "            t_count = t_count+1\n",
    "            \n",
    "            \n",
    "    for k in range(len(ev_label)):\n",
    "        ev_accuracy[k] = accuracy.eval(feed_dict={X: ev_data[k:k+1],\n",
    "                                                  Y: ev_label[k:k+1],\n",
    "                                                  keep_prob: 1.0})"
   ]
  },
  {
   "cell_type": "code",
   "execution_count": null,
   "metadata": {},
   "outputs": [],
   "source": [
    "print(np.mean(ev_accuracy))"
   ]
  },
  {
   "cell_type": "code",
   "execution_count": null,
   "metadata": {},
   "outputs": [],
   "source": [
    "print(tr_batch['label'])"
   ]
  },
  {
   "cell_type": "code",
   "execution_count": null,
   "metadata": {},
   "outputs": [],
   "source": [
    "    logits = tf.layers.dense(inputs=dropout, units=2)\n",
    "    #print(logits.shape)\n",
    "\n",
    "    predictions = {\n",
    "        # Generate predictions (for PREDICT and EVAL mode)\n",
    "        \"classes\": tf.argmax(input=logits, axis=1),\n",
    "        # Add `softmax_tensor` to the graph. It is used for PREDICT and by the\n",
    "        # `logging_hook`.\n",
    "        \"probabilities\": tf.nn.softmax(logits, name=\"softmax_tensor\")\n",
    "    }\n",
    "    if mode == tf.estimator.ModeKeys.PREDICT:\n",
    "        return tf.estimator.EstimatorSpec(mode=mode, predictions=predictions)\n",
    "\n",
    "    # Calculate Loss (for both TRAIN and EVAL modes)\n",
    "    loss = tf.losses.sparse_softmax_cross_entropy(labels=labels, logits=logits)\n",
    "    # sparse_softmax_cross_entropy cannot use one-hot encoding\n",
    "    \n",
    "    #loss = tf.nn.sigmoid_cross_entropy_with_logits(labels=labels, logits=logits)\n",
    "\n",
    "    # Configure the Training Op (for TRAIN mode)\n",
    "    if mode == tf.estimator.ModeKeys.TRAIN:\n",
    "        optimizer = tf.train.GradientDescentOptimizer(learning_rate=0.001)\n",
    "        train_op = optimizer.minimize(\n",
    "            loss=loss,\n",
    "            global_step=tf.train.get_global_step())\n",
    "        return tf.estimator.EstimatorSpec(mode=mode, loss=loss, train_op=train_op)\n",
    "\n",
    "    # Add evaluation metrics (for EVAL mode)\n",
    "    eval_metric_ops = {\n",
    "        \"accuracy\": tf.metrics.accuracy(\n",
    "            labels=labels, predictions=predictions[\"classes\"])}\n",
    "    return tf.estimator.EstimatorSpec(\n",
    "        mode=mode, loss=loss, eval_metric_ops=eval_metric_ops)"
   ]
  },
  {
   "cell_type": "code",
   "execution_count": null,
   "metadata": {},
   "outputs": [],
   "source": [
    "total_pix = 640*480*3\n",
    "x = tf.placeholder(tf.float32, shape=[None, total_pix])\n",
    "input_layer = tf.reshape(x, [-1, 480, 640, 3])\n",
    "\n",
    "# Convolutional Layer #1\n",
    "# Computes 48 features using a 5x5 filter with ReLU activation.\n",
    "# Padding is added to preserve width and height.\n",
    "# Input Tensor Shape: [batch_size, 480, 640, 3]\n",
    "# Output Tensor Shape: [batch_size, 480, 640, 48]\n",
    "conv1 = tf.layers.conv2d(\n",
    "\n",
    "    inputs=input_layer,\n",
    "    filters=48,\n",
    "    kernel_size=[5, 5],\n",
    "    padding=\"same\",\n",
    "    activation=tf.nn.relu)\n",
    "print(conv1.shape)\n",
    "\n",
    "pool1 = tf.layers.max_pooling2d(inputs=conv1, pool_size=[2, 2], strides=2)\n",
    "print(pool1.shape)"
   ]
  },
  {
   "cell_type": "code",
   "execution_count": null,
   "metadata": {},
   "outputs": [],
   "source": [
    "def cnn_model_fn(features, labels, mode):\n",
    "    \n",
    "    \"\"\"Model function for CNN.\"\"\"\n",
    "    # Input Layer\n",
    "    # Reshape X to 4-D tensor: [batch_size, height, width, channels]\n",
    "    # Our Fishing net image size is 640x480 and 3-channel (RGB)\n",
    "    input_layer = tf.reshape(features[\"x\"], [-1, 480, 640, 3])\n",
    "\n",
    "    # Convolutional Layer #1\n",
    "    # Computes 48 features using a 5x5 filter with ReLU activation.\n",
    "    # Padding is added to preserve width and height.\n",
    "    # Input Tensor Shape: [batch_size, 480, 640, 3]\n",
    "    # Output Tensor Shape: [batch_size, 480, 640, 48]\n",
    "    conv1 = tf.layers.conv2d(\n",
    "        \n",
    "        inputs=input_layer,\n",
    "        filters=48,\n",
    "        kernel_size=[5, 5],\n",
    "        padding=\"same\",\n",
    "        activation=tf.nn.relu)\n",
    "    #print(conv1.shape)\n",
    "\n",
    "    # Pooling Layer #1\n",
    "    # First max pooling layer with a 2x2 filter and stride of 2\n",
    "    # Input Tensor Shape: [batch_size, 480, 640, 48]\n",
    "    # Output Tensor Shape: [batch_size, 240, 320, 48]\n",
    "    pool1 = tf.layers.max_pooling2d(inputs=conv1, pool_size=[2, 2], strides=2)\n",
    "    #print(pool1.shape)\n",
    "\n",
    "    # Convolutional Layer #2\n",
    "    # Computes 96 features using a 5x5 filter.\n",
    "    # Padding is added to preserve width and height.\n",
    "    # Input Tensor Shape: [batch_size, 240, 320, 48]\n",
    "    # Output Tensor Shape: [batch_size, 240, 320, 96]\n",
    "    conv2 = tf.layers.conv2d(\n",
    "        inputs=pool1,\n",
    "        filters=96,\n",
    "        kernel_size=[5, 5],\n",
    "        padding=\"same\",\n",
    "        activation=tf.nn.relu)\n",
    "    #print(conv2.shape)\n",
    "\n",
    "    # Pooling Layer #2\n",
    "    # Second max pooling layer with a 2x2 filter and stride of 2\n",
    "    # Input Tensor Shape: [batch_size, 240, 320, 96]\n",
    "    # Output Tensor Shape: [batch_size, 120, 160, 96]\n",
    "    pool2 = tf.layers.max_pooling2d(inputs=conv2, pool_size=[2, 2], strides=2)\n",
    "    #print(pool2.shape)\n",
    "\n",
    "    \n",
    "    \n",
    "    \n",
    "    # Input Tensor Shape: [batch_size, 120, 160, 96]\n",
    "    # Output Tensor Shape: [batch_size, 120, 160, 96]    \n",
    "    conv3 = tf.layers.conv2d(\n",
    "        inputs=pool2,\n",
    "        filters=96,\n",
    "        kernel_size=[5, 5],\n",
    "        padding=\"same\",\n",
    "        activation=tf.nn.relu)\n",
    "    #print(conv3.shape)\n",
    "    \n",
    "    # Input Tensor Shape: [batch_size, 120, 160, 96]\n",
    "    # Output Tensor Shape: [batch_size, 60, 80, 96]\n",
    "    pool3 = tf.layers.max_pooling2d(inputs=conv3, pool_size=[2, 2], strides=2)\n",
    "    #print(pool3.shape)\n",
    "    \n",
    "    \n",
    "    \n",
    "    # Input Tensor Shape: [batch_size, 60, 80, 96]\n",
    "    # Output Tensor Shape: [batch_size, 60, 80, 96]    \n",
    "    conv4 = tf.layers.conv2d(\n",
    "        inputs=pool3,\n",
    "        filters=96,\n",
    "        kernel_size=[5, 5],\n",
    "        padding=\"same\",\n",
    "        activation=tf.nn.relu)\n",
    "    #print(conv4.shape)\n",
    "    \n",
    "    # Input Tensor Shape: [batch_size, 60, 80, 96]\n",
    "    # Output Tensor Shape: [batch_size, 30, 40, 96]\n",
    "    pool4 = tf.layers.max_pooling2d(inputs=conv4, pool_size=[2, 2], strides=2)\n",
    "    #print(pool4.shape)\n",
    "    \n",
    "    \n",
    "    \n",
    "    # Input Tensor Shape: [batch_size, 30, 40, 96]\n",
    "    # Output Tensor Shape: [batch_size, 30, 40, 96]    \n",
    "    conv5 = tf.layers.conv2d(\n",
    "        inputs=pool4,\n",
    "        filters=96,\n",
    "        kernel_size=[5, 5],\n",
    "        padding=\"same\",\n",
    "        activation=tf.nn.relu)\n",
    "    #print(conv5.shape)\n",
    "    \n",
    "    # Input Tensor Shape: [batch_size, 30, 40, 96]\n",
    "    # Output Tensor Shape: [batch_size, 15, 20, 96]\n",
    "    pool5 = tf.layers.max_pooling2d(inputs=conv5, pool_size=[2, 2], strides=2)\n",
    "    #print(pool5.shape)\n",
    "    \n",
    "    \n",
    "    \n",
    "    \n",
    "    # Flatten tensor into a batch of vectors\n",
    "    # Input Tensor Shape: [batch_size, 15, 20, 96]\n",
    "    # Output Tensor Shape: [batch_size, 15 * 20 * 96]\n",
    "    pool5_flat = tf.reshape(pool5, [-1, 15 * 20 * 96])\n",
    "    #print(pool5_flat.shape)\n",
    "\n",
    "\n",
    "    # Dense Layer\n",
    "    # Densely connected layer with 1024 neurons\n",
    "    # Input Tensor Shape: [batch_size, 15 * 20 * 96]\n",
    "    # Output Tensor Shape: [batch_size, 1024]\n",
    "    dense = tf.layers.dense(inputs=pool5_flat, units=1024, activation=tf.nn.relu)\n",
    "    #print(dense.shape)\n",
    "\n",
    "    # Add dropout operation; 0.6 probability that element will be kept\n",
    "    dropout = tf.layers.dropout(\n",
    "        inputs=dense, rate=0.4, training=mode == tf.estimator.ModeKeys.TRAIN)\n",
    "\n",
    "    # Logits layer\n",
    "    # Input Tensor Shape: [batch_size, 1024]\n",
    "    # Output Tensor Shape: [batch_size, 1]\n",
    "    logits = tf.layers.dense(inputs=dropout, units=2)\n",
    "    #print(logits.shape)\n",
    "\n",
    "    predictions = {\n",
    "        # Generate predictions (for PREDICT and EVAL mode)\n",
    "        \"classes\": tf.argmax(input=logits, axis=1),\n",
    "        # Add `softmax_tensor` to the graph. It is used for PREDICT and by the\n",
    "        # `logging_hook`.\n",
    "        \"probabilities\": tf.nn.softmax(logits, name=\"softmax_tensor\")\n",
    "    }\n",
    "    if mode == tf.estimator.ModeKeys.PREDICT:\n",
    "        return tf.estimator.EstimatorSpec(mode=mode, predictions=predictions)\n",
    "\n",
    "    # Calculate Loss (for both TRAIN and EVAL modes)\n",
    "    loss = tf.losses.sparse_softmax_cross_entropy(labels=labels, logits=logits)\n",
    "    # sparse_softmax_cross_entropy cannot use one-hot encoding\n",
    "    \n",
    "    #loss = tf.nn.sigmoid_cross_entropy_with_logits(labels=labels, logits=logits)\n",
    "\n",
    "    # Configure the Training Op (for TRAIN mode)\n",
    "    if mode == tf.estimator.ModeKeys.TRAIN:\n",
    "        optimizer = tf.train.GradientDescentOptimizer(learning_rate=0.001)\n",
    "        train_op = optimizer.minimize(\n",
    "            loss=loss,\n",
    "            global_step=tf.train.get_global_step())\n",
    "        return tf.estimator.EstimatorSpec(mode=mode, loss=loss, train_op=train_op)\n",
    "\n",
    "    # Add evaluation metrics (for EVAL mode)\n",
    "    eval_metric_ops = {\n",
    "        \"accuracy\": tf.metrics.accuracy(\n",
    "            labels=labels, predictions=predictions[\"classes\"])}\n",
    "    return tf.estimator.EstimatorSpec(\n",
    "        mode=mode, loss=loss, eval_metric_ops=eval_metric_ops)"
   ]
  },
  {
   "cell_type": "code",
   "execution_count": null,
   "metadata": {},
   "outputs": [],
   "source": [
    "def data_process(d_dir, split_rate):\n",
    "    \n",
    "    num_class = len(d_dir.keys())\n",
    "\n",
    "    out = {}\n",
    "    \n",
    "\n",
    "    for i in range(num_class):\n",
    "        x_train, x_test = train_test_split(d_dir[i], test_size=split_rate)\n",
    "        \n",
    "        if i == 0:\n",
    "            train_temp = x_train\n",
    "            test_temp = x_test\n",
    "        else:\n",
    "            train_temp.extend(x_train)\n",
    "            test_temp.extend(x_test)\n",
    "    \n",
    "    random.shuffle(train_temp)\n",
    "    out['train'] = train_temp\n",
    "    random.shuffle(test_temp)\n",
    "    out['test'] = test_temp\n",
    "    \n",
    "    return out\n",
    "        "
   ]
  },
  {
   "cell_type": "markdown",
   "metadata": {},
   "source": [
    "## Code Run\n",
    "\n",
    "\n",
    "### Training\n",
    "Batch size: 128  \n",
    "Epoch: 5  \n",
    "Shuffle: True  \n",
    "Step: 20000"
   ]
  },
  {
   "cell_type": "markdown",
   "metadata": {},
   "source": [
    "## Loading dataset\n",
    "Load dataset and split them into training data and evaluation data"
   ]
  },
  {
   "cell_type": "code",
   "execution_count": null,
   "metadata": {},
   "outputs": [],
   "source": [
    "image_dir1 = '/dataset/'\n",
    "class_name1 = ['untorn', 'torn']\n",
    "\n",
    "data_dir1 = {}\n",
    "for i in range(len(class_name1)):\n",
    "    temp_dir = image_dir1 + class_name1[i]\n",
    "    img_files = [[os.path.join(temp_dir, f), np.int16(i)] for f in os.listdir(temp_dir) if f.endswith('.png')]\n",
    "    data_dir1[i] = img_files\n",
    "print(len(data_dir1[0]))"
   ]
  },
  {
   "cell_type": "code",
   "execution_count": null,
   "metadata": {},
   "outputs": [],
   "source": [
    "image_dir2 = '/data_oh/train-images/train-images_128/'\n",
    "class_name2 = ['bite', 'cut', 'normal']\n",
    "\n",
    "data_dir2 = {}\n",
    "\n",
    "for i in range(len(class_name2)):\n",
    "    temp_dir = image_dir2 + class_name2[i]\n",
    "    \n",
    "    if i == 2:\n",
    "        label=0\n",
    "    else:\n",
    "        label=1\n",
    "    img_files = [[os.path.join(temp_dir, f), np.int16(label)] for f in os.listdir(temp_dir) if f.endswith('.png')]\n",
    "    data_dir2[i] = img_files\n",
    "print(len(data_dir2[0]))"
   ]
  },
  {
   "cell_type": "code",
   "execution_count": null,
   "metadata": {},
   "outputs": [],
   "source": [
    "image_dir3 = '/data_oh/test-images/test-images_128/'\n",
    "class_name3 = ['bite', 'cut', 'normal']\n",
    "\n",
    "data_dir3 = {}\n",
    "\n",
    "for i in range(len(class_name3)):\n",
    "    temp_dir = image_dir3 + class_name3[i]\n",
    "    \n",
    "    if i == 2:\n",
    "        label=0\n",
    "    else:\n",
    "        label=1\n",
    "    img_files = [[os.path.join(temp_dir, f), np.int16(label)] for f in os.listdir(temp_dir) if f.endswith('.png')]\n",
    "    data_dir3[i] = img_files\n",
    "print(len(data_dir3[0]))"
   ]
  },
  {
   "cell_type": "code",
   "execution_count": null,
   "metadata": {},
   "outputs": [],
   "source": [
    "tr_data_dir = data_process(data_dir1, 0.2)"
   ]
  },
  {
   "cell_type": "code",
   "execution_count": null,
   "metadata": {},
   "outputs": [],
   "source": [
    "tr_temp = tr_data_dir['train']\n",
    "tr_temp.extend(data_dir2[2])\n",
    "tr_temp.extend(data_dir2[1])\n",
    "tr_temp.extend(data_dir2[0])\n",
    "random.shuffle(tr_temp)\n",
    "print(tr_temp)"
   ]
  },
  {
   "cell_type": "code",
   "execution_count": null,
   "metadata": {
    "scrolled": true
   },
   "outputs": [],
   "source": [
    "print(len(tr_temp))\n",
    "tr_data_dir['train'] = tr_temp\n",
    "print(len(tr_data_dir['train']), len(tr_data_dir['test']))"
   ]
  },
  {
   "cell_type": "code",
   "execution_count": null,
   "metadata": {},
   "outputs": [],
   "source": [
    "te_data_dir = data_dir3[0]\n",
    "te_data_dir.extend(data_dir3[1])\n",
    "te_data_dir.extend(data_dir3[2])\n",
    "print(te_data_dir)"
   ]
  },
  {
   "cell_type": "code",
   "execution_count": null,
   "metadata": {},
   "outputs": [],
   "source": [
    "im_width = 640\n",
    "im_height = 480\n",
    "num_chan = 3\n",
    "total_pix = im_width * im_height * num_chan"
   ]
  },
  {
   "cell_type": "code",
   "execution_count": null,
   "metadata": {},
   "outputs": [],
   "source": [
    "tr_data = np.zeros((len(tr_data_dir['train']), total_pix), dtype=np.float32)\n",
    "tr_label = np.zeros((len(tr_data_dir['train']), 1), dtype=np.int32)"
   ]
  },
  {
   "cell_type": "code",
   "execution_count": null,
   "metadata": {},
   "outputs": [],
   "source": [
    "for i in range(len(tr_data_dir['train'])):\n",
    "    img = cv2.imread(tr_data_dir['train'][i][0])\n",
    "    tr_data[i][:] = cv2.resize(img, (im_width, im_height), interpolation=cv2.INTER_CUBIC).flatten()\n",
    "    tr_label[i] = tr_data_dir['train'][i][1]"
   ]
  },
  {
   "cell_type": "code",
   "execution_count": null,
   "metadata": {},
   "outputs": [],
   "source": [
    "ev_data = np.zeros((len(tr_data_dir['test']), total_pix), dtype=np.float32)\n",
    "ev_label = np.zeros((len(tr_data_dir['test']), 1), dtype=np.int32)\n",
    "\n",
    "for i in range(len(tr_data_dir['test'])):\n",
    "    img = cv2.imread(tr_data_dir['test'][i][0])\n",
    "    ev_data[i][:] = cv2.resize(img, (im_width, im_height), interpolation=cv2.INTER_CUBIC).flatten()\n",
    "    ev_label[i] = tr_data_dir['test'][i][1]"
   ]
  },
  {
   "cell_type": "markdown",
   "metadata": {},
   "source": [
    "Batch 16  \n",
    "Epoch 45  \n",
    "Training steps 7400"
   ]
  },
  {
   "cell_type": "code",
   "execution_count": null,
   "metadata": {},
   "outputs": [],
   "source": [
    "today = datetime.today().strftime(\"%Y-%m-%d-%H-%M-%S\")\n",
    "print(today)"
   ]
  },
  {
   "cell_type": "code",
   "execution_count": null,
   "metadata": {
    "scrolled": true
   },
   "outputs": [],
   "source": [
    "config = tf.ConfigProto()\n",
    "config.gpu_options.per_process_gpu_memory_fraction = 0.7\n",
    "session = tf.Session(config=config)\n",
    "\n",
    "# Create the Estimator\n",
    "net_classifier = tf.estimator.Estimator(\n",
    "    model_fn=cnn_model_fn, model_dir=\"/models/CNN2600_blend_%s\" % today)\n",
    "\n",
    "# Set up logging for predictions\n",
    "# Log the values in the \"Softmax\" tensor with label \"probabilities\"\n",
    "tensors_to_log = {\"probabilities\": \"softmax_tensor\"}\n",
    "logging_hook = tf.train.LoggingTensorHook(\n",
    "    tensors=tensors_to_log, every_n_iter=50)\n",
    "\n",
    "batch_s = 16\n",
    "epochs = 15\n",
    "tr_steps = int(tr_data.shape[0]/batch_s*epochs)\n",
    "in_steps = 1\n",
    "print(tr_steps)\n",
    "\n",
    "for d in ['/device:GPU:0', '/device:GPU:1', '/device:GPU:2']:\n",
    "    with tf.device(d):\n",
    "\n",
    "        # Train the model\n",
    "        train_input_fn = tf.estimator.inputs.numpy_input_fn(\n",
    "            x={\"x\": tr_data},\n",
    "            y=tr_label,\n",
    "            batch_size=batch_s,\n",
    "            num_epochs=epochs,\n",
    "            shuffle=True)\n",
    "        net_classifier.train(\n",
    "            input_fn=train_input_fn,\n",
    "            steps=tr_steps,\n",
    "            hooks=[logging_hook])"
   ]
  },
  {
   "cell_type": "code",
   "execution_count": null,
   "metadata": {},
   "outputs": [],
   "source": [
    "config = tf.ConfigProto()\n",
    "config.gpu_options.per_process_gpu_memory_fraction = 0.8\n",
    "session = tf.Session(config=config)\n",
    "\n",
    "ev_results = np.zeros((len(ev_label), 1))\n",
    "with tf.device('/device:GPU:3'):\n",
    "\n",
    "    # Evaluate the model and print results\n",
    "    for i in range(len(ev_label)):\n",
    "        eval_input_fn = tf.estimator.inputs.numpy_input_fn(\n",
    "            x={\"x\": ev_data[i:i+1]},\n",
    "            y=ev_label[i:i+1],\n",
    "            num_epochs=1,\n",
    "            shuffle=False)\n",
    "        eval_results = net_classifier.evaluate(input_fn=eval_input_fn)\n",
    "        \n",
    "        ev_results[i] = eval_results[\"accuracy\"]"
   ]
  },
  {
   "cell_type": "code",
   "execution_count": null,
   "metadata": {
    "scrolled": true
   },
   "outputs": [],
   "source": [
    "print(np.mean(ev_results))"
   ]
  },
  {
   "cell_type": "code",
   "execution_count": null,
   "metadata": {},
   "outputs": [],
   "source": [
    "fail_idx = np.where(ev_results == 0)\n",
    "print(fail_idx[0])\n",
    "print(len(fail_idx[0]))"
   ]
  },
  {
   "cell_type": "code",
   "execution_count": null,
   "metadata": {},
   "outputs": [],
   "source": [
    "for i in range(len(fail_idx[0])):\n",
    "\n",
    "    temp_img = cv2.imread(tr_data_dir['test'][fail_idx[0][i]][0])\n",
    "    \n",
    "    width = 12\n",
    "    height = 12\n",
    "    plt.figure(figsize=(width, height))\n",
    "    plt.axis(\"off\")\n",
    "    plt.imshow(cv2.cvtColor(temp_img, cv2.COLOR_BGR2RGB))\n",
    "    plt.show()"
   ]
  },
  {
   "cell_type": "code",
   "execution_count": null,
   "metadata": {
    "scrolled": true
   },
   "outputs": [],
   "source": [
    "print(te_data_dir[3][0])"
   ]
  },
  {
   "cell_type": "code",
   "execution_count": null,
   "metadata": {},
   "outputs": [],
   "source": [
    "te_data = np.zeros((len(te_data_dir), total_pix), dtype=np.float32)\n",
    "te_label = np.zeros((len(te_data_dir), 1), dtype=np.int32)\n",
    "\n",
    "for i in range(len(te_data_dir)):\n",
    "    img = cv2.imread(te_data_dir[i][0])\n",
    "    te_data[i][:] = cv2.resize(img, (im_width, im_height), interpolation=cv2.INTER_CUBIC).flatten()\n",
    "    te_label[i] = te_data_dir[i][1]"
   ]
  },
  {
   "cell_type": "code",
   "execution_count": null,
   "metadata": {},
   "outputs": [],
   "source": [
    "te_results = np.zeros((len(te_label), 1))\n",
    "with tf.device('/device:GPU:3'):\n",
    "\n",
    "    # Evaluate the model and print results\n",
    "    for i in range(len(te_label)):\n",
    "        eval_input_fn = tf.estimator.inputs.numpy_input_fn(\n",
    "            x={\"x\": te_data[i:i+1]},\n",
    "            y=te_label[i:i+1],\n",
    "            num_epochs=1,\n",
    "            shuffle=False)\n",
    "        eval_results = net_classifier.evaluate(input_fn=eval_input_fn)\n",
    "        \n",
    "        te_results[i] = eval_results[\"accuracy\"]"
   ]
  },
  {
   "cell_type": "code",
   "execution_count": null,
   "metadata": {},
   "outputs": [],
   "source": [
    "print(np.mean(te_results))"
   ]
  },
  {
   "cell_type": "code",
   "execution_count": null,
   "metadata": {},
   "outputs": [],
   "source": [
    "fail_idx2 = np.where(te_results == 0)\n",
    "print(fail_idx2[0])\n",
    "print(len(fail_idx2[0]))"
   ]
  },
  {
   "cell_type": "code",
   "execution_count": null,
   "metadata": {},
   "outputs": [],
   "source": [
    "for i in range(len(fail_idx2[0])):\n",
    "\n",
    "    temp_img = cv2.imread(te_data_dir[fail_idx2[0][i]][0])\n",
    "    \n",
    "    width = 12\n",
    "    height = 12\n",
    "    plt.figure(figsize=(width, height))\n",
    "    plt.axis(\"off\")\n",
    "    plt.imshow(cv2.cvtColor(temp_img, cv2.COLOR_BGR2RGB))\n",
    "    plt.show()"
   ]
  },
  {
   "cell_type": "markdown",
   "metadata": {},
   "source": [
    "안 찢어진 사진 25개 중 18개를 찢어졌다고 판단\n",
    "찢어진 사진 50개 중 1개를 안 찢어졌다고 판단"
   ]
  }
 ],
 "metadata": {
  "kernelspec": {
   "display_name": "Python 3",
   "language": "python",
   "name": "python3"
  },
  "language_info": {
   "codemirror_mode": {
    "name": "ipython",
    "version": 3
   },
   "file_extension": ".py",
   "mimetype": "text/x-python",
   "name": "python",
   "nbconvert_exporter": "python",
   "pygments_lexer": "ipython3",
   "version": "3.5.2"
  }
 },
 "nbformat": 4,
 "nbformat_minor": 1
}
